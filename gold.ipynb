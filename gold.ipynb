{
 "cells": [
  {
   "cell_type": "markdown",
   "metadata": {},
   "source": [
    "# Восстановление золота из руды"
   ]
  },
  {
   "cell_type": "markdown",
   "metadata": {},
   "source": [
    "## Описание задачи"
   ]
  },
  {
   "cell_type": "markdown",
   "metadata": {},
   "source": [
    "Подготовьте прототип модели машинного обучения для «Цифры».  \n",
    "Компания разрабатывает решения для эффективной работы промышленных предприятий.  \n",
    "\n",
    "Модель поможет оптимизировать производство, чтобы не запускать предприятие с убыточными характеристиками.\n",
    "\n",
    "Вам нужно:\n",
    "\n",
    "1. Подготовить данные;\n",
    "2. Провести исследовательский анализ данных;\n",
    "3. Построить и обучить модель.\n",
    "\n",
    "Используйте данные с параметрами добычи и очистки.\n",
    "\n",
    "Чтобы выполнить проект, обращайтесь к библиотекам *pandas*, *matplotlib* и *sklearn.* Вам поможет их документация.\n",
    "\n",
    "<b><i>Модель должна предсказать коэффициент восстановления золота из золотосодержащей руды.</b></i>"
   ]
  },
  {
   "cell_type": "markdown",
   "metadata": {},
   "source": [
    "## Подготовка данных"
   ]
  },
  {
   "cell_type": "code",
   "execution_count": 1,
   "metadata": {},
   "outputs": [],
   "source": [
    "\n",
    "import matplotlib.pyplot as plt\n",
    "import pandas as pd\n",
    "import seaborn as sns\n",
    "from sklearn.dummy import DummyRegressor\n",
    "from sklearn.ensemble import RandomForestRegressor\n",
    "from sklearn.linear_model import LinearRegression\n",
    "from sklearn.metrics import mean_absolute_error, make_scorer\n",
    "from sklearn.model_selection import cross_val_score\n",
    "from sklearn.tree import DecisionTreeRegressor"
   ]
  },
  {
   "cell_type": "markdown",
   "metadata": {},
   "source": [
    "###  Общая информация"
   ]
  },
  {
   "cell_type": "code",
   "execution_count": 2,
   "metadata": {},
   "outputs": [],
   "source": [
    "def df_info(df):\n",
    "    name = [x for x in globals() if globals()[x] is df][0]\n",
    "    dubl = df.duplicated().sum()\n",
    "    display(f\">>> {name} <<<\")\n",
    "    display(df.head())\n",
    "    df.info()\n",
    "    if dubl:\n",
    "        print(f'\\nКоличество дубликатов: {dubl}')\n",
    "    else:\n",
    "        print(f'\\nДубликатов нет')\n",
    "    display(df.describe())\n",
    "    print('\\n——————————————————————————————————————————————————————————————————')"
   ]
  },
  {
   "cell_type": "code",
   "execution_count": 3,
   "metadata": {},
   "outputs": [],
   "source": [
    "df_train = pd.read_csv('gold_recovery_train_new.csv')\n",
    "df_test = pd.read_csv('gold_recovery_test_new.csv')\n",
    "df_full = pd.read_csv('gold_recovery_full_new.csv')"
   ]
  },
  {
   "cell_type": "markdown",
   "metadata": {},
   "source": [
    "Наименование признаков должно быть такое:  \n",
    "`[этап].[тип_параметра].[название_параметра]`  \n",
    "Пример: `rougher.input.feed_ag`  \n",
    "\n",
    "Возможные значения для блока `[этап]`:\n",
    "\n",
    "* `rougher` — флотация\n",
    "* `primary_cleaner` — первичная очистка\n",
    "* `secondary_cleaner` — вторичная очистка\n",
    "* `final` — финальные характеристики\n",
    "\n",
    "Возможные значения для блока `[тип_параметра]`:\n",
    "\n",
    "* `input` — параметры сырья\n",
    "* `output` — параметры продукта\n",
    "* `state` — параметры, характеризующие текущее состояние этапа\n",
    "* `calculation` — расчётные характеристики"
   ]
  },
  {
   "cell_type": "code",
   "execution_count": 4,
   "metadata": {
    "scrolled": true
   },
   "outputs": [
    {
     "data": {
      "text/plain": [
       "'>>> df_train <<<'"
      ]
     },
     "metadata": {},
     "output_type": "display_data"
    },
    {
     "data": {
      "text/html": [
       "<div>\n",
       "<style scoped>\n",
       "    .dataframe tbody tr th:only-of-type {\n",
       "        vertical-align: middle;\n",
       "    }\n",
       "\n",
       "    .dataframe tbody tr th {\n",
       "        vertical-align: top;\n",
       "    }\n",
       "\n",
       "    .dataframe thead th {\n",
       "        text-align: right;\n",
       "    }\n",
       "</style>\n",
       "<table border=\"1\" class=\"dataframe\">\n",
       "  <thead>\n",
       "    <tr style=\"text-align: right;\">\n",
       "      <th></th>\n",
       "      <th>date</th>\n",
       "      <th>final.output.concentrate_ag</th>\n",
       "      <th>final.output.concentrate_pb</th>\n",
       "      <th>final.output.concentrate_sol</th>\n",
       "      <th>final.output.concentrate_au</th>\n",
       "      <th>final.output.recovery</th>\n",
       "      <th>final.output.tail_ag</th>\n",
       "      <th>final.output.tail_pb</th>\n",
       "      <th>final.output.tail_sol</th>\n",
       "      <th>final.output.tail_au</th>\n",
       "      <th>...</th>\n",
       "      <th>secondary_cleaner.state.floatbank4_a_air</th>\n",
       "      <th>secondary_cleaner.state.floatbank4_a_level</th>\n",
       "      <th>secondary_cleaner.state.floatbank4_b_air</th>\n",
       "      <th>secondary_cleaner.state.floatbank4_b_level</th>\n",
       "      <th>secondary_cleaner.state.floatbank5_a_air</th>\n",
       "      <th>secondary_cleaner.state.floatbank5_a_level</th>\n",
       "      <th>secondary_cleaner.state.floatbank5_b_air</th>\n",
       "      <th>secondary_cleaner.state.floatbank5_b_level</th>\n",
       "      <th>secondary_cleaner.state.floatbank6_a_air</th>\n",
       "      <th>secondary_cleaner.state.floatbank6_a_level</th>\n",
       "    </tr>\n",
       "  </thead>\n",
       "  <tbody>\n",
       "    <tr>\n",
       "      <th>0</th>\n",
       "      <td>2016-01-15 00:00:00</td>\n",
       "      <td>6.055403</td>\n",
       "      <td>9.889648</td>\n",
       "      <td>5.507324</td>\n",
       "      <td>42.192020</td>\n",
       "      <td>70.541216</td>\n",
       "      <td>10.411962</td>\n",
       "      <td>0.895447</td>\n",
       "      <td>16.904297</td>\n",
       "      <td>2.143149</td>\n",
       "      <td>...</td>\n",
       "      <td>14.016835</td>\n",
       "      <td>-502.488007</td>\n",
       "      <td>12.099931</td>\n",
       "      <td>-504.715942</td>\n",
       "      <td>9.925633</td>\n",
       "      <td>-498.310211</td>\n",
       "      <td>8.079666</td>\n",
       "      <td>-500.470978</td>\n",
       "      <td>14.151341</td>\n",
       "      <td>-605.841980</td>\n",
       "    </tr>\n",
       "    <tr>\n",
       "      <th>1</th>\n",
       "      <td>2016-01-15 01:00:00</td>\n",
       "      <td>6.029369</td>\n",
       "      <td>9.968944</td>\n",
       "      <td>5.257781</td>\n",
       "      <td>42.701629</td>\n",
       "      <td>69.266198</td>\n",
       "      <td>10.462676</td>\n",
       "      <td>0.927452</td>\n",
       "      <td>16.634514</td>\n",
       "      <td>2.224930</td>\n",
       "      <td>...</td>\n",
       "      <td>13.992281</td>\n",
       "      <td>-505.503262</td>\n",
       "      <td>11.950531</td>\n",
       "      <td>-501.331529</td>\n",
       "      <td>10.039245</td>\n",
       "      <td>-500.169983</td>\n",
       "      <td>7.984757</td>\n",
       "      <td>-500.582168</td>\n",
       "      <td>13.998353</td>\n",
       "      <td>-599.787184</td>\n",
       "    </tr>\n",
       "    <tr>\n",
       "      <th>2</th>\n",
       "      <td>2016-01-15 02:00:00</td>\n",
       "      <td>6.055926</td>\n",
       "      <td>10.213995</td>\n",
       "      <td>5.383759</td>\n",
       "      <td>42.657501</td>\n",
       "      <td>68.116445</td>\n",
       "      <td>10.507046</td>\n",
       "      <td>0.953716</td>\n",
       "      <td>16.208849</td>\n",
       "      <td>2.257889</td>\n",
       "      <td>...</td>\n",
       "      <td>14.015015</td>\n",
       "      <td>-502.520901</td>\n",
       "      <td>11.912783</td>\n",
       "      <td>-501.133383</td>\n",
       "      <td>10.070913</td>\n",
       "      <td>-500.129135</td>\n",
       "      <td>8.013877</td>\n",
       "      <td>-500.517572</td>\n",
       "      <td>14.028663</td>\n",
       "      <td>-601.427363</td>\n",
       "    </tr>\n",
       "    <tr>\n",
       "      <th>3</th>\n",
       "      <td>2016-01-15 03:00:00</td>\n",
       "      <td>6.047977</td>\n",
       "      <td>9.977019</td>\n",
       "      <td>4.858634</td>\n",
       "      <td>42.689819</td>\n",
       "      <td>68.347543</td>\n",
       "      <td>10.422762</td>\n",
       "      <td>0.883763</td>\n",
       "      <td>16.532835</td>\n",
       "      <td>2.146849</td>\n",
       "      <td>...</td>\n",
       "      <td>14.036510</td>\n",
       "      <td>-500.857308</td>\n",
       "      <td>11.999550</td>\n",
       "      <td>-501.193686</td>\n",
       "      <td>9.970366</td>\n",
       "      <td>-499.201640</td>\n",
       "      <td>7.977324</td>\n",
       "      <td>-500.255908</td>\n",
       "      <td>14.005551</td>\n",
       "      <td>-599.996129</td>\n",
       "    </tr>\n",
       "    <tr>\n",
       "      <th>4</th>\n",
       "      <td>2016-01-15 04:00:00</td>\n",
       "      <td>6.148599</td>\n",
       "      <td>10.142511</td>\n",
       "      <td>4.939416</td>\n",
       "      <td>42.774141</td>\n",
       "      <td>66.927016</td>\n",
       "      <td>10.360302</td>\n",
       "      <td>0.792826</td>\n",
       "      <td>16.525686</td>\n",
       "      <td>2.055292</td>\n",
       "      <td>...</td>\n",
       "      <td>14.027298</td>\n",
       "      <td>-499.838632</td>\n",
       "      <td>11.953070</td>\n",
       "      <td>-501.053894</td>\n",
       "      <td>9.925709</td>\n",
       "      <td>-501.686727</td>\n",
       "      <td>7.894242</td>\n",
       "      <td>-500.356035</td>\n",
       "      <td>13.996647</td>\n",
       "      <td>-601.496691</td>\n",
       "    </tr>\n",
       "  </tbody>\n",
       "</table>\n",
       "<p>5 rows × 87 columns</p>\n",
       "</div>"
      ],
      "text/plain": [
       "                  date  final.output.concentrate_ag  \\\n",
       "0  2016-01-15 00:00:00                     6.055403   \n",
       "1  2016-01-15 01:00:00                     6.029369   \n",
       "2  2016-01-15 02:00:00                     6.055926   \n",
       "3  2016-01-15 03:00:00                     6.047977   \n",
       "4  2016-01-15 04:00:00                     6.148599   \n",
       "\n",
       "   final.output.concentrate_pb  final.output.concentrate_sol  \\\n",
       "0                     9.889648                      5.507324   \n",
       "1                     9.968944                      5.257781   \n",
       "2                    10.213995                      5.383759   \n",
       "3                     9.977019                      4.858634   \n",
       "4                    10.142511                      4.939416   \n",
       "\n",
       "   final.output.concentrate_au  final.output.recovery  final.output.tail_ag  \\\n",
       "0                    42.192020              70.541216             10.411962   \n",
       "1                    42.701629              69.266198             10.462676   \n",
       "2                    42.657501              68.116445             10.507046   \n",
       "3                    42.689819              68.347543             10.422762   \n",
       "4                    42.774141              66.927016             10.360302   \n",
       "\n",
       "   final.output.tail_pb  final.output.tail_sol  final.output.tail_au  ...  \\\n",
       "0              0.895447              16.904297              2.143149  ...   \n",
       "1              0.927452              16.634514              2.224930  ...   \n",
       "2              0.953716              16.208849              2.257889  ...   \n",
       "3              0.883763              16.532835              2.146849  ...   \n",
       "4              0.792826              16.525686              2.055292  ...   \n",
       "\n",
       "   secondary_cleaner.state.floatbank4_a_air  \\\n",
       "0                                 14.016835   \n",
       "1                                 13.992281   \n",
       "2                                 14.015015   \n",
       "3                                 14.036510   \n",
       "4                                 14.027298   \n",
       "\n",
       "   secondary_cleaner.state.floatbank4_a_level  \\\n",
       "0                                 -502.488007   \n",
       "1                                 -505.503262   \n",
       "2                                 -502.520901   \n",
       "3                                 -500.857308   \n",
       "4                                 -499.838632   \n",
       "\n",
       "   secondary_cleaner.state.floatbank4_b_air  \\\n",
       "0                                 12.099931   \n",
       "1                                 11.950531   \n",
       "2                                 11.912783   \n",
       "3                                 11.999550   \n",
       "4                                 11.953070   \n",
       "\n",
       "   secondary_cleaner.state.floatbank4_b_level  \\\n",
       "0                                 -504.715942   \n",
       "1                                 -501.331529   \n",
       "2                                 -501.133383   \n",
       "3                                 -501.193686   \n",
       "4                                 -501.053894   \n",
       "\n",
       "   secondary_cleaner.state.floatbank5_a_air  \\\n",
       "0                                  9.925633   \n",
       "1                                 10.039245   \n",
       "2                                 10.070913   \n",
       "3                                  9.970366   \n",
       "4                                  9.925709   \n",
       "\n",
       "   secondary_cleaner.state.floatbank5_a_level  \\\n",
       "0                                 -498.310211   \n",
       "1                                 -500.169983   \n",
       "2                                 -500.129135   \n",
       "3                                 -499.201640   \n",
       "4                                 -501.686727   \n",
       "\n",
       "   secondary_cleaner.state.floatbank5_b_air  \\\n",
       "0                                  8.079666   \n",
       "1                                  7.984757   \n",
       "2                                  8.013877   \n",
       "3                                  7.977324   \n",
       "4                                  7.894242   \n",
       "\n",
       "   secondary_cleaner.state.floatbank5_b_level  \\\n",
       "0                                 -500.470978   \n",
       "1                                 -500.582168   \n",
       "2                                 -500.517572   \n",
       "3                                 -500.255908   \n",
       "4                                 -500.356035   \n",
       "\n",
       "   secondary_cleaner.state.floatbank6_a_air  \\\n",
       "0                                 14.151341   \n",
       "1                                 13.998353   \n",
       "2                                 14.028663   \n",
       "3                                 14.005551   \n",
       "4                                 13.996647   \n",
       "\n",
       "   secondary_cleaner.state.floatbank6_a_level  \n",
       "0                                 -605.841980  \n",
       "1                                 -599.787184  \n",
       "2                                 -601.427363  \n",
       "3                                 -599.996129  \n",
       "4                                 -601.496691  \n",
       "\n",
       "[5 rows x 87 columns]"
      ]
     },
     "metadata": {},
     "output_type": "display_data"
    },
    {
     "name": "stdout",
     "output_type": "stream",
     "text": [
      "<class 'pandas.core.frame.DataFrame'>\n",
      "RangeIndex: 14149 entries, 0 to 14148\n",
      "Data columns (total 87 columns):\n",
      " #   Column                                              Non-Null Count  Dtype  \n",
      "---  ------                                              --------------  -----  \n",
      " 0   date                                                14149 non-null  object \n",
      " 1   final.output.concentrate_ag                         14148 non-null  float64\n",
      " 2   final.output.concentrate_pb                         14148 non-null  float64\n",
      " 3   final.output.concentrate_sol                        13938 non-null  float64\n",
      " 4   final.output.concentrate_au                         14149 non-null  float64\n",
      " 5   final.output.recovery                               14149 non-null  float64\n",
      " 6   final.output.tail_ag                                14149 non-null  float64\n",
      " 7   final.output.tail_pb                                14049 non-null  float64\n",
      " 8   final.output.tail_sol                               14144 non-null  float64\n",
      " 9   final.output.tail_au                                14149 non-null  float64\n",
      " 10  primary_cleaner.input.sulfate                       14129 non-null  float64\n",
      " 11  primary_cleaner.input.depressant                    14117 non-null  float64\n",
      " 12  primary_cleaner.input.feed_size                     14149 non-null  float64\n",
      " 13  primary_cleaner.input.xanthate                      14049 non-null  float64\n",
      " 14  primary_cleaner.output.concentrate_ag               14149 non-null  float64\n",
      " 15  primary_cleaner.output.concentrate_pb               14063 non-null  float64\n",
      " 16  primary_cleaner.output.concentrate_sol              13863 non-null  float64\n",
      " 17  primary_cleaner.output.concentrate_au               14149 non-null  float64\n",
      " 18  primary_cleaner.output.tail_ag                      14148 non-null  float64\n",
      " 19  primary_cleaner.output.tail_pb                      14134 non-null  float64\n",
      " 20  primary_cleaner.output.tail_sol                     14103 non-null  float64\n",
      " 21  primary_cleaner.output.tail_au                      14149 non-null  float64\n",
      " 22  primary_cleaner.state.floatbank8_a_air              14145 non-null  float64\n",
      " 23  primary_cleaner.state.floatbank8_a_level            14148 non-null  float64\n",
      " 24  primary_cleaner.state.floatbank8_b_air              14145 non-null  float64\n",
      " 25  primary_cleaner.state.floatbank8_b_level            14148 non-null  float64\n",
      " 26  primary_cleaner.state.floatbank8_c_air              14147 non-null  float64\n",
      " 27  primary_cleaner.state.floatbank8_c_level            14148 non-null  float64\n",
      " 28  primary_cleaner.state.floatbank8_d_air              14146 non-null  float64\n",
      " 29  primary_cleaner.state.floatbank8_d_level            14148 non-null  float64\n",
      " 30  rougher.calculation.sulfate_to_au_concentrate       14148 non-null  float64\n",
      " 31  rougher.calculation.floatbank10_sulfate_to_au_feed  14148 non-null  float64\n",
      " 32  rougher.calculation.floatbank11_sulfate_to_au_feed  14148 non-null  float64\n",
      " 33  rougher.calculation.au_pb_ratio                     14149 non-null  float64\n",
      " 34  rougher.input.feed_ag                               14149 non-null  float64\n",
      " 35  rougher.input.feed_pb                               14049 non-null  float64\n",
      " 36  rougher.input.feed_rate                             14141 non-null  float64\n",
      " 37  rougher.input.feed_size                             14005 non-null  float64\n",
      " 38  rougher.input.feed_sol                              14071 non-null  float64\n",
      " 39  rougher.input.feed_au                               14149 non-null  float64\n",
      " 40  rougher.input.floatbank10_sulfate                   14120 non-null  float64\n",
      " 41  rougher.input.floatbank10_xanthate                  14141 non-null  float64\n",
      " 42  rougher.input.floatbank11_sulfate                   14113 non-null  float64\n",
      " 43  rougher.input.floatbank11_xanthate                  13721 non-null  float64\n",
      " 44  rougher.output.concentrate_ag                       14149 non-null  float64\n",
      " 45  rougher.output.concentrate_pb                       14149 non-null  float64\n",
      " 46  rougher.output.concentrate_sol                      14127 non-null  float64\n",
      " 47  rougher.output.concentrate_au                       14149 non-null  float64\n",
      " 48  rougher.output.recovery                             14149 non-null  float64\n",
      " 49  rougher.output.tail_ag                              14148 non-null  float64\n",
      " 50  rougher.output.tail_pb                              14149 non-null  float64\n",
      " 51  rougher.output.tail_sol                             14149 non-null  float64\n",
      " 52  rougher.output.tail_au                              14149 non-null  float64\n",
      " 53  rougher.state.floatbank10_a_air                     14148 non-null  float64\n",
      " 54  rougher.state.floatbank10_a_level                   14148 non-null  float64\n",
      " 55  rougher.state.floatbank10_b_air                     14148 non-null  float64\n",
      " 56  rougher.state.floatbank10_b_level                   14148 non-null  float64\n",
      " 57  rougher.state.floatbank10_c_air                     14148 non-null  float64\n",
      " 58  rougher.state.floatbank10_c_level                   14148 non-null  float64\n",
      " 59  rougher.state.floatbank10_d_air                     14149 non-null  float64\n",
      " 60  rougher.state.floatbank10_d_level                   14149 non-null  float64\n",
      " 61  rougher.state.floatbank10_e_air                     13713 non-null  float64\n",
      " 62  rougher.state.floatbank10_e_level                   14149 non-null  float64\n",
      " 63  rougher.state.floatbank10_f_air                     14149 non-null  float64\n",
      " 64  rougher.state.floatbank10_f_level                   14149 non-null  float64\n",
      " 65  secondary_cleaner.output.tail_ag                    14147 non-null  float64\n",
      " 66  secondary_cleaner.output.tail_pb                    14139 non-null  float64\n",
      " 67  secondary_cleaner.output.tail_sol                   12544 non-null  float64\n",
      " 68  secondary_cleaner.output.tail_au                    14149 non-null  float64\n",
      " 69  secondary_cleaner.state.floatbank2_a_air            13932 non-null  float64\n",
      " 70  secondary_cleaner.state.floatbank2_a_level          14148 non-null  float64\n",
      " 71  secondary_cleaner.state.floatbank2_b_air            14128 non-null  float64\n",
      " 72  secondary_cleaner.state.floatbank2_b_level          14148 non-null  float64\n",
      " 73  secondary_cleaner.state.floatbank3_a_air            14145 non-null  float64\n",
      " 74  secondary_cleaner.state.floatbank3_a_level          14148 non-null  float64\n",
      " 75  secondary_cleaner.state.floatbank3_b_air            14148 non-null  float64\n",
      " 76  secondary_cleaner.state.floatbank3_b_level          14148 non-null  float64\n",
      " 77  secondary_cleaner.state.floatbank4_a_air            14143 non-null  float64\n",
      " 78  secondary_cleaner.state.floatbank4_a_level          14148 non-null  float64\n",
      " 79  secondary_cleaner.state.floatbank4_b_air            14148 non-null  float64\n",
      " 80  secondary_cleaner.state.floatbank4_b_level          14148 non-null  float64\n",
      " 81  secondary_cleaner.state.floatbank5_a_air            14148 non-null  float64\n",
      " 82  secondary_cleaner.state.floatbank5_a_level          14148 non-null  float64\n",
      " 83  secondary_cleaner.state.floatbank5_b_air            14148 non-null  float64\n",
      " 84  secondary_cleaner.state.floatbank5_b_level          14148 non-null  float64\n",
      " 85  secondary_cleaner.state.floatbank6_a_air            14147 non-null  float64\n",
      " 86  secondary_cleaner.state.floatbank6_a_level          14148 non-null  float64\n",
      "dtypes: float64(86), object(1)\n",
      "memory usage: 9.4+ MB\n",
      "\n",
      "Дубликатов нет\n"
     ]
    },
    {
     "data": {
      "text/html": [
       "<div>\n",
       "<style scoped>\n",
       "    .dataframe tbody tr th:only-of-type {\n",
       "        vertical-align: middle;\n",
       "    }\n",
       "\n",
       "    .dataframe tbody tr th {\n",
       "        vertical-align: top;\n",
       "    }\n",
       "\n",
       "    .dataframe thead th {\n",
       "        text-align: right;\n",
       "    }\n",
       "</style>\n",
       "<table border=\"1\" class=\"dataframe\">\n",
       "  <thead>\n",
       "    <tr style=\"text-align: right;\">\n",
       "      <th></th>\n",
       "      <th>final.output.concentrate_ag</th>\n",
       "      <th>final.output.concentrate_pb</th>\n",
       "      <th>final.output.concentrate_sol</th>\n",
       "      <th>final.output.concentrate_au</th>\n",
       "      <th>final.output.recovery</th>\n",
       "      <th>final.output.tail_ag</th>\n",
       "      <th>final.output.tail_pb</th>\n",
       "      <th>final.output.tail_sol</th>\n",
       "      <th>final.output.tail_au</th>\n",
       "      <th>primary_cleaner.input.sulfate</th>\n",
       "      <th>...</th>\n",
       "      <th>secondary_cleaner.state.floatbank4_a_air</th>\n",
       "      <th>secondary_cleaner.state.floatbank4_a_level</th>\n",
       "      <th>secondary_cleaner.state.floatbank4_b_air</th>\n",
       "      <th>secondary_cleaner.state.floatbank4_b_level</th>\n",
       "      <th>secondary_cleaner.state.floatbank5_a_air</th>\n",
       "      <th>secondary_cleaner.state.floatbank5_a_level</th>\n",
       "      <th>secondary_cleaner.state.floatbank5_b_air</th>\n",
       "      <th>secondary_cleaner.state.floatbank5_b_level</th>\n",
       "      <th>secondary_cleaner.state.floatbank6_a_air</th>\n",
       "      <th>secondary_cleaner.state.floatbank6_a_level</th>\n",
       "    </tr>\n",
       "  </thead>\n",
       "  <tbody>\n",
       "    <tr>\n",
       "      <th>count</th>\n",
       "      <td>14148.000000</td>\n",
       "      <td>14148.000000</td>\n",
       "      <td>13938.000000</td>\n",
       "      <td>14149.000000</td>\n",
       "      <td>14149.000000</td>\n",
       "      <td>14149.000000</td>\n",
       "      <td>14049.000000</td>\n",
       "      <td>14144.000000</td>\n",
       "      <td>14149.000000</td>\n",
       "      <td>14129.000000</td>\n",
       "      <td>...</td>\n",
       "      <td>14143.000000</td>\n",
       "      <td>14148.000000</td>\n",
       "      <td>14148.000000</td>\n",
       "      <td>14148.000000</td>\n",
       "      <td>14148.000000</td>\n",
       "      <td>14148.000000</td>\n",
       "      <td>14148.000000</td>\n",
       "      <td>14148.000000</td>\n",
       "      <td>14147.000000</td>\n",
       "      <td>14148.000000</td>\n",
       "    </tr>\n",
       "    <tr>\n",
       "      <th>mean</th>\n",
       "      <td>5.142034</td>\n",
       "      <td>10.132960</td>\n",
       "      <td>9.202849</td>\n",
       "      <td>44.003792</td>\n",
       "      <td>66.518832</td>\n",
       "      <td>9.607035</td>\n",
       "      <td>2.597298</td>\n",
       "      <td>10.512122</td>\n",
       "      <td>2.918421</td>\n",
       "      <td>133.320659</td>\n",
       "      <td>...</td>\n",
       "      <td>19.985454</td>\n",
       "      <td>-478.696836</td>\n",
       "      <td>15.487065</td>\n",
       "      <td>-460.229416</td>\n",
       "      <td>16.775136</td>\n",
       "      <td>-483.956022</td>\n",
       "      <td>13.064590</td>\n",
       "      <td>-483.966564</td>\n",
       "      <td>19.577539</td>\n",
       "      <td>-506.798480</td>\n",
       "    </tr>\n",
       "    <tr>\n",
       "      <th>std</th>\n",
       "      <td>1.369586</td>\n",
       "      <td>1.654930</td>\n",
       "      <td>2.790516</td>\n",
       "      <td>4.905261</td>\n",
       "      <td>10.295402</td>\n",
       "      <td>2.319069</td>\n",
       "      <td>0.971843</td>\n",
       "      <td>3.003617</td>\n",
       "      <td>0.903712</td>\n",
       "      <td>39.431659</td>\n",
       "      <td>...</td>\n",
       "      <td>5.657723</td>\n",
       "      <td>50.736021</td>\n",
       "      <td>5.255655</td>\n",
       "      <td>58.843586</td>\n",
       "      <td>5.831906</td>\n",
       "      <td>37.892788</td>\n",
       "      <td>5.765617</td>\n",
       "      <td>39.207913</td>\n",
       "      <td>5.764417</td>\n",
       "      <td>37.079249</td>\n",
       "    </tr>\n",
       "    <tr>\n",
       "      <th>min</th>\n",
       "      <td>0.000000</td>\n",
       "      <td>0.000000</td>\n",
       "      <td>0.000000</td>\n",
       "      <td>0.000000</td>\n",
       "      <td>0.000000</td>\n",
       "      <td>0.000000</td>\n",
       "      <td>0.000000</td>\n",
       "      <td>0.000000</td>\n",
       "      <td>0.000000</td>\n",
       "      <td>0.003112</td>\n",
       "      <td>...</td>\n",
       "      <td>0.000000</td>\n",
       "      <td>-799.709069</td>\n",
       "      <td>0.000000</td>\n",
       "      <td>-799.889113</td>\n",
       "      <td>-0.372054</td>\n",
       "      <td>-797.142475</td>\n",
       "      <td>0.646208</td>\n",
       "      <td>-800.006180</td>\n",
       "      <td>0.195324</td>\n",
       "      <td>-809.398668</td>\n",
       "    </tr>\n",
       "    <tr>\n",
       "      <th>25%</th>\n",
       "      <td>4.211620</td>\n",
       "      <td>9.297355</td>\n",
       "      <td>7.484645</td>\n",
       "      <td>43.276111</td>\n",
       "      <td>62.545817</td>\n",
       "      <td>7.997429</td>\n",
       "      <td>1.905973</td>\n",
       "      <td>8.811324</td>\n",
       "      <td>2.368607</td>\n",
       "      <td>107.006651</td>\n",
       "      <td>...</td>\n",
       "      <td>14.990775</td>\n",
       "      <td>-500.628656</td>\n",
       "      <td>11.894558</td>\n",
       "      <td>-500.149000</td>\n",
       "      <td>11.083980</td>\n",
       "      <td>-500.363177</td>\n",
       "      <td>8.994405</td>\n",
       "      <td>-500.105994</td>\n",
       "      <td>14.989304</td>\n",
       "      <td>-500.745104</td>\n",
       "    </tr>\n",
       "    <tr>\n",
       "      <th>50%</th>\n",
       "      <td>4.994652</td>\n",
       "      <td>10.297144</td>\n",
       "      <td>8.845462</td>\n",
       "      <td>44.872436</td>\n",
       "      <td>67.432775</td>\n",
       "      <td>9.480270</td>\n",
       "      <td>2.592022</td>\n",
       "      <td>10.514621</td>\n",
       "      <td>2.851025</td>\n",
       "      <td>133.018328</td>\n",
       "      <td>...</td>\n",
       "      <td>20.001789</td>\n",
       "      <td>-499.681450</td>\n",
       "      <td>14.975536</td>\n",
       "      <td>-499.388738</td>\n",
       "      <td>17.932223</td>\n",
       "      <td>-499.702452</td>\n",
       "      <td>11.997547</td>\n",
       "      <td>-499.914556</td>\n",
       "      <td>19.984175</td>\n",
       "      <td>-500.061431</td>\n",
       "    </tr>\n",
       "    <tr>\n",
       "      <th>75%</th>\n",
       "      <td>5.859540</td>\n",
       "      <td>11.170603</td>\n",
       "      <td>10.487508</td>\n",
       "      <td>46.166425</td>\n",
       "      <td>72.346428</td>\n",
       "      <td>11.003707</td>\n",
       "      <td>3.241723</td>\n",
       "      <td>11.933009</td>\n",
       "      <td>3.434764</td>\n",
       "      <td>159.825396</td>\n",
       "      <td>...</td>\n",
       "      <td>24.990826</td>\n",
       "      <td>-477.472413</td>\n",
       "      <td>20.059375</td>\n",
       "      <td>-400.039008</td>\n",
       "      <td>21.346550</td>\n",
       "      <td>-487.712108</td>\n",
       "      <td>17.982903</td>\n",
       "      <td>-453.186936</td>\n",
       "      <td>24.991623</td>\n",
       "      <td>-499.536466</td>\n",
       "    </tr>\n",
       "    <tr>\n",
       "      <th>max</th>\n",
       "      <td>16.001945</td>\n",
       "      <td>17.031899</td>\n",
       "      <td>18.124851</td>\n",
       "      <td>52.756638</td>\n",
       "      <td>100.000000</td>\n",
       "      <td>19.552149</td>\n",
       "      <td>5.639565</td>\n",
       "      <td>22.317730</td>\n",
       "      <td>8.197408</td>\n",
       "      <td>250.127834</td>\n",
       "      <td>...</td>\n",
       "      <td>30.115735</td>\n",
       "      <td>-245.239184</td>\n",
       "      <td>24.007913</td>\n",
       "      <td>-145.071088</td>\n",
       "      <td>43.709931</td>\n",
       "      <td>-275.073125</td>\n",
       "      <td>27.926001</td>\n",
       "      <td>-157.396071</td>\n",
       "      <td>32.188906</td>\n",
       "      <td>-104.427459</td>\n",
       "    </tr>\n",
       "  </tbody>\n",
       "</table>\n",
       "<p>8 rows × 86 columns</p>\n",
       "</div>"
      ],
      "text/plain": [
       "       final.output.concentrate_ag  final.output.concentrate_pb  \\\n",
       "count                 14148.000000                 14148.000000   \n",
       "mean                      5.142034                    10.132960   \n",
       "std                       1.369586                     1.654930   \n",
       "min                       0.000000                     0.000000   \n",
       "25%                       4.211620                     9.297355   \n",
       "50%                       4.994652                    10.297144   \n",
       "75%                       5.859540                    11.170603   \n",
       "max                      16.001945                    17.031899   \n",
       "\n",
       "       final.output.concentrate_sol  final.output.concentrate_au  \\\n",
       "count                  13938.000000                 14149.000000   \n",
       "mean                       9.202849                    44.003792   \n",
       "std                        2.790516                     4.905261   \n",
       "min                        0.000000                     0.000000   \n",
       "25%                        7.484645                    43.276111   \n",
       "50%                        8.845462                    44.872436   \n",
       "75%                       10.487508                    46.166425   \n",
       "max                       18.124851                    52.756638   \n",
       "\n",
       "       final.output.recovery  final.output.tail_ag  final.output.tail_pb  \\\n",
       "count           14149.000000          14149.000000          14049.000000   \n",
       "mean               66.518832              9.607035              2.597298   \n",
       "std                10.295402              2.319069              0.971843   \n",
       "min                 0.000000              0.000000              0.000000   \n",
       "25%                62.545817              7.997429              1.905973   \n",
       "50%                67.432775              9.480270              2.592022   \n",
       "75%                72.346428             11.003707              3.241723   \n",
       "max               100.000000             19.552149              5.639565   \n",
       "\n",
       "       final.output.tail_sol  final.output.tail_au  \\\n",
       "count           14144.000000          14149.000000   \n",
       "mean               10.512122              2.918421   \n",
       "std                 3.003617              0.903712   \n",
       "min                 0.000000              0.000000   \n",
       "25%                 8.811324              2.368607   \n",
       "50%                10.514621              2.851025   \n",
       "75%                11.933009              3.434764   \n",
       "max                22.317730              8.197408   \n",
       "\n",
       "       primary_cleaner.input.sulfate  ...  \\\n",
       "count                   14129.000000  ...   \n",
       "mean                      133.320659  ...   \n",
       "std                        39.431659  ...   \n",
       "min                         0.003112  ...   \n",
       "25%                       107.006651  ...   \n",
       "50%                       133.018328  ...   \n",
       "75%                       159.825396  ...   \n",
       "max                       250.127834  ...   \n",
       "\n",
       "       secondary_cleaner.state.floatbank4_a_air  \\\n",
       "count                              14143.000000   \n",
       "mean                                  19.985454   \n",
       "std                                    5.657723   \n",
       "min                                    0.000000   \n",
       "25%                                   14.990775   \n",
       "50%                                   20.001789   \n",
       "75%                                   24.990826   \n",
       "max                                   30.115735   \n",
       "\n",
       "       secondary_cleaner.state.floatbank4_a_level  \\\n",
       "count                                14148.000000   \n",
       "mean                                  -478.696836   \n",
       "std                                     50.736021   \n",
       "min                                   -799.709069   \n",
       "25%                                   -500.628656   \n",
       "50%                                   -499.681450   \n",
       "75%                                   -477.472413   \n",
       "max                                   -245.239184   \n",
       "\n",
       "       secondary_cleaner.state.floatbank4_b_air  \\\n",
       "count                              14148.000000   \n",
       "mean                                  15.487065   \n",
       "std                                    5.255655   \n",
       "min                                    0.000000   \n",
       "25%                                   11.894558   \n",
       "50%                                   14.975536   \n",
       "75%                                   20.059375   \n",
       "max                                   24.007913   \n",
       "\n",
       "       secondary_cleaner.state.floatbank4_b_level  \\\n",
       "count                                14148.000000   \n",
       "mean                                  -460.229416   \n",
       "std                                     58.843586   \n",
       "min                                   -799.889113   \n",
       "25%                                   -500.149000   \n",
       "50%                                   -499.388738   \n",
       "75%                                   -400.039008   \n",
       "max                                   -145.071088   \n",
       "\n",
       "       secondary_cleaner.state.floatbank5_a_air  \\\n",
       "count                              14148.000000   \n",
       "mean                                  16.775136   \n",
       "std                                    5.831906   \n",
       "min                                   -0.372054   \n",
       "25%                                   11.083980   \n",
       "50%                                   17.932223   \n",
       "75%                                   21.346550   \n",
       "max                                   43.709931   \n",
       "\n",
       "       secondary_cleaner.state.floatbank5_a_level  \\\n",
       "count                                14148.000000   \n",
       "mean                                  -483.956022   \n",
       "std                                     37.892788   \n",
       "min                                   -797.142475   \n",
       "25%                                   -500.363177   \n",
       "50%                                   -499.702452   \n",
       "75%                                   -487.712108   \n",
       "max                                   -275.073125   \n",
       "\n",
       "       secondary_cleaner.state.floatbank5_b_air  \\\n",
       "count                              14148.000000   \n",
       "mean                                  13.064590   \n",
       "std                                    5.765617   \n",
       "min                                    0.646208   \n",
       "25%                                    8.994405   \n",
       "50%                                   11.997547   \n",
       "75%                                   17.982903   \n",
       "max                                   27.926001   \n",
       "\n",
       "       secondary_cleaner.state.floatbank5_b_level  \\\n",
       "count                                14148.000000   \n",
       "mean                                  -483.966564   \n",
       "std                                     39.207913   \n",
       "min                                   -800.006180   \n",
       "25%                                   -500.105994   \n",
       "50%                                   -499.914556   \n",
       "75%                                   -453.186936   \n",
       "max                                   -157.396071   \n",
       "\n",
       "       secondary_cleaner.state.floatbank6_a_air  \\\n",
       "count                              14147.000000   \n",
       "mean                                  19.577539   \n",
       "std                                    5.764417   \n",
       "min                                    0.195324   \n",
       "25%                                   14.989304   \n",
       "50%                                   19.984175   \n",
       "75%                                   24.991623   \n",
       "max                                   32.188906   \n",
       "\n",
       "       secondary_cleaner.state.floatbank6_a_level  \n",
       "count                                14148.000000  \n",
       "mean                                  -506.798480  \n",
       "std                                     37.079249  \n",
       "min                                   -809.398668  \n",
       "25%                                   -500.745104  \n",
       "50%                                   -500.061431  \n",
       "75%                                   -499.536466  \n",
       "max                                   -104.427459  \n",
       "\n",
       "[8 rows x 86 columns]"
      ]
     },
     "metadata": {},
     "output_type": "display_data"
    },
    {
     "name": "stdout",
     "output_type": "stream",
     "text": [
      "\n",
      "——————————————————————————————————————————————————————————————————\n"
     ]
    },
    {
     "data": {
      "text/plain": [
       "'>>> df_test <<<'"
      ]
     },
     "metadata": {},
     "output_type": "display_data"
    },
    {
     "data": {
      "text/html": [
       "<div>\n",
       "<style scoped>\n",
       "    .dataframe tbody tr th:only-of-type {\n",
       "        vertical-align: middle;\n",
       "    }\n",
       "\n",
       "    .dataframe tbody tr th {\n",
       "        vertical-align: top;\n",
       "    }\n",
       "\n",
       "    .dataframe thead th {\n",
       "        text-align: right;\n",
       "    }\n",
       "</style>\n",
       "<table border=\"1\" class=\"dataframe\">\n",
       "  <thead>\n",
       "    <tr style=\"text-align: right;\">\n",
       "      <th></th>\n",
       "      <th>date</th>\n",
       "      <th>primary_cleaner.input.sulfate</th>\n",
       "      <th>primary_cleaner.input.depressant</th>\n",
       "      <th>primary_cleaner.input.feed_size</th>\n",
       "      <th>primary_cleaner.input.xanthate</th>\n",
       "      <th>primary_cleaner.state.floatbank8_a_air</th>\n",
       "      <th>primary_cleaner.state.floatbank8_a_level</th>\n",
       "      <th>primary_cleaner.state.floatbank8_b_air</th>\n",
       "      <th>primary_cleaner.state.floatbank8_b_level</th>\n",
       "      <th>primary_cleaner.state.floatbank8_c_air</th>\n",
       "      <th>...</th>\n",
       "      <th>secondary_cleaner.state.floatbank4_a_air</th>\n",
       "      <th>secondary_cleaner.state.floatbank4_a_level</th>\n",
       "      <th>secondary_cleaner.state.floatbank4_b_air</th>\n",
       "      <th>secondary_cleaner.state.floatbank4_b_level</th>\n",
       "      <th>secondary_cleaner.state.floatbank5_a_air</th>\n",
       "      <th>secondary_cleaner.state.floatbank5_a_level</th>\n",
       "      <th>secondary_cleaner.state.floatbank5_b_air</th>\n",
       "      <th>secondary_cleaner.state.floatbank5_b_level</th>\n",
       "      <th>secondary_cleaner.state.floatbank6_a_air</th>\n",
       "      <th>secondary_cleaner.state.floatbank6_a_level</th>\n",
       "    </tr>\n",
       "  </thead>\n",
       "  <tbody>\n",
       "    <tr>\n",
       "      <th>0</th>\n",
       "      <td>2016-09-01 00:59:59</td>\n",
       "      <td>210.800909</td>\n",
       "      <td>14.993118</td>\n",
       "      <td>8.080000</td>\n",
       "      <td>1.005021</td>\n",
       "      <td>1398.981301</td>\n",
       "      <td>-500.225577</td>\n",
       "      <td>1399.144926</td>\n",
       "      <td>-499.919735</td>\n",
       "      <td>1400.102998</td>\n",
       "      <td>...</td>\n",
       "      <td>12.023554</td>\n",
       "      <td>-497.795834</td>\n",
       "      <td>8.016656</td>\n",
       "      <td>-501.289139</td>\n",
       "      <td>7.946562</td>\n",
       "      <td>-432.317850</td>\n",
       "      <td>4.872511</td>\n",
       "      <td>-500.037437</td>\n",
       "      <td>26.705889</td>\n",
       "      <td>-499.709414</td>\n",
       "    </tr>\n",
       "    <tr>\n",
       "      <th>1</th>\n",
       "      <td>2016-09-01 01:59:59</td>\n",
       "      <td>215.392455</td>\n",
       "      <td>14.987471</td>\n",
       "      <td>8.080000</td>\n",
       "      <td>0.990469</td>\n",
       "      <td>1398.777912</td>\n",
       "      <td>-500.057435</td>\n",
       "      <td>1398.055362</td>\n",
       "      <td>-499.778182</td>\n",
       "      <td>1396.151033</td>\n",
       "      <td>...</td>\n",
       "      <td>12.058140</td>\n",
       "      <td>-498.695773</td>\n",
       "      <td>8.130979</td>\n",
       "      <td>-499.634209</td>\n",
       "      <td>7.958270</td>\n",
       "      <td>-525.839648</td>\n",
       "      <td>4.878850</td>\n",
       "      <td>-500.162375</td>\n",
       "      <td>25.019940</td>\n",
       "      <td>-499.819438</td>\n",
       "    </tr>\n",
       "    <tr>\n",
       "      <th>2</th>\n",
       "      <td>2016-09-01 02:59:59</td>\n",
       "      <td>215.259946</td>\n",
       "      <td>12.884934</td>\n",
       "      <td>7.786667</td>\n",
       "      <td>0.996043</td>\n",
       "      <td>1398.493666</td>\n",
       "      <td>-500.868360</td>\n",
       "      <td>1398.860436</td>\n",
       "      <td>-499.764529</td>\n",
       "      <td>1398.075709</td>\n",
       "      <td>...</td>\n",
       "      <td>11.962366</td>\n",
       "      <td>-498.767484</td>\n",
       "      <td>8.096893</td>\n",
       "      <td>-500.827423</td>\n",
       "      <td>8.071056</td>\n",
       "      <td>-500.801673</td>\n",
       "      <td>4.905125</td>\n",
       "      <td>-499.828510</td>\n",
       "      <td>24.994862</td>\n",
       "      <td>-500.622559</td>\n",
       "    </tr>\n",
       "    <tr>\n",
       "      <th>3</th>\n",
       "      <td>2016-09-01 03:59:59</td>\n",
       "      <td>215.336236</td>\n",
       "      <td>12.006805</td>\n",
       "      <td>7.640000</td>\n",
       "      <td>0.863514</td>\n",
       "      <td>1399.618111</td>\n",
       "      <td>-498.863574</td>\n",
       "      <td>1397.440120</td>\n",
       "      <td>-499.211024</td>\n",
       "      <td>1400.129303</td>\n",
       "      <td>...</td>\n",
       "      <td>12.033091</td>\n",
       "      <td>-498.350935</td>\n",
       "      <td>8.074946</td>\n",
       "      <td>-499.474407</td>\n",
       "      <td>7.897085</td>\n",
       "      <td>-500.868509</td>\n",
       "      <td>4.931400</td>\n",
       "      <td>-499.963623</td>\n",
       "      <td>24.948919</td>\n",
       "      <td>-498.709987</td>\n",
       "    </tr>\n",
       "    <tr>\n",
       "      <th>4</th>\n",
       "      <td>2016-09-01 04:59:59</td>\n",
       "      <td>199.099327</td>\n",
       "      <td>10.682530</td>\n",
       "      <td>7.530000</td>\n",
       "      <td>0.805575</td>\n",
       "      <td>1401.268123</td>\n",
       "      <td>-500.808305</td>\n",
       "      <td>1398.128818</td>\n",
       "      <td>-499.504543</td>\n",
       "      <td>1402.172226</td>\n",
       "      <td>...</td>\n",
       "      <td>12.025367</td>\n",
       "      <td>-500.786497</td>\n",
       "      <td>8.054678</td>\n",
       "      <td>-500.397500</td>\n",
       "      <td>8.107890</td>\n",
       "      <td>-509.526725</td>\n",
       "      <td>4.957674</td>\n",
       "      <td>-500.360026</td>\n",
       "      <td>25.003331</td>\n",
       "      <td>-500.856333</td>\n",
       "    </tr>\n",
       "  </tbody>\n",
       "</table>\n",
       "<p>5 rows × 53 columns</p>\n",
       "</div>"
      ],
      "text/plain": [
       "                  date  primary_cleaner.input.sulfate  \\\n",
       "0  2016-09-01 00:59:59                     210.800909   \n",
       "1  2016-09-01 01:59:59                     215.392455   \n",
       "2  2016-09-01 02:59:59                     215.259946   \n",
       "3  2016-09-01 03:59:59                     215.336236   \n",
       "4  2016-09-01 04:59:59                     199.099327   \n",
       "\n",
       "   primary_cleaner.input.depressant  primary_cleaner.input.feed_size  \\\n",
       "0                         14.993118                         8.080000   \n",
       "1                         14.987471                         8.080000   \n",
       "2                         12.884934                         7.786667   \n",
       "3                         12.006805                         7.640000   \n",
       "4                         10.682530                         7.530000   \n",
       "\n",
       "   primary_cleaner.input.xanthate  primary_cleaner.state.floatbank8_a_air  \\\n",
       "0                        1.005021                             1398.981301   \n",
       "1                        0.990469                             1398.777912   \n",
       "2                        0.996043                             1398.493666   \n",
       "3                        0.863514                             1399.618111   \n",
       "4                        0.805575                             1401.268123   \n",
       "\n",
       "   primary_cleaner.state.floatbank8_a_level  \\\n",
       "0                               -500.225577   \n",
       "1                               -500.057435   \n",
       "2                               -500.868360   \n",
       "3                               -498.863574   \n",
       "4                               -500.808305   \n",
       "\n",
       "   primary_cleaner.state.floatbank8_b_air  \\\n",
       "0                             1399.144926   \n",
       "1                             1398.055362   \n",
       "2                             1398.860436   \n",
       "3                             1397.440120   \n",
       "4                             1398.128818   \n",
       "\n",
       "   primary_cleaner.state.floatbank8_b_level  \\\n",
       "0                               -499.919735   \n",
       "1                               -499.778182   \n",
       "2                               -499.764529   \n",
       "3                               -499.211024   \n",
       "4                               -499.504543   \n",
       "\n",
       "   primary_cleaner.state.floatbank8_c_air  ...  \\\n",
       "0                             1400.102998  ...   \n",
       "1                             1396.151033  ...   \n",
       "2                             1398.075709  ...   \n",
       "3                             1400.129303  ...   \n",
       "4                             1402.172226  ...   \n",
       "\n",
       "   secondary_cleaner.state.floatbank4_a_air  \\\n",
       "0                                 12.023554   \n",
       "1                                 12.058140   \n",
       "2                                 11.962366   \n",
       "3                                 12.033091   \n",
       "4                                 12.025367   \n",
       "\n",
       "   secondary_cleaner.state.floatbank4_a_level  \\\n",
       "0                                 -497.795834   \n",
       "1                                 -498.695773   \n",
       "2                                 -498.767484   \n",
       "3                                 -498.350935   \n",
       "4                                 -500.786497   \n",
       "\n",
       "   secondary_cleaner.state.floatbank4_b_air  \\\n",
       "0                                  8.016656   \n",
       "1                                  8.130979   \n",
       "2                                  8.096893   \n",
       "3                                  8.074946   \n",
       "4                                  8.054678   \n",
       "\n",
       "   secondary_cleaner.state.floatbank4_b_level  \\\n",
       "0                                 -501.289139   \n",
       "1                                 -499.634209   \n",
       "2                                 -500.827423   \n",
       "3                                 -499.474407   \n",
       "4                                 -500.397500   \n",
       "\n",
       "   secondary_cleaner.state.floatbank5_a_air  \\\n",
       "0                                  7.946562   \n",
       "1                                  7.958270   \n",
       "2                                  8.071056   \n",
       "3                                  7.897085   \n",
       "4                                  8.107890   \n",
       "\n",
       "   secondary_cleaner.state.floatbank5_a_level  \\\n",
       "0                                 -432.317850   \n",
       "1                                 -525.839648   \n",
       "2                                 -500.801673   \n",
       "3                                 -500.868509   \n",
       "4                                 -509.526725   \n",
       "\n",
       "   secondary_cleaner.state.floatbank5_b_air  \\\n",
       "0                                  4.872511   \n",
       "1                                  4.878850   \n",
       "2                                  4.905125   \n",
       "3                                  4.931400   \n",
       "4                                  4.957674   \n",
       "\n",
       "   secondary_cleaner.state.floatbank5_b_level  \\\n",
       "0                                 -500.037437   \n",
       "1                                 -500.162375   \n",
       "2                                 -499.828510   \n",
       "3                                 -499.963623   \n",
       "4                                 -500.360026   \n",
       "\n",
       "   secondary_cleaner.state.floatbank6_a_air  \\\n",
       "0                                 26.705889   \n",
       "1                                 25.019940   \n",
       "2                                 24.994862   \n",
       "3                                 24.948919   \n",
       "4                                 25.003331   \n",
       "\n",
       "   secondary_cleaner.state.floatbank6_a_level  \n",
       "0                                 -499.709414  \n",
       "1                                 -499.819438  \n",
       "2                                 -500.622559  \n",
       "3                                 -498.709987  \n",
       "4                                 -500.856333  \n",
       "\n",
       "[5 rows x 53 columns]"
      ]
     },
     "metadata": {},
     "output_type": "display_data"
    },
    {
     "name": "stdout",
     "output_type": "stream",
     "text": [
      "<class 'pandas.core.frame.DataFrame'>\n",
      "RangeIndex: 5290 entries, 0 to 5289\n",
      "Data columns (total 53 columns):\n",
      " #   Column                                      Non-Null Count  Dtype  \n",
      "---  ------                                      --------------  -----  \n",
      " 0   date                                        5290 non-null   object \n",
      " 1   primary_cleaner.input.sulfate               5286 non-null   float64\n",
      " 2   primary_cleaner.input.depressant            5285 non-null   float64\n",
      " 3   primary_cleaner.input.feed_size             5290 non-null   float64\n",
      " 4   primary_cleaner.input.xanthate              5286 non-null   float64\n",
      " 5   primary_cleaner.state.floatbank8_a_air      5290 non-null   float64\n",
      " 6   primary_cleaner.state.floatbank8_a_level    5290 non-null   float64\n",
      " 7   primary_cleaner.state.floatbank8_b_air      5290 non-null   float64\n",
      " 8   primary_cleaner.state.floatbank8_b_level    5290 non-null   float64\n",
      " 9   primary_cleaner.state.floatbank8_c_air      5290 non-null   float64\n",
      " 10  primary_cleaner.state.floatbank8_c_level    5290 non-null   float64\n",
      " 11  primary_cleaner.state.floatbank8_d_air      5290 non-null   float64\n",
      " 12  primary_cleaner.state.floatbank8_d_level    5290 non-null   float64\n",
      " 13  rougher.input.feed_ag                       5290 non-null   float64\n",
      " 14  rougher.input.feed_pb                       5290 non-null   float64\n",
      " 15  rougher.input.feed_rate                     5287 non-null   float64\n",
      " 16  rougher.input.feed_size                     5289 non-null   float64\n",
      " 17  rougher.input.feed_sol                      5269 non-null   float64\n",
      " 18  rougher.input.feed_au                       5290 non-null   float64\n",
      " 19  rougher.input.floatbank10_sulfate           5285 non-null   float64\n",
      " 20  rougher.input.floatbank10_xanthate          5290 non-null   float64\n",
      " 21  rougher.input.floatbank11_sulfate           5282 non-null   float64\n",
      " 22  rougher.input.floatbank11_xanthate          5265 non-null   float64\n",
      " 23  rougher.state.floatbank10_a_air             5290 non-null   float64\n",
      " 24  rougher.state.floatbank10_a_level           5290 non-null   float64\n",
      " 25  rougher.state.floatbank10_b_air             5290 non-null   float64\n",
      " 26  rougher.state.floatbank10_b_level           5290 non-null   float64\n",
      " 27  rougher.state.floatbank10_c_air             5290 non-null   float64\n",
      " 28  rougher.state.floatbank10_c_level           5290 non-null   float64\n",
      " 29  rougher.state.floatbank10_d_air             5290 non-null   float64\n",
      " 30  rougher.state.floatbank10_d_level           5290 non-null   float64\n",
      " 31  rougher.state.floatbank10_e_air             5290 non-null   float64\n",
      " 32  rougher.state.floatbank10_e_level           5290 non-null   float64\n",
      " 33  rougher.state.floatbank10_f_air             5290 non-null   float64\n",
      " 34  rougher.state.floatbank10_f_level           5290 non-null   float64\n",
      " 35  secondary_cleaner.state.floatbank2_a_air    5287 non-null   float64\n",
      " 36  secondary_cleaner.state.floatbank2_a_level  5290 non-null   float64\n",
      " 37  secondary_cleaner.state.floatbank2_b_air    5288 non-null   float64\n",
      " 38  secondary_cleaner.state.floatbank2_b_level  5290 non-null   float64\n",
      " 39  secondary_cleaner.state.floatbank3_a_air    5281 non-null   float64\n",
      " 40  secondary_cleaner.state.floatbank3_a_level  5290 non-null   float64\n",
      " 41  secondary_cleaner.state.floatbank3_b_air    5290 non-null   float64\n",
      " 42  secondary_cleaner.state.floatbank3_b_level  5290 non-null   float64\n",
      " 43  secondary_cleaner.state.floatbank4_a_air    5290 non-null   float64\n",
      " 44  secondary_cleaner.state.floatbank4_a_level  5290 non-null   float64\n",
      " 45  secondary_cleaner.state.floatbank4_b_air    5290 non-null   float64\n",
      " 46  secondary_cleaner.state.floatbank4_b_level  5290 non-null   float64\n",
      " 47  secondary_cleaner.state.floatbank5_a_air    5290 non-null   float64\n",
      " 48  secondary_cleaner.state.floatbank5_a_level  5290 non-null   float64\n",
      " 49  secondary_cleaner.state.floatbank5_b_air    5290 non-null   float64\n",
      " 50  secondary_cleaner.state.floatbank5_b_level  5290 non-null   float64\n",
      " 51  secondary_cleaner.state.floatbank6_a_air    5290 non-null   float64\n",
      " 52  secondary_cleaner.state.floatbank6_a_level  5290 non-null   float64\n",
      "dtypes: float64(52), object(1)\n",
      "memory usage: 2.1+ MB\n",
      "\n",
      "Дубликатов нет\n"
     ]
    },
    {
     "data": {
      "text/html": [
       "<div>\n",
       "<style scoped>\n",
       "    .dataframe tbody tr th:only-of-type {\n",
       "        vertical-align: middle;\n",
       "    }\n",
       "\n",
       "    .dataframe tbody tr th {\n",
       "        vertical-align: top;\n",
       "    }\n",
       "\n",
       "    .dataframe thead th {\n",
       "        text-align: right;\n",
       "    }\n",
       "</style>\n",
       "<table border=\"1\" class=\"dataframe\">\n",
       "  <thead>\n",
       "    <tr style=\"text-align: right;\">\n",
       "      <th></th>\n",
       "      <th>primary_cleaner.input.sulfate</th>\n",
       "      <th>primary_cleaner.input.depressant</th>\n",
       "      <th>primary_cleaner.input.feed_size</th>\n",
       "      <th>primary_cleaner.input.xanthate</th>\n",
       "      <th>primary_cleaner.state.floatbank8_a_air</th>\n",
       "      <th>primary_cleaner.state.floatbank8_a_level</th>\n",
       "      <th>primary_cleaner.state.floatbank8_b_air</th>\n",
       "      <th>primary_cleaner.state.floatbank8_b_level</th>\n",
       "      <th>primary_cleaner.state.floatbank8_c_air</th>\n",
       "      <th>primary_cleaner.state.floatbank8_c_level</th>\n",
       "      <th>...</th>\n",
       "      <th>secondary_cleaner.state.floatbank4_a_air</th>\n",
       "      <th>secondary_cleaner.state.floatbank4_a_level</th>\n",
       "      <th>secondary_cleaner.state.floatbank4_b_air</th>\n",
       "      <th>secondary_cleaner.state.floatbank4_b_level</th>\n",
       "      <th>secondary_cleaner.state.floatbank5_a_air</th>\n",
       "      <th>secondary_cleaner.state.floatbank5_a_level</th>\n",
       "      <th>secondary_cleaner.state.floatbank5_b_air</th>\n",
       "      <th>secondary_cleaner.state.floatbank5_b_level</th>\n",
       "      <th>secondary_cleaner.state.floatbank6_a_air</th>\n",
       "      <th>secondary_cleaner.state.floatbank6_a_level</th>\n",
       "    </tr>\n",
       "  </thead>\n",
       "  <tbody>\n",
       "    <tr>\n",
       "      <th>count</th>\n",
       "      <td>5286.000000</td>\n",
       "      <td>5285.000000</td>\n",
       "      <td>5290.000000</td>\n",
       "      <td>5286.000000</td>\n",
       "      <td>5.290000e+03</td>\n",
       "      <td>5290.000000</td>\n",
       "      <td>5.290000e+03</td>\n",
       "      <td>5290.000000</td>\n",
       "      <td>5.290000e+03</td>\n",
       "      <td>5290.000000</td>\n",
       "      <td>...</td>\n",
       "      <td>5.290000e+03</td>\n",
       "      <td>5290.000000</td>\n",
       "      <td>5.290000e+03</td>\n",
       "      <td>5290.000000</td>\n",
       "      <td>5290.000000</td>\n",
       "      <td>5290.000000</td>\n",
       "      <td>5290.000000</td>\n",
       "      <td>5290.000000</td>\n",
       "      <td>5290.000000</td>\n",
       "      <td>5290.000000</td>\n",
       "    </tr>\n",
       "    <tr>\n",
       "      <th>mean</th>\n",
       "      <td>174.839652</td>\n",
       "      <td>8.683596</td>\n",
       "      <td>7.266339</td>\n",
       "      <td>1.383803</td>\n",
       "      <td>1.539494e+03</td>\n",
       "      <td>-497.665883</td>\n",
       "      <td>1.545174e+03</td>\n",
       "      <td>-500.273098</td>\n",
       "      <td>1.527272e+03</td>\n",
       "      <td>-498.330680</td>\n",
       "      <td>...</td>\n",
       "      <td>1.632007e+01</td>\n",
       "      <td>-505.144570</td>\n",
       "      <td>1.373544e+01</td>\n",
       "      <td>-463.349858</td>\n",
       "      <td>12.804186</td>\n",
       "      <td>-501.329122</td>\n",
       "      <td>9.881145</td>\n",
       "      <td>-495.663398</td>\n",
       "      <td>17.304935</td>\n",
       "      <td>-501.793193</td>\n",
       "    </tr>\n",
       "    <tr>\n",
       "      <th>std</th>\n",
       "      <td>43.027080</td>\n",
       "      <td>3.072050</td>\n",
       "      <td>0.610219</td>\n",
       "      <td>0.643474</td>\n",
       "      <td>1.167979e+02</td>\n",
       "      <td>19.952431</td>\n",
       "      <td>1.222246e+02</td>\n",
       "      <td>32.968307</td>\n",
       "      <td>1.225380e+02</td>\n",
       "      <td>21.964876</td>\n",
       "      <td>...</td>\n",
       "      <td>3.493583e+00</td>\n",
       "      <td>31.427337</td>\n",
       "      <td>3.430484e+00</td>\n",
       "      <td>86.189107</td>\n",
       "      <td>3.026591</td>\n",
       "      <td>17.951495</td>\n",
       "      <td>2.868205</td>\n",
       "      <td>34.535007</td>\n",
       "      <td>4.536544</td>\n",
       "      <td>39.044215</td>\n",
       "    </tr>\n",
       "    <tr>\n",
       "      <th>min</th>\n",
       "      <td>2.566156</td>\n",
       "      <td>0.003839</td>\n",
       "      <td>5.650000</td>\n",
       "      <td>0.004984</td>\n",
       "      <td>5.445860e-32</td>\n",
       "      <td>-795.316337</td>\n",
       "      <td>6.647490e-32</td>\n",
       "      <td>-799.997015</td>\n",
       "      <td>4.033736e-32</td>\n",
       "      <td>-799.960571</td>\n",
       "      <td>...</td>\n",
       "      <td>1.079872e-16</td>\n",
       "      <td>-799.798523</td>\n",
       "      <td>2.489718e-17</td>\n",
       "      <td>-800.836914</td>\n",
       "      <td>0.069227</td>\n",
       "      <td>-797.323986</td>\n",
       "      <td>0.528083</td>\n",
       "      <td>-800.220337</td>\n",
       "      <td>-0.079426</td>\n",
       "      <td>-809.741464</td>\n",
       "    </tr>\n",
       "    <tr>\n",
       "      <th>25%</th>\n",
       "      <td>147.121401</td>\n",
       "      <td>6.489555</td>\n",
       "      <td>6.890000</td>\n",
       "      <td>0.907623</td>\n",
       "      <td>1.498936e+03</td>\n",
       "      <td>-500.357298</td>\n",
       "      <td>1.498971e+03</td>\n",
       "      <td>-500.703002</td>\n",
       "      <td>1.473230e+03</td>\n",
       "      <td>-501.018117</td>\n",
       "      <td>...</td>\n",
       "      <td>1.403618e+01</td>\n",
       "      <td>-500.868258</td>\n",
       "      <td>1.202862e+01</td>\n",
       "      <td>-500.323028</td>\n",
       "      <td>10.914838</td>\n",
       "      <td>-500.726841</td>\n",
       "      <td>8.036719</td>\n",
       "      <td>-500.194668</td>\n",
       "      <td>13.997317</td>\n",
       "      <td>-500.690984</td>\n",
       "    </tr>\n",
       "    <tr>\n",
       "      <th>50%</th>\n",
       "      <td>177.828489</td>\n",
       "      <td>8.052207</td>\n",
       "      <td>7.250000</td>\n",
       "      <td>1.197610</td>\n",
       "      <td>1.585129e+03</td>\n",
       "      <td>-499.969164</td>\n",
       "      <td>1.595622e+03</td>\n",
       "      <td>-500.028514</td>\n",
       "      <td>1.549595e+03</td>\n",
       "      <td>-500.017711</td>\n",
       "      <td>...</td>\n",
       "      <td>1.700847e+01</td>\n",
       "      <td>-500.115727</td>\n",
       "      <td>1.496486e+01</td>\n",
       "      <td>-499.576513</td>\n",
       "      <td>12.954182</td>\n",
       "      <td>-499.990332</td>\n",
       "      <td>10.004301</td>\n",
       "      <td>-499.990535</td>\n",
       "      <td>16.014935</td>\n",
       "      <td>-500.007126</td>\n",
       "    </tr>\n",
       "    <tr>\n",
       "      <th>75%</th>\n",
       "      <td>208.125438</td>\n",
       "      <td>10.027764</td>\n",
       "      <td>7.600000</td>\n",
       "      <td>1.797819</td>\n",
       "      <td>1.602077e+03</td>\n",
       "      <td>-499.568951</td>\n",
       "      <td>1.602324e+03</td>\n",
       "      <td>-499.293257</td>\n",
       "      <td>1.601144e+03</td>\n",
       "      <td>-498.994130</td>\n",
       "      <td>...</td>\n",
       "      <td>1.803862e+01</td>\n",
       "      <td>-499.404224</td>\n",
       "      <td>1.596213e+01</td>\n",
       "      <td>-400.933805</td>\n",
       "      <td>15.097528</td>\n",
       "      <td>-499.283191</td>\n",
       "      <td>11.997467</td>\n",
       "      <td>-499.719913</td>\n",
       "      <td>21.020013</td>\n",
       "      <td>-499.373018</td>\n",
       "    </tr>\n",
       "    <tr>\n",
       "      <th>max</th>\n",
       "      <td>265.983123</td>\n",
       "      <td>40.000000</td>\n",
       "      <td>15.500000</td>\n",
       "      <td>4.102454</td>\n",
       "      <td>2.103104e+03</td>\n",
       "      <td>-57.195404</td>\n",
       "      <td>1.813084e+03</td>\n",
       "      <td>-142.527229</td>\n",
       "      <td>1.715054e+03</td>\n",
       "      <td>-150.937035</td>\n",
       "      <td>...</td>\n",
       "      <td>3.005180e+01</td>\n",
       "      <td>-401.565212</td>\n",
       "      <td>3.126971e+01</td>\n",
       "      <td>-6.506986</td>\n",
       "      <td>25.258848</td>\n",
       "      <td>-244.483566</td>\n",
       "      <td>14.086866</td>\n",
       "      <td>-137.740004</td>\n",
       "      <td>26.705889</td>\n",
       "      <td>-123.307487</td>\n",
       "    </tr>\n",
       "  </tbody>\n",
       "</table>\n",
       "<p>8 rows × 52 columns</p>\n",
       "</div>"
      ],
      "text/plain": [
       "       primary_cleaner.input.sulfate  primary_cleaner.input.depressant  \\\n",
       "count                    5286.000000                       5285.000000   \n",
       "mean                      174.839652                          8.683596   \n",
       "std                        43.027080                          3.072050   \n",
       "min                         2.566156                          0.003839   \n",
       "25%                       147.121401                          6.489555   \n",
       "50%                       177.828489                          8.052207   \n",
       "75%                       208.125438                         10.027764   \n",
       "max                       265.983123                         40.000000   \n",
       "\n",
       "       primary_cleaner.input.feed_size  primary_cleaner.input.xanthate  \\\n",
       "count                      5290.000000                     5286.000000   \n",
       "mean                          7.266339                        1.383803   \n",
       "std                           0.610219                        0.643474   \n",
       "min                           5.650000                        0.004984   \n",
       "25%                           6.890000                        0.907623   \n",
       "50%                           7.250000                        1.197610   \n",
       "75%                           7.600000                        1.797819   \n",
       "max                          15.500000                        4.102454   \n",
       "\n",
       "       primary_cleaner.state.floatbank8_a_air  \\\n",
       "count                            5.290000e+03   \n",
       "mean                             1.539494e+03   \n",
       "std                              1.167979e+02   \n",
       "min                              5.445860e-32   \n",
       "25%                              1.498936e+03   \n",
       "50%                              1.585129e+03   \n",
       "75%                              1.602077e+03   \n",
       "max                              2.103104e+03   \n",
       "\n",
       "       primary_cleaner.state.floatbank8_a_level  \\\n",
       "count                               5290.000000   \n",
       "mean                                -497.665883   \n",
       "std                                   19.952431   \n",
       "min                                 -795.316337   \n",
       "25%                                 -500.357298   \n",
       "50%                                 -499.969164   \n",
       "75%                                 -499.568951   \n",
       "max                                  -57.195404   \n",
       "\n",
       "       primary_cleaner.state.floatbank8_b_air  \\\n",
       "count                            5.290000e+03   \n",
       "mean                             1.545174e+03   \n",
       "std                              1.222246e+02   \n",
       "min                              6.647490e-32   \n",
       "25%                              1.498971e+03   \n",
       "50%                              1.595622e+03   \n",
       "75%                              1.602324e+03   \n",
       "max                              1.813084e+03   \n",
       "\n",
       "       primary_cleaner.state.floatbank8_b_level  \\\n",
       "count                               5290.000000   \n",
       "mean                                -500.273098   \n",
       "std                                   32.968307   \n",
       "min                                 -799.997015   \n",
       "25%                                 -500.703002   \n",
       "50%                                 -500.028514   \n",
       "75%                                 -499.293257   \n",
       "max                                 -142.527229   \n",
       "\n",
       "       primary_cleaner.state.floatbank8_c_air  \\\n",
       "count                            5.290000e+03   \n",
       "mean                             1.527272e+03   \n",
       "std                              1.225380e+02   \n",
       "min                              4.033736e-32   \n",
       "25%                              1.473230e+03   \n",
       "50%                              1.549595e+03   \n",
       "75%                              1.601144e+03   \n",
       "max                              1.715054e+03   \n",
       "\n",
       "       primary_cleaner.state.floatbank8_c_level  ...  \\\n",
       "count                               5290.000000  ...   \n",
       "mean                                -498.330680  ...   \n",
       "std                                   21.964876  ...   \n",
       "min                                 -799.960571  ...   \n",
       "25%                                 -501.018117  ...   \n",
       "50%                                 -500.017711  ...   \n",
       "75%                                 -498.994130  ...   \n",
       "max                                 -150.937035  ...   \n",
       "\n",
       "       secondary_cleaner.state.floatbank4_a_air  \\\n",
       "count                              5.290000e+03   \n",
       "mean                               1.632007e+01   \n",
       "std                                3.493583e+00   \n",
       "min                                1.079872e-16   \n",
       "25%                                1.403618e+01   \n",
       "50%                                1.700847e+01   \n",
       "75%                                1.803862e+01   \n",
       "max                                3.005180e+01   \n",
       "\n",
       "       secondary_cleaner.state.floatbank4_a_level  \\\n",
       "count                                 5290.000000   \n",
       "mean                                  -505.144570   \n",
       "std                                     31.427337   \n",
       "min                                   -799.798523   \n",
       "25%                                   -500.868258   \n",
       "50%                                   -500.115727   \n",
       "75%                                   -499.404224   \n",
       "max                                   -401.565212   \n",
       "\n",
       "       secondary_cleaner.state.floatbank4_b_air  \\\n",
       "count                              5.290000e+03   \n",
       "mean                               1.373544e+01   \n",
       "std                                3.430484e+00   \n",
       "min                                2.489718e-17   \n",
       "25%                                1.202862e+01   \n",
       "50%                                1.496486e+01   \n",
       "75%                                1.596213e+01   \n",
       "max                                3.126971e+01   \n",
       "\n",
       "       secondary_cleaner.state.floatbank4_b_level  \\\n",
       "count                                 5290.000000   \n",
       "mean                                  -463.349858   \n",
       "std                                     86.189107   \n",
       "min                                   -800.836914   \n",
       "25%                                   -500.323028   \n",
       "50%                                   -499.576513   \n",
       "75%                                   -400.933805   \n",
       "max                                     -6.506986   \n",
       "\n",
       "       secondary_cleaner.state.floatbank5_a_air  \\\n",
       "count                               5290.000000   \n",
       "mean                                  12.804186   \n",
       "std                                    3.026591   \n",
       "min                                    0.069227   \n",
       "25%                                   10.914838   \n",
       "50%                                   12.954182   \n",
       "75%                                   15.097528   \n",
       "max                                   25.258848   \n",
       "\n",
       "       secondary_cleaner.state.floatbank5_a_level  \\\n",
       "count                                 5290.000000   \n",
       "mean                                  -501.329122   \n",
       "std                                     17.951495   \n",
       "min                                   -797.323986   \n",
       "25%                                   -500.726841   \n",
       "50%                                   -499.990332   \n",
       "75%                                   -499.283191   \n",
       "max                                   -244.483566   \n",
       "\n",
       "       secondary_cleaner.state.floatbank5_b_air  \\\n",
       "count                               5290.000000   \n",
       "mean                                   9.881145   \n",
       "std                                    2.868205   \n",
       "min                                    0.528083   \n",
       "25%                                    8.036719   \n",
       "50%                                   10.004301   \n",
       "75%                                   11.997467   \n",
       "max                                   14.086866   \n",
       "\n",
       "       secondary_cleaner.state.floatbank5_b_level  \\\n",
       "count                                 5290.000000   \n",
       "mean                                  -495.663398   \n",
       "std                                     34.535007   \n",
       "min                                   -800.220337   \n",
       "25%                                   -500.194668   \n",
       "50%                                   -499.990535   \n",
       "75%                                   -499.719913   \n",
       "max                                   -137.740004   \n",
       "\n",
       "       secondary_cleaner.state.floatbank6_a_air  \\\n",
       "count                               5290.000000   \n",
       "mean                                  17.304935   \n",
       "std                                    4.536544   \n",
       "min                                   -0.079426   \n",
       "25%                                   13.997317   \n",
       "50%                                   16.014935   \n",
       "75%                                   21.020013   \n",
       "max                                   26.705889   \n",
       "\n",
       "       secondary_cleaner.state.floatbank6_a_level  \n",
       "count                                 5290.000000  \n",
       "mean                                  -501.793193  \n",
       "std                                     39.044215  \n",
       "min                                   -809.741464  \n",
       "25%                                   -500.690984  \n",
       "50%                                   -500.007126  \n",
       "75%                                   -499.373018  \n",
       "max                                   -123.307487  \n",
       "\n",
       "[8 rows x 52 columns]"
      ]
     },
     "metadata": {},
     "output_type": "display_data"
    },
    {
     "name": "stdout",
     "output_type": "stream",
     "text": [
      "\n",
      "——————————————————————————————————————————————————————————————————\n"
     ]
    },
    {
     "data": {
      "text/plain": [
       "'>>> df_full <<<'"
      ]
     },
     "metadata": {},
     "output_type": "display_data"
    },
    {
     "data": {
      "text/html": [
       "<div>\n",
       "<style scoped>\n",
       "    .dataframe tbody tr th:only-of-type {\n",
       "        vertical-align: middle;\n",
       "    }\n",
       "\n",
       "    .dataframe tbody tr th {\n",
       "        vertical-align: top;\n",
       "    }\n",
       "\n",
       "    .dataframe thead th {\n",
       "        text-align: right;\n",
       "    }\n",
       "</style>\n",
       "<table border=\"1\" class=\"dataframe\">\n",
       "  <thead>\n",
       "    <tr style=\"text-align: right;\">\n",
       "      <th></th>\n",
       "      <th>date</th>\n",
       "      <th>final.output.concentrate_ag</th>\n",
       "      <th>final.output.concentrate_pb</th>\n",
       "      <th>final.output.concentrate_sol</th>\n",
       "      <th>final.output.concentrate_au</th>\n",
       "      <th>final.output.recovery</th>\n",
       "      <th>final.output.tail_ag</th>\n",
       "      <th>final.output.tail_pb</th>\n",
       "      <th>final.output.tail_sol</th>\n",
       "      <th>final.output.tail_au</th>\n",
       "      <th>...</th>\n",
       "      <th>secondary_cleaner.state.floatbank4_a_air</th>\n",
       "      <th>secondary_cleaner.state.floatbank4_a_level</th>\n",
       "      <th>secondary_cleaner.state.floatbank4_b_air</th>\n",
       "      <th>secondary_cleaner.state.floatbank4_b_level</th>\n",
       "      <th>secondary_cleaner.state.floatbank5_a_air</th>\n",
       "      <th>secondary_cleaner.state.floatbank5_a_level</th>\n",
       "      <th>secondary_cleaner.state.floatbank5_b_air</th>\n",
       "      <th>secondary_cleaner.state.floatbank5_b_level</th>\n",
       "      <th>secondary_cleaner.state.floatbank6_a_air</th>\n",
       "      <th>secondary_cleaner.state.floatbank6_a_level</th>\n",
       "    </tr>\n",
       "  </thead>\n",
       "  <tbody>\n",
       "    <tr>\n",
       "      <th>0</th>\n",
       "      <td>2016-01-15 00:00:00</td>\n",
       "      <td>6.055403</td>\n",
       "      <td>9.889648</td>\n",
       "      <td>5.507324</td>\n",
       "      <td>42.192020</td>\n",
       "      <td>70.541216</td>\n",
       "      <td>10.411962</td>\n",
       "      <td>0.895447</td>\n",
       "      <td>16.904297</td>\n",
       "      <td>2.143149</td>\n",
       "      <td>...</td>\n",
       "      <td>14.016835</td>\n",
       "      <td>-502.488007</td>\n",
       "      <td>12.099931</td>\n",
       "      <td>-504.715942</td>\n",
       "      <td>9.925633</td>\n",
       "      <td>-498.310211</td>\n",
       "      <td>8.079666</td>\n",
       "      <td>-500.470978</td>\n",
       "      <td>14.151341</td>\n",
       "      <td>-605.841980</td>\n",
       "    </tr>\n",
       "    <tr>\n",
       "      <th>1</th>\n",
       "      <td>2016-01-15 01:00:00</td>\n",
       "      <td>6.029369</td>\n",
       "      <td>9.968944</td>\n",
       "      <td>5.257781</td>\n",
       "      <td>42.701629</td>\n",
       "      <td>69.266198</td>\n",
       "      <td>10.462676</td>\n",
       "      <td>0.927452</td>\n",
       "      <td>16.634514</td>\n",
       "      <td>2.224930</td>\n",
       "      <td>...</td>\n",
       "      <td>13.992281</td>\n",
       "      <td>-505.503262</td>\n",
       "      <td>11.950531</td>\n",
       "      <td>-501.331529</td>\n",
       "      <td>10.039245</td>\n",
       "      <td>-500.169983</td>\n",
       "      <td>7.984757</td>\n",
       "      <td>-500.582168</td>\n",
       "      <td>13.998353</td>\n",
       "      <td>-599.787184</td>\n",
       "    </tr>\n",
       "    <tr>\n",
       "      <th>2</th>\n",
       "      <td>2016-01-15 02:00:00</td>\n",
       "      <td>6.055926</td>\n",
       "      <td>10.213995</td>\n",
       "      <td>5.383759</td>\n",
       "      <td>42.657501</td>\n",
       "      <td>68.116445</td>\n",
       "      <td>10.507046</td>\n",
       "      <td>0.953716</td>\n",
       "      <td>16.208849</td>\n",
       "      <td>2.257889</td>\n",
       "      <td>...</td>\n",
       "      <td>14.015015</td>\n",
       "      <td>-502.520901</td>\n",
       "      <td>11.912783</td>\n",
       "      <td>-501.133383</td>\n",
       "      <td>10.070913</td>\n",
       "      <td>-500.129135</td>\n",
       "      <td>8.013877</td>\n",
       "      <td>-500.517572</td>\n",
       "      <td>14.028663</td>\n",
       "      <td>-601.427363</td>\n",
       "    </tr>\n",
       "    <tr>\n",
       "      <th>3</th>\n",
       "      <td>2016-01-15 03:00:00</td>\n",
       "      <td>6.047977</td>\n",
       "      <td>9.977019</td>\n",
       "      <td>4.858634</td>\n",
       "      <td>42.689819</td>\n",
       "      <td>68.347543</td>\n",
       "      <td>10.422762</td>\n",
       "      <td>0.883763</td>\n",
       "      <td>16.532835</td>\n",
       "      <td>2.146849</td>\n",
       "      <td>...</td>\n",
       "      <td>14.036510</td>\n",
       "      <td>-500.857308</td>\n",
       "      <td>11.999550</td>\n",
       "      <td>-501.193686</td>\n",
       "      <td>9.970366</td>\n",
       "      <td>-499.201640</td>\n",
       "      <td>7.977324</td>\n",
       "      <td>-500.255908</td>\n",
       "      <td>14.005551</td>\n",
       "      <td>-599.996129</td>\n",
       "    </tr>\n",
       "    <tr>\n",
       "      <th>4</th>\n",
       "      <td>2016-01-15 04:00:00</td>\n",
       "      <td>6.148599</td>\n",
       "      <td>10.142511</td>\n",
       "      <td>4.939416</td>\n",
       "      <td>42.774141</td>\n",
       "      <td>66.927016</td>\n",
       "      <td>10.360302</td>\n",
       "      <td>0.792826</td>\n",
       "      <td>16.525686</td>\n",
       "      <td>2.055292</td>\n",
       "      <td>...</td>\n",
       "      <td>14.027298</td>\n",
       "      <td>-499.838632</td>\n",
       "      <td>11.953070</td>\n",
       "      <td>-501.053894</td>\n",
       "      <td>9.925709</td>\n",
       "      <td>-501.686727</td>\n",
       "      <td>7.894242</td>\n",
       "      <td>-500.356035</td>\n",
       "      <td>13.996647</td>\n",
       "      <td>-601.496691</td>\n",
       "    </tr>\n",
       "  </tbody>\n",
       "</table>\n",
       "<p>5 rows × 87 columns</p>\n",
       "</div>"
      ],
      "text/plain": [
       "                  date  final.output.concentrate_ag  \\\n",
       "0  2016-01-15 00:00:00                     6.055403   \n",
       "1  2016-01-15 01:00:00                     6.029369   \n",
       "2  2016-01-15 02:00:00                     6.055926   \n",
       "3  2016-01-15 03:00:00                     6.047977   \n",
       "4  2016-01-15 04:00:00                     6.148599   \n",
       "\n",
       "   final.output.concentrate_pb  final.output.concentrate_sol  \\\n",
       "0                     9.889648                      5.507324   \n",
       "1                     9.968944                      5.257781   \n",
       "2                    10.213995                      5.383759   \n",
       "3                     9.977019                      4.858634   \n",
       "4                    10.142511                      4.939416   \n",
       "\n",
       "   final.output.concentrate_au  final.output.recovery  final.output.tail_ag  \\\n",
       "0                    42.192020              70.541216             10.411962   \n",
       "1                    42.701629              69.266198             10.462676   \n",
       "2                    42.657501              68.116445             10.507046   \n",
       "3                    42.689819              68.347543             10.422762   \n",
       "4                    42.774141              66.927016             10.360302   \n",
       "\n",
       "   final.output.tail_pb  final.output.tail_sol  final.output.tail_au  ...  \\\n",
       "0              0.895447              16.904297              2.143149  ...   \n",
       "1              0.927452              16.634514              2.224930  ...   \n",
       "2              0.953716              16.208849              2.257889  ...   \n",
       "3              0.883763              16.532835              2.146849  ...   \n",
       "4              0.792826              16.525686              2.055292  ...   \n",
       "\n",
       "   secondary_cleaner.state.floatbank4_a_air  \\\n",
       "0                                 14.016835   \n",
       "1                                 13.992281   \n",
       "2                                 14.015015   \n",
       "3                                 14.036510   \n",
       "4                                 14.027298   \n",
       "\n",
       "   secondary_cleaner.state.floatbank4_a_level  \\\n",
       "0                                 -502.488007   \n",
       "1                                 -505.503262   \n",
       "2                                 -502.520901   \n",
       "3                                 -500.857308   \n",
       "4                                 -499.838632   \n",
       "\n",
       "   secondary_cleaner.state.floatbank4_b_air  \\\n",
       "0                                 12.099931   \n",
       "1                                 11.950531   \n",
       "2                                 11.912783   \n",
       "3                                 11.999550   \n",
       "4                                 11.953070   \n",
       "\n",
       "   secondary_cleaner.state.floatbank4_b_level  \\\n",
       "0                                 -504.715942   \n",
       "1                                 -501.331529   \n",
       "2                                 -501.133383   \n",
       "3                                 -501.193686   \n",
       "4                                 -501.053894   \n",
       "\n",
       "   secondary_cleaner.state.floatbank5_a_air  \\\n",
       "0                                  9.925633   \n",
       "1                                 10.039245   \n",
       "2                                 10.070913   \n",
       "3                                  9.970366   \n",
       "4                                  9.925709   \n",
       "\n",
       "   secondary_cleaner.state.floatbank5_a_level  \\\n",
       "0                                 -498.310211   \n",
       "1                                 -500.169983   \n",
       "2                                 -500.129135   \n",
       "3                                 -499.201640   \n",
       "4                                 -501.686727   \n",
       "\n",
       "   secondary_cleaner.state.floatbank5_b_air  \\\n",
       "0                                  8.079666   \n",
       "1                                  7.984757   \n",
       "2                                  8.013877   \n",
       "3                                  7.977324   \n",
       "4                                  7.894242   \n",
       "\n",
       "   secondary_cleaner.state.floatbank5_b_level  \\\n",
       "0                                 -500.470978   \n",
       "1                                 -500.582168   \n",
       "2                                 -500.517572   \n",
       "3                                 -500.255908   \n",
       "4                                 -500.356035   \n",
       "\n",
       "   secondary_cleaner.state.floatbank6_a_air  \\\n",
       "0                                 14.151341   \n",
       "1                                 13.998353   \n",
       "2                                 14.028663   \n",
       "3                                 14.005551   \n",
       "4                                 13.996647   \n",
       "\n",
       "   secondary_cleaner.state.floatbank6_a_level  \n",
       "0                                 -605.841980  \n",
       "1                                 -599.787184  \n",
       "2                                 -601.427363  \n",
       "3                                 -599.996129  \n",
       "4                                 -601.496691  \n",
       "\n",
       "[5 rows x 87 columns]"
      ]
     },
     "metadata": {},
     "output_type": "display_data"
    },
    {
     "name": "stdout",
     "output_type": "stream",
     "text": [
      "<class 'pandas.core.frame.DataFrame'>\n",
      "RangeIndex: 19439 entries, 0 to 19438\n",
      "Data columns (total 87 columns):\n",
      " #   Column                                              Non-Null Count  Dtype  \n",
      "---  ------                                              --------------  -----  \n",
      " 0   date                                                19439 non-null  object \n",
      " 1   final.output.concentrate_ag                         19438 non-null  float64\n",
      " 2   final.output.concentrate_pb                         19438 non-null  float64\n",
      " 3   final.output.concentrate_sol                        19228 non-null  float64\n",
      " 4   final.output.concentrate_au                         19439 non-null  float64\n",
      " 5   final.output.recovery                               19439 non-null  float64\n",
      " 6   final.output.tail_ag                                19438 non-null  float64\n",
      " 7   final.output.tail_pb                                19338 non-null  float64\n",
      " 8   final.output.tail_sol                               19433 non-null  float64\n",
      " 9   final.output.tail_au                                19439 non-null  float64\n",
      " 10  primary_cleaner.input.sulfate                       19415 non-null  float64\n",
      " 11  primary_cleaner.input.depressant                    19402 non-null  float64\n",
      " 12  primary_cleaner.input.feed_size                     19439 non-null  float64\n",
      " 13  primary_cleaner.input.xanthate                      19335 non-null  float64\n",
      " 14  primary_cleaner.output.concentrate_ag               19439 non-null  float64\n",
      " 15  primary_cleaner.output.concentrate_pb               19323 non-null  float64\n",
      " 16  primary_cleaner.output.concentrate_sol              19069 non-null  float64\n",
      " 17  primary_cleaner.output.concentrate_au               19439 non-null  float64\n",
      " 18  primary_cleaner.output.tail_ag                      19435 non-null  float64\n",
      " 19  primary_cleaner.output.tail_pb                      19418 non-null  float64\n",
      " 20  primary_cleaner.output.tail_sol                     19377 non-null  float64\n",
      " 21  primary_cleaner.output.tail_au                      19439 non-null  float64\n",
      " 22  primary_cleaner.state.floatbank8_a_air              19435 non-null  float64\n",
      " 23  primary_cleaner.state.floatbank8_a_level            19438 non-null  float64\n",
      " 24  primary_cleaner.state.floatbank8_b_air              19435 non-null  float64\n",
      " 25  primary_cleaner.state.floatbank8_b_level            19438 non-null  float64\n",
      " 26  primary_cleaner.state.floatbank8_c_air              19437 non-null  float64\n",
      " 27  primary_cleaner.state.floatbank8_c_level            19438 non-null  float64\n",
      " 28  primary_cleaner.state.floatbank8_d_air              19436 non-null  float64\n",
      " 29  primary_cleaner.state.floatbank8_d_level            19438 non-null  float64\n",
      " 30  rougher.calculation.sulfate_to_au_concentrate       19437 non-null  float64\n",
      " 31  rougher.calculation.floatbank10_sulfate_to_au_feed  19437 non-null  float64\n",
      " 32  rougher.calculation.floatbank11_sulfate_to_au_feed  19437 non-null  float64\n",
      " 33  rougher.calculation.au_pb_ratio                     19439 non-null  float64\n",
      " 34  rougher.input.feed_ag                               19439 non-null  float64\n",
      " 35  rougher.input.feed_pb                               19339 non-null  float64\n",
      " 36  rougher.input.feed_rate                             19428 non-null  float64\n",
      " 37  rougher.input.feed_size                             19294 non-null  float64\n",
      " 38  rougher.input.feed_sol                              19340 non-null  float64\n",
      " 39  rougher.input.feed_au                               19439 non-null  float64\n",
      " 40  rougher.input.floatbank10_sulfate                   19405 non-null  float64\n",
      " 41  rougher.input.floatbank10_xanthate                  19431 non-null  float64\n",
      " 42  rougher.input.floatbank11_sulfate                   19395 non-null  float64\n",
      " 43  rougher.input.floatbank11_xanthate                  18986 non-null  float64\n",
      " 44  rougher.output.concentrate_ag                       19439 non-null  float64\n",
      " 45  rougher.output.concentrate_pb                       19439 non-null  float64\n",
      " 46  rougher.output.concentrate_sol                      19416 non-null  float64\n",
      " 47  rougher.output.concentrate_au                       19439 non-null  float64\n",
      " 48  rougher.output.recovery                             19439 non-null  float64\n",
      " 49  rougher.output.tail_ag                              19438 non-null  float64\n",
      " 50  rougher.output.tail_pb                              19439 non-null  float64\n",
      " 51  rougher.output.tail_sol                             19439 non-null  float64\n",
      " 52  rougher.output.tail_au                              19439 non-null  float64\n",
      " 53  rougher.state.floatbank10_a_air                     19438 non-null  float64\n",
      " 54  rougher.state.floatbank10_a_level                   19438 non-null  float64\n",
      " 55  rougher.state.floatbank10_b_air                     19438 non-null  float64\n",
      " 56  rougher.state.floatbank10_b_level                   19438 non-null  float64\n",
      " 57  rougher.state.floatbank10_c_air                     19438 non-null  float64\n",
      " 58  rougher.state.floatbank10_c_level                   19438 non-null  float64\n",
      " 59  rougher.state.floatbank10_d_air                     19439 non-null  float64\n",
      " 60  rougher.state.floatbank10_d_level                   19439 non-null  float64\n",
      " 61  rougher.state.floatbank10_e_air                     19003 non-null  float64\n",
      " 62  rougher.state.floatbank10_e_level                   19439 non-null  float64\n",
      " 63  rougher.state.floatbank10_f_air                     19439 non-null  float64\n",
      " 64  rougher.state.floatbank10_f_level                   19439 non-null  float64\n",
      " 65  secondary_cleaner.output.tail_ag                    19437 non-null  float64\n",
      " 66  secondary_cleaner.output.tail_pb                    19427 non-null  float64\n",
      " 67  secondary_cleaner.output.tail_sol                   17691 non-null  float64\n",
      " 68  secondary_cleaner.output.tail_au                    19439 non-null  float64\n",
      " 69  secondary_cleaner.state.floatbank2_a_air            19219 non-null  float64\n",
      " 70  secondary_cleaner.state.floatbank2_a_level          19438 non-null  float64\n",
      " 71  secondary_cleaner.state.floatbank2_b_air            19416 non-null  float64\n",
      " 72  secondary_cleaner.state.floatbank2_b_level          19438 non-null  float64\n",
      " 73  secondary_cleaner.state.floatbank3_a_air            19426 non-null  float64\n",
      " 74  secondary_cleaner.state.floatbank3_a_level          19438 non-null  float64\n",
      " 75  secondary_cleaner.state.floatbank3_b_air            19438 non-null  float64\n",
      " 76  secondary_cleaner.state.floatbank3_b_level          19438 non-null  float64\n",
      " 77  secondary_cleaner.state.floatbank4_a_air            19433 non-null  float64\n",
      " 78  secondary_cleaner.state.floatbank4_a_level          19438 non-null  float64\n",
      " 79  secondary_cleaner.state.floatbank4_b_air            19438 non-null  float64\n",
      " 80  secondary_cleaner.state.floatbank4_b_level          19438 non-null  float64\n",
      " 81  secondary_cleaner.state.floatbank5_a_air            19438 non-null  float64\n",
      " 82  secondary_cleaner.state.floatbank5_a_level          19438 non-null  float64\n",
      " 83  secondary_cleaner.state.floatbank5_b_air            19438 non-null  float64\n",
      " 84  secondary_cleaner.state.floatbank5_b_level          19438 non-null  float64\n",
      " 85  secondary_cleaner.state.floatbank6_a_air            19437 non-null  float64\n",
      " 86  secondary_cleaner.state.floatbank6_a_level          19438 non-null  float64\n",
      "dtypes: float64(86), object(1)\n",
      "memory usage: 12.9+ MB\n",
      "\n",
      "Дубликатов нет\n"
     ]
    },
    {
     "data": {
      "text/html": [
       "<div>\n",
       "<style scoped>\n",
       "    .dataframe tbody tr th:only-of-type {\n",
       "        vertical-align: middle;\n",
       "    }\n",
       "\n",
       "    .dataframe tbody tr th {\n",
       "        vertical-align: top;\n",
       "    }\n",
       "\n",
       "    .dataframe thead th {\n",
       "        text-align: right;\n",
       "    }\n",
       "</style>\n",
       "<table border=\"1\" class=\"dataframe\">\n",
       "  <thead>\n",
       "    <tr style=\"text-align: right;\">\n",
       "      <th></th>\n",
       "      <th>final.output.concentrate_ag</th>\n",
       "      <th>final.output.concentrate_pb</th>\n",
       "      <th>final.output.concentrate_sol</th>\n",
       "      <th>final.output.concentrate_au</th>\n",
       "      <th>final.output.recovery</th>\n",
       "      <th>final.output.tail_ag</th>\n",
       "      <th>final.output.tail_pb</th>\n",
       "      <th>final.output.tail_sol</th>\n",
       "      <th>final.output.tail_au</th>\n",
       "      <th>primary_cleaner.input.sulfate</th>\n",
       "      <th>...</th>\n",
       "      <th>secondary_cleaner.state.floatbank4_a_air</th>\n",
       "      <th>secondary_cleaner.state.floatbank4_a_level</th>\n",
       "      <th>secondary_cleaner.state.floatbank4_b_air</th>\n",
       "      <th>secondary_cleaner.state.floatbank4_b_level</th>\n",
       "      <th>secondary_cleaner.state.floatbank5_a_air</th>\n",
       "      <th>secondary_cleaner.state.floatbank5_a_level</th>\n",
       "      <th>secondary_cleaner.state.floatbank5_b_air</th>\n",
       "      <th>secondary_cleaner.state.floatbank5_b_level</th>\n",
       "      <th>secondary_cleaner.state.floatbank6_a_air</th>\n",
       "      <th>secondary_cleaner.state.floatbank6_a_level</th>\n",
       "    </tr>\n",
       "  </thead>\n",
       "  <tbody>\n",
       "    <tr>\n",
       "      <th>count</th>\n",
       "      <td>19438.000000</td>\n",
       "      <td>19438.000000</td>\n",
       "      <td>19228.000000</td>\n",
       "      <td>19439.000000</td>\n",
       "      <td>19439.000000</td>\n",
       "      <td>19438.000000</td>\n",
       "      <td>19338.000000</td>\n",
       "      <td>19433.000000</td>\n",
       "      <td>19439.000000</td>\n",
       "      <td>19415.000000</td>\n",
       "      <td>...</td>\n",
       "      <td>19433.000000</td>\n",
       "      <td>19438.000000</td>\n",
       "      <td>19438.000000</td>\n",
       "      <td>19438.000000</td>\n",
       "      <td>19438.000000</td>\n",
       "      <td>19438.000000</td>\n",
       "      <td>19438.000000</td>\n",
       "      <td>19438.000000</td>\n",
       "      <td>19437.000000</td>\n",
       "      <td>19438.000000</td>\n",
       "    </tr>\n",
       "    <tr>\n",
       "      <th>mean</th>\n",
       "      <td>5.168470</td>\n",
       "      <td>9.978895</td>\n",
       "      <td>9.501224</td>\n",
       "      <td>44.076513</td>\n",
       "      <td>67.050208</td>\n",
       "      <td>9.688589</td>\n",
       "      <td>2.705795</td>\n",
       "      <td>10.583728</td>\n",
       "      <td>3.042467</td>\n",
       "      <td>144.624774</td>\n",
       "      <td>...</td>\n",
       "      <td>18.987674</td>\n",
       "      <td>-485.894516</td>\n",
       "      <td>15.010366</td>\n",
       "      <td>-461.078636</td>\n",
       "      <td>15.694452</td>\n",
       "      <td>-488.684065</td>\n",
       "      <td>12.198224</td>\n",
       "      <td>-487.149827</td>\n",
       "      <td>18.959024</td>\n",
       "      <td>-505.436305</td>\n",
       "    </tr>\n",
       "    <tr>\n",
       "      <th>std</th>\n",
       "      <td>1.372348</td>\n",
       "      <td>1.669240</td>\n",
       "      <td>2.787537</td>\n",
       "      <td>5.129784</td>\n",
       "      <td>10.125840</td>\n",
       "      <td>2.328642</td>\n",
       "      <td>0.949077</td>\n",
       "      <td>2.868782</td>\n",
       "      <td>0.922808</td>\n",
       "      <td>44.464071</td>\n",
       "      <td>...</td>\n",
       "      <td>5.411058</td>\n",
       "      <td>47.758570</td>\n",
       "      <td>4.890228</td>\n",
       "      <td>67.405524</td>\n",
       "      <td>5.510974</td>\n",
       "      <td>34.533396</td>\n",
       "      <td>5.333024</td>\n",
       "      <td>38.347312</td>\n",
       "      <td>5.550498</td>\n",
       "      <td>37.689057</td>\n",
       "    </tr>\n",
       "    <tr>\n",
       "      <th>min</th>\n",
       "      <td>0.000000</td>\n",
       "      <td>0.000000</td>\n",
       "      <td>0.000000</td>\n",
       "      <td>0.000000</td>\n",
       "      <td>0.000000</td>\n",
       "      <td>0.000000</td>\n",
       "      <td>0.000000</td>\n",
       "      <td>0.000000</td>\n",
       "      <td>0.000000</td>\n",
       "      <td>0.003112</td>\n",
       "      <td>...</td>\n",
       "      <td>0.000000</td>\n",
       "      <td>-799.798523</td>\n",
       "      <td>0.000000</td>\n",
       "      <td>-800.836914</td>\n",
       "      <td>-0.372054</td>\n",
       "      <td>-797.323986</td>\n",
       "      <td>0.528083</td>\n",
       "      <td>-800.220337</td>\n",
       "      <td>-0.079426</td>\n",
       "      <td>-809.741464</td>\n",
       "    </tr>\n",
       "    <tr>\n",
       "      <th>25%</th>\n",
       "      <td>4.251240</td>\n",
       "      <td>9.137262</td>\n",
       "      <td>7.722820</td>\n",
       "      <td>43.402215</td>\n",
       "      <td>63.299712</td>\n",
       "      <td>8.062878</td>\n",
       "      <td>2.040119</td>\n",
       "      <td>8.938947</td>\n",
       "      <td>2.461138</td>\n",
       "      <td>114.107029</td>\n",
       "      <td>...</td>\n",
       "      <td>14.975734</td>\n",
       "      <td>-500.704892</td>\n",
       "      <td>11.940294</td>\n",
       "      <td>-500.187742</td>\n",
       "      <td>10.988606</td>\n",
       "      <td>-500.458467</td>\n",
       "      <td>8.971105</td>\n",
       "      <td>-500.129462</td>\n",
       "      <td>14.983037</td>\n",
       "      <td>-500.728067</td>\n",
       "    </tr>\n",
       "    <tr>\n",
       "      <th>50%</th>\n",
       "      <td>5.066094</td>\n",
       "      <td>10.102433</td>\n",
       "      <td>9.218961</td>\n",
       "      <td>45.011244</td>\n",
       "      <td>68.172738</td>\n",
       "      <td>9.743623</td>\n",
       "      <td>2.748730</td>\n",
       "      <td>10.622456</td>\n",
       "      <td>2.984909</td>\n",
       "      <td>143.232103</td>\n",
       "      <td>...</td>\n",
       "      <td>18.017481</td>\n",
       "      <td>-499.837793</td>\n",
       "      <td>14.971014</td>\n",
       "      <td>-499.459786</td>\n",
       "      <td>15.000036</td>\n",
       "      <td>-499.802605</td>\n",
       "      <td>11.019433</td>\n",
       "      <td>-499.935317</td>\n",
       "      <td>19.960541</td>\n",
       "      <td>-500.048400</td>\n",
       "    </tr>\n",
       "    <tr>\n",
       "      <th>75%</th>\n",
       "      <td>5.895527</td>\n",
       "      <td>11.035769</td>\n",
       "      <td>10.947813</td>\n",
       "      <td>46.275313</td>\n",
       "      <td>72.686642</td>\n",
       "      <td>11.134294</td>\n",
       "      <td>3.333216</td>\n",
       "      <td>12.104271</td>\n",
       "      <td>3.571351</td>\n",
       "      <td>175.075656</td>\n",
       "      <td>...</td>\n",
       "      <td>23.012470</td>\n",
       "      <td>-498.249730</td>\n",
       "      <td>19.034162</td>\n",
       "      <td>-400.118106</td>\n",
       "      <td>18.026190</td>\n",
       "      <td>-498.384187</td>\n",
       "      <td>14.019088</td>\n",
       "      <td>-499.436708</td>\n",
       "      <td>24.003170</td>\n",
       "      <td>-499.495378</td>\n",
       "    </tr>\n",
       "    <tr>\n",
       "      <th>max</th>\n",
       "      <td>16.001945</td>\n",
       "      <td>17.031899</td>\n",
       "      <td>19.615720</td>\n",
       "      <td>52.756638</td>\n",
       "      <td>100.000000</td>\n",
       "      <td>19.552149</td>\n",
       "      <td>5.804178</td>\n",
       "      <td>22.317730</td>\n",
       "      <td>8.245022</td>\n",
       "      <td>265.983123</td>\n",
       "      <td>...</td>\n",
       "      <td>30.115735</td>\n",
       "      <td>-245.239184</td>\n",
       "      <td>31.269706</td>\n",
       "      <td>-6.506986</td>\n",
       "      <td>43.709931</td>\n",
       "      <td>-244.483566</td>\n",
       "      <td>27.926001</td>\n",
       "      <td>-137.740004</td>\n",
       "      <td>32.188906</td>\n",
       "      <td>-104.427459</td>\n",
       "    </tr>\n",
       "  </tbody>\n",
       "</table>\n",
       "<p>8 rows × 86 columns</p>\n",
       "</div>"
      ],
      "text/plain": [
       "       final.output.concentrate_ag  final.output.concentrate_pb  \\\n",
       "count                 19438.000000                 19438.000000   \n",
       "mean                      5.168470                     9.978895   \n",
       "std                       1.372348                     1.669240   \n",
       "min                       0.000000                     0.000000   \n",
       "25%                       4.251240                     9.137262   \n",
       "50%                       5.066094                    10.102433   \n",
       "75%                       5.895527                    11.035769   \n",
       "max                      16.001945                    17.031899   \n",
       "\n",
       "       final.output.concentrate_sol  final.output.concentrate_au  \\\n",
       "count                  19228.000000                 19439.000000   \n",
       "mean                       9.501224                    44.076513   \n",
       "std                        2.787537                     5.129784   \n",
       "min                        0.000000                     0.000000   \n",
       "25%                        7.722820                    43.402215   \n",
       "50%                        9.218961                    45.011244   \n",
       "75%                       10.947813                    46.275313   \n",
       "max                       19.615720                    52.756638   \n",
       "\n",
       "       final.output.recovery  final.output.tail_ag  final.output.tail_pb  \\\n",
       "count           19439.000000          19438.000000          19338.000000   \n",
       "mean               67.050208              9.688589              2.705795   \n",
       "std                10.125840              2.328642              0.949077   \n",
       "min                 0.000000              0.000000              0.000000   \n",
       "25%                63.299712              8.062878              2.040119   \n",
       "50%                68.172738              9.743623              2.748730   \n",
       "75%                72.686642             11.134294              3.333216   \n",
       "max               100.000000             19.552149              5.804178   \n",
       "\n",
       "       final.output.tail_sol  final.output.tail_au  \\\n",
       "count           19433.000000          19439.000000   \n",
       "mean               10.583728              3.042467   \n",
       "std                 2.868782              0.922808   \n",
       "min                 0.000000              0.000000   \n",
       "25%                 8.938947              2.461138   \n",
       "50%                10.622456              2.984909   \n",
       "75%                12.104271              3.571351   \n",
       "max                22.317730              8.245022   \n",
       "\n",
       "       primary_cleaner.input.sulfate  ...  \\\n",
       "count                   19415.000000  ...   \n",
       "mean                      144.624774  ...   \n",
       "std                        44.464071  ...   \n",
       "min                         0.003112  ...   \n",
       "25%                       114.107029  ...   \n",
       "50%                       143.232103  ...   \n",
       "75%                       175.075656  ...   \n",
       "max                       265.983123  ...   \n",
       "\n",
       "       secondary_cleaner.state.floatbank4_a_air  \\\n",
       "count                              19433.000000   \n",
       "mean                                  18.987674   \n",
       "std                                    5.411058   \n",
       "min                                    0.000000   \n",
       "25%                                   14.975734   \n",
       "50%                                   18.017481   \n",
       "75%                                   23.012470   \n",
       "max                                   30.115735   \n",
       "\n",
       "       secondary_cleaner.state.floatbank4_a_level  \\\n",
       "count                                19438.000000   \n",
       "mean                                  -485.894516   \n",
       "std                                     47.758570   \n",
       "min                                   -799.798523   \n",
       "25%                                   -500.704892   \n",
       "50%                                   -499.837793   \n",
       "75%                                   -498.249730   \n",
       "max                                   -245.239184   \n",
       "\n",
       "       secondary_cleaner.state.floatbank4_b_air  \\\n",
       "count                              19438.000000   \n",
       "mean                                  15.010366   \n",
       "std                                    4.890228   \n",
       "min                                    0.000000   \n",
       "25%                                   11.940294   \n",
       "50%                                   14.971014   \n",
       "75%                                   19.034162   \n",
       "max                                   31.269706   \n",
       "\n",
       "       secondary_cleaner.state.floatbank4_b_level  \\\n",
       "count                                19438.000000   \n",
       "mean                                  -461.078636   \n",
       "std                                     67.405524   \n",
       "min                                   -800.836914   \n",
       "25%                                   -500.187742   \n",
       "50%                                   -499.459786   \n",
       "75%                                   -400.118106   \n",
       "max                                     -6.506986   \n",
       "\n",
       "       secondary_cleaner.state.floatbank5_a_air  \\\n",
       "count                              19438.000000   \n",
       "mean                                  15.694452   \n",
       "std                                    5.510974   \n",
       "min                                   -0.372054   \n",
       "25%                                   10.988606   \n",
       "50%                                   15.000036   \n",
       "75%                                   18.026190   \n",
       "max                                   43.709931   \n",
       "\n",
       "       secondary_cleaner.state.floatbank5_a_level  \\\n",
       "count                                19438.000000   \n",
       "mean                                  -488.684065   \n",
       "std                                     34.533396   \n",
       "min                                   -797.323986   \n",
       "25%                                   -500.458467   \n",
       "50%                                   -499.802605   \n",
       "75%                                   -498.384187   \n",
       "max                                   -244.483566   \n",
       "\n",
       "       secondary_cleaner.state.floatbank5_b_air  \\\n",
       "count                              19438.000000   \n",
       "mean                                  12.198224   \n",
       "std                                    5.333024   \n",
       "min                                    0.528083   \n",
       "25%                                    8.971105   \n",
       "50%                                   11.019433   \n",
       "75%                                   14.019088   \n",
       "max                                   27.926001   \n",
       "\n",
       "       secondary_cleaner.state.floatbank5_b_level  \\\n",
       "count                                19438.000000   \n",
       "mean                                  -487.149827   \n",
       "std                                     38.347312   \n",
       "min                                   -800.220337   \n",
       "25%                                   -500.129462   \n",
       "50%                                   -499.935317   \n",
       "75%                                   -499.436708   \n",
       "max                                   -137.740004   \n",
       "\n",
       "       secondary_cleaner.state.floatbank6_a_air  \\\n",
       "count                              19437.000000   \n",
       "mean                                  18.959024   \n",
       "std                                    5.550498   \n",
       "min                                   -0.079426   \n",
       "25%                                   14.983037   \n",
       "50%                                   19.960541   \n",
       "75%                                   24.003170   \n",
       "max                                   32.188906   \n",
       "\n",
       "       secondary_cleaner.state.floatbank6_a_level  \n",
       "count                                19438.000000  \n",
       "mean                                  -505.436305  \n",
       "std                                     37.689057  \n",
       "min                                   -809.741464  \n",
       "25%                                   -500.728067  \n",
       "50%                                   -500.048400  \n",
       "75%                                   -499.495378  \n",
       "max                                   -104.427459  \n",
       "\n",
       "[8 rows x 86 columns]"
      ]
     },
     "metadata": {},
     "output_type": "display_data"
    },
    {
     "name": "stdout",
     "output_type": "stream",
     "text": [
      "\n",
      "——————————————————————————————————————————————————————————————————\n"
     ]
    }
   ],
   "source": [
    "df_info(df_train)\n",
    "df_info(df_test)\n",
    "df_info(df_full)"
   ]
  },
  {
   "cell_type": "markdown",
   "metadata": {},
   "source": [
    "### Эффективность обогащения\n",
    "\n",
    "На обучающей выборке для признака `rougher.output.recovery`.  \n",
    "`MAE` между расчётами и значением признака  "
   ]
  },
  {
   "cell_type": "markdown",
   "metadata": {},
   "source": [
    "* C — доля золота в концентрате после флотации/очистки;  \n",
    "* F — доля золота в сырье/концентрате до флотации/очистки;  \n",
    "* T — доля золота в отвальных хвостах после флотации/очистки.  "
   ]
  },
  {
   "cell_type": "code",
   "execution_count": 5,
   "metadata": {},
   "outputs": [
    {
     "name": "stdout",
     "output_type": "stream",
     "text": [
      "Средняя абсолютная ошибка (MAE): 9.74 × 10⁻¹⁵\n"
     ]
    }
   ],
   "source": [
    "C = df_train['rougher.output.concentrate_au']\n",
    "F = df_train['rougher.input.feed_au']\n",
    "T = df_train['rougher.output.tail_au']\n",
    "target = df_train['rougher.output.recovery']\n",
    "recovery = (C * (F - T)) / (F * (C - T)) * 100\n",
    "mae = mean_absolute_error(target, recovery)\n",
    "print(f'Средняя абсолютная ошибка (MAE): {mae * 1e15:.2f} × 10⁻¹⁵')"
   ]
  },
  {
   "cell_type": "markdown",
   "metadata": {},
   "source": [
    "* Средняя абсолютная ошибка крайне мала, эффективность обогощения рассчитывается верно.<br>"
   ]
  },
  {
   "cell_type": "markdown",
   "metadata": {},
   "source": [
    "### Анализ признаков, недоступных в тестовой выборке"
   ]
  },
  {
   "cell_type": "code",
   "execution_count": 6,
   "metadata": {
    "scrolled": false
   },
   "outputs": [
    {
     "data": {
      "text/html": [
       "<div>\n",
       "<style scoped>\n",
       "    .dataframe tbody tr th:only-of-type {\n",
       "        vertical-align: middle;\n",
       "    }\n",
       "\n",
       "    .dataframe tbody tr th {\n",
       "        vertical-align: top;\n",
       "    }\n",
       "\n",
       "    .dataframe thead th {\n",
       "        text-align: right;\n",
       "    }\n",
       "</style>\n",
       "<table border=\"1\" class=\"dataframe\">\n",
       "  <thead>\n",
       "    <tr style=\"text-align: right;\">\n",
       "      <th></th>\n",
       "      <th>Отсутствующие в тестовой выборке признаки</th>\n",
       "    </tr>\n",
       "  </thead>\n",
       "  <tbody>\n",
       "    <tr>\n",
       "      <th>0</th>\n",
       "      <td>final.output.concentrate_ag</td>\n",
       "    </tr>\n",
       "    <tr>\n",
       "      <th>1</th>\n",
       "      <td>final.output.concentrate_au</td>\n",
       "    </tr>\n",
       "    <tr>\n",
       "      <th>2</th>\n",
       "      <td>final.output.concentrate_pb</td>\n",
       "    </tr>\n",
       "    <tr>\n",
       "      <th>3</th>\n",
       "      <td>final.output.concentrate_sol</td>\n",
       "    </tr>\n",
       "    <tr>\n",
       "      <th>4</th>\n",
       "      <td>final.output.recovery</td>\n",
       "    </tr>\n",
       "    <tr>\n",
       "      <th>5</th>\n",
       "      <td>final.output.tail_ag</td>\n",
       "    </tr>\n",
       "    <tr>\n",
       "      <th>6</th>\n",
       "      <td>final.output.tail_au</td>\n",
       "    </tr>\n",
       "    <tr>\n",
       "      <th>7</th>\n",
       "      <td>final.output.tail_pb</td>\n",
       "    </tr>\n",
       "    <tr>\n",
       "      <th>8</th>\n",
       "      <td>final.output.tail_sol</td>\n",
       "    </tr>\n",
       "    <tr>\n",
       "      <th>9</th>\n",
       "      <td>primary_cleaner.output.concentrate_ag</td>\n",
       "    </tr>\n",
       "    <tr>\n",
       "      <th>10</th>\n",
       "      <td>primary_cleaner.output.concentrate_au</td>\n",
       "    </tr>\n",
       "    <tr>\n",
       "      <th>11</th>\n",
       "      <td>primary_cleaner.output.concentrate_pb</td>\n",
       "    </tr>\n",
       "    <tr>\n",
       "      <th>12</th>\n",
       "      <td>primary_cleaner.output.concentrate_sol</td>\n",
       "    </tr>\n",
       "    <tr>\n",
       "      <th>13</th>\n",
       "      <td>primary_cleaner.output.tail_ag</td>\n",
       "    </tr>\n",
       "    <tr>\n",
       "      <th>14</th>\n",
       "      <td>primary_cleaner.output.tail_au</td>\n",
       "    </tr>\n",
       "    <tr>\n",
       "      <th>15</th>\n",
       "      <td>primary_cleaner.output.tail_pb</td>\n",
       "    </tr>\n",
       "    <tr>\n",
       "      <th>16</th>\n",
       "      <td>primary_cleaner.output.tail_sol</td>\n",
       "    </tr>\n",
       "    <tr>\n",
       "      <th>17</th>\n",
       "      <td>rougher.calculation.au_pb_ratio</td>\n",
       "    </tr>\n",
       "    <tr>\n",
       "      <th>18</th>\n",
       "      <td>rougher.calculation.floatbank10_sulfate_to_au_...</td>\n",
       "    </tr>\n",
       "    <tr>\n",
       "      <th>19</th>\n",
       "      <td>rougher.calculation.floatbank11_sulfate_to_au_...</td>\n",
       "    </tr>\n",
       "    <tr>\n",
       "      <th>20</th>\n",
       "      <td>rougher.calculation.sulfate_to_au_concentrate</td>\n",
       "    </tr>\n",
       "    <tr>\n",
       "      <th>21</th>\n",
       "      <td>rougher.output.concentrate_ag</td>\n",
       "    </tr>\n",
       "    <tr>\n",
       "      <th>22</th>\n",
       "      <td>rougher.output.concentrate_au</td>\n",
       "    </tr>\n",
       "    <tr>\n",
       "      <th>23</th>\n",
       "      <td>rougher.output.concentrate_pb</td>\n",
       "    </tr>\n",
       "    <tr>\n",
       "      <th>24</th>\n",
       "      <td>rougher.output.concentrate_sol</td>\n",
       "    </tr>\n",
       "    <tr>\n",
       "      <th>25</th>\n",
       "      <td>rougher.output.recovery</td>\n",
       "    </tr>\n",
       "    <tr>\n",
       "      <th>26</th>\n",
       "      <td>rougher.output.tail_ag</td>\n",
       "    </tr>\n",
       "    <tr>\n",
       "      <th>27</th>\n",
       "      <td>rougher.output.tail_au</td>\n",
       "    </tr>\n",
       "    <tr>\n",
       "      <th>28</th>\n",
       "      <td>rougher.output.tail_pb</td>\n",
       "    </tr>\n",
       "    <tr>\n",
       "      <th>29</th>\n",
       "      <td>rougher.output.tail_sol</td>\n",
       "    </tr>\n",
       "    <tr>\n",
       "      <th>30</th>\n",
       "      <td>secondary_cleaner.output.tail_ag</td>\n",
       "    </tr>\n",
       "    <tr>\n",
       "      <th>31</th>\n",
       "      <td>secondary_cleaner.output.tail_au</td>\n",
       "    </tr>\n",
       "    <tr>\n",
       "      <th>32</th>\n",
       "      <td>secondary_cleaner.output.tail_pb</td>\n",
       "    </tr>\n",
       "    <tr>\n",
       "      <th>33</th>\n",
       "      <td>secondary_cleaner.output.tail_sol</td>\n",
       "    </tr>\n",
       "  </tbody>\n",
       "</table>\n",
       "</div>"
      ],
      "text/plain": [
       "            Отсутствующие в тестовой выборке признаки\n",
       "0                         final.output.concentrate_ag\n",
       "1                         final.output.concentrate_au\n",
       "2                         final.output.concentrate_pb\n",
       "3                        final.output.concentrate_sol\n",
       "4                               final.output.recovery\n",
       "5                                final.output.tail_ag\n",
       "6                                final.output.tail_au\n",
       "7                                final.output.tail_pb\n",
       "8                               final.output.tail_sol\n",
       "9               primary_cleaner.output.concentrate_ag\n",
       "10              primary_cleaner.output.concentrate_au\n",
       "11              primary_cleaner.output.concentrate_pb\n",
       "12             primary_cleaner.output.concentrate_sol\n",
       "13                     primary_cleaner.output.tail_ag\n",
       "14                     primary_cleaner.output.tail_au\n",
       "15                     primary_cleaner.output.tail_pb\n",
       "16                    primary_cleaner.output.tail_sol\n",
       "17                    rougher.calculation.au_pb_ratio\n",
       "18  rougher.calculation.floatbank10_sulfate_to_au_...\n",
       "19  rougher.calculation.floatbank11_sulfate_to_au_...\n",
       "20      rougher.calculation.sulfate_to_au_concentrate\n",
       "21                      rougher.output.concentrate_ag\n",
       "22                      rougher.output.concentrate_au\n",
       "23                      rougher.output.concentrate_pb\n",
       "24                     rougher.output.concentrate_sol\n",
       "25                            rougher.output.recovery\n",
       "26                             rougher.output.tail_ag\n",
       "27                             rougher.output.tail_au\n",
       "28                             rougher.output.tail_pb\n",
       "29                            rougher.output.tail_sol\n",
       "30                   secondary_cleaner.output.tail_ag\n",
       "31                   secondary_cleaner.output.tail_au\n",
       "32                   secondary_cleaner.output.tail_pb\n",
       "33                  secondary_cleaner.output.tail_sol"
      ]
     },
     "execution_count": 6,
     "metadata": {},
     "output_type": "execute_result"
    }
   ],
   "source": [
    "diff = list(set(df_train) - set(df_test))\n",
    "train_test_diff = pd.DataFrame(diff).sort_values(by=0).reset_index(drop=True).rename(\n",
    "    columns={0: 'Отсутствующие в тестовой выборке признаки'}\n",
    ")\n",
    "train_test_diff"
   ]
  },
  {
   "cell_type": "markdown",
   "metadata": {},
   "source": [
    "* В тестовой выборке отсутствуют параметры продукта (`output`) и расчётные характеристики (`calculation`).<br>"
   ]
  },
  {
   "cell_type": "markdown",
   "metadata": {},
   "source": [
    "### Предобработка данных"
   ]
  },
  {
   "cell_type": "markdown",
   "metadata": {},
   "source": [
    "#### Столбец `date` к нужному формату\n",
    "\n",
    "Дата — единственный формат, по которому можно сделать индекс.  \n",
    "Индексы каждого датасета не перекликаются между собой.  "
   ]
  },
  {
   "cell_type": "code",
   "execution_count": 7,
   "metadata": {},
   "outputs": [],
   "source": [
    "df_train['date'] = pd.to_datetime(df_train['date'], format='%Y-%m-%d %H:%M:%S')\n",
    "df_full['date'] = pd.to_datetime(df_full['date'], format='%Y-%m-%d %H:%M:%S')\n",
    "df_test['date'] = pd.to_datetime(df_test['date'], format='%Y-%m-%d %H:%M:%S')\n",
    "df_train = df_train.set_index(pd.DatetimeIndex(df_train['date']))\n",
    "df_full = df_full.set_index(pd.DatetimeIndex(df_full['date']))\n",
    "df_test = df_test.set_index(pd.DatetimeIndex(df_test['date']))"
   ]
  },
  {
   "cell_type": "markdown",
   "metadata": {},
   "source": [
    "#### Обработка пропусков"
   ]
  },
  {
   "cell_type": "markdown",
   "metadata": {},
   "source": [
    "#####  Исходные данные"
   ]
  },
  {
   "cell_type": "code",
   "execution_count": 8,
   "metadata": {
    "scrolled": true
   },
   "outputs": [
    {
     "data": {
      "text/plain": [
       "secondary_cleaner.output.tail_sol           1748\n",
       "rougher.input.floatbank11_xanthate           453\n",
       "rougher.state.floatbank10_e_air              436\n",
       "primary_cleaner.output.concentrate_sol       370\n",
       "secondary_cleaner.state.floatbank2_a_air     220\n",
       "final.output.concentrate_sol                 211\n",
       "rougher.input.feed_size                      145\n",
       "primary_cleaner.output.concentrate_pb        116\n",
       "primary_cleaner.input.xanthate               104\n",
       "final.output.tail_pb                         101\n",
       "dtype: int64"
      ]
     },
     "metadata": {},
     "output_type": "display_data"
    },
    {
     "name": "stdout",
     "output_type": "stream",
     "text": [
      "Максимальное количество пропусков: 9%\n"
     ]
    }
   ],
   "source": [
    "display(df_full.isna().sum().sort_values(ascending=False).head(10))\n",
    "print(f'Максимальное количество пропусков: '\n",
    "      f'{df_full.isna().sum().sort_values(ascending=False)[0] / len(df_full):.0%}')"
   ]
  },
  {
   "cell_type": "code",
   "execution_count": 9,
   "metadata": {},
   "outputs": [
    {
     "data": {
      "text/plain": [
       "date                               0\n",
       "rougher.state.floatbank10_b_air    0\n",
       "rougher.state.floatbank10_f_air    0\n",
       "dtype: int64"
      ]
     },
     "execution_count": 9,
     "metadata": {},
     "output_type": "execute_result"
    }
   ],
   "source": [
    "df_full = df_full.interpolate(method='time')\n",
    "df_full.isna().sum().sort_values(ascending=False).head(3)"
   ]
  },
  {
   "cell_type": "code",
   "execution_count": 10,
   "metadata": {},
   "outputs": [],
   "source": [
    "full_target_rougher = df_full['rougher.output.recovery']\n",
    "full_target_final = df_full['final.output.recovery']\n",
    "full_features = df_full.drop(['rougher.output.recovery', 'final.output.recovery'], axis=1)"
   ]
  },
  {
   "cell_type": "markdown",
   "metadata": {},
   "source": [
    "#####  Тренировочная выборка"
   ]
  },
  {
   "cell_type": "code",
   "execution_count": 11,
   "metadata": {},
   "outputs": [
    {
     "data": {
      "text/plain": [
       "secondary_cleaner.output.tail_sol           1605\n",
       "rougher.state.floatbank10_e_air              436\n",
       "rougher.input.floatbank11_xanthate           428\n",
       "primary_cleaner.output.concentrate_sol       286\n",
       "secondary_cleaner.state.floatbank2_a_air     217\n",
       "final.output.concentrate_sol                 211\n",
       "rougher.input.feed_size                      144\n",
       "primary_cleaner.input.xanthate               100\n",
       "rougher.input.feed_pb                        100\n",
       "final.output.tail_pb                         100\n",
       "dtype: int64"
      ]
     },
     "metadata": {},
     "output_type": "display_data"
    },
    {
     "name": "stdout",
     "output_type": "stream",
     "text": [
      "Максимальное количество пропусков: 11%\n"
     ]
    }
   ],
   "source": [
    "display(df_train.isna().sum().sort_values(ascending=False).head(10))\n",
    "print(f'Максимальное количество пропусков: '\n",
    "      f'{df_train.isna().sum().sort_values(ascending=False)[0] / len(df_train):.0%}')"
   ]
  },
  {
   "cell_type": "code",
   "execution_count": 12,
   "metadata": {},
   "outputs": [
    {
     "data": {
      "text/plain": [
       "date                               0\n",
       "rougher.state.floatbank10_b_air    0\n",
       "rougher.state.floatbank10_f_air    0\n",
       "dtype: int64"
      ]
     },
     "execution_count": 12,
     "metadata": {},
     "output_type": "execute_result"
    }
   ],
   "source": [
    "df_train = df_train.interpolate(method='time')\n",
    "df_train.isna().sum().sort_values(ascending=False).head(3)"
   ]
  },
  {
   "cell_type": "code",
   "execution_count": 13,
   "metadata": {},
   "outputs": [],
   "source": [
    "train_target_rougher = df_train['rougher.output.recovery']\n",
    "train_target_final = df_train['final.output.recovery']\n",
    "train_features = df_train.drop(['rougher.output.recovery', 'final.output.recovery'], axis=1)"
   ]
  },
  {
   "cell_type": "markdown",
   "metadata": {},
   "source": [
    "#####  Тестовая выборка"
   ]
  },
  {
   "cell_type": "code",
   "execution_count": 14,
   "metadata": {},
   "outputs": [
    {
     "data": {
      "text/plain": [
       "rougher.input.floatbank11_xanthate          25\n",
       "rougher.input.feed_sol                      21\n",
       "secondary_cleaner.state.floatbank3_a_air     9\n",
       "dtype: int64"
      ]
     },
     "metadata": {},
     "output_type": "display_data"
    },
    {
     "name": "stdout",
     "output_type": "stream",
     "text": [
      "Максимальное количество пропусков: 0.473%\n"
     ]
    }
   ],
   "source": [
    "display(df_test.isna().sum().sort_values(ascending=False).head(3))\n",
    "print(f'Максимальное количество пропусков: '\n",
    "      f'{df_test.isna().sum().sort_values(ascending=False)[0] / len(df_test):.3%}')"
   ]
  },
  {
   "cell_type": "code",
   "execution_count": 15,
   "metadata": {},
   "outputs": [
    {
     "data": {
      "text/plain": [
       "date                               0\n",
       "rougher.state.floatbank10_c_air    0\n",
       "rougher.state.floatbank10_d_air    0\n",
       "dtype: int64"
      ]
     },
     "execution_count": 15,
     "metadata": {},
     "output_type": "execute_result"
    }
   ],
   "source": [
    "df_test = df_test.interpolate(method='time')\n",
    "df_test.isna().sum().sort_values(ascending=False).head(3)"
   ]
  },
  {
   "cell_type": "code",
   "execution_count": 16,
   "metadata": {},
   "outputs": [],
   "source": [
    "df_test[['rougher.output.recovery', 'final.output.recovery']] = df_full[\n",
    "    ['rougher.output.recovery', 'final.output.recovery']]"
   ]
  },
  {
   "cell_type": "code",
   "execution_count": 17,
   "metadata": {},
   "outputs": [],
   "source": [
    "test_target_rougher = df_test['rougher.output.recovery']\n",
    "test_target_final = df_test['final.output.recovery']\n",
    "test_features = df_test.drop(['rougher.output.recovery', 'final.output.recovery', 'date'], axis=1)"
   ]
  },
  {
   "cell_type": "markdown",
   "metadata": {},
   "source": [
    "***\n",
    "<a name=\"2_conclusion\"></a>\n",
    "### Вывод\n",
    "\n",
    "* Средняя абсолютная ошибка крайне мала, эффективность обогощения рассчитывается верно.\n",
    "* В тестовой выборке отсутствуют параметры продукта (`output`) и расчётные характеристики (`calculation`).  \n",
    "    В том числе целевые признаки: `rougher.output.recovery` и `final.output.recovery`.  \n",
    "    Их можно восстановить из исходных данных.<br><br>\n",
    "***"
   ]
  },
  {
   "cell_type": "markdown",
   "metadata": {},
   "source": [
    "## Анализ данных"
   ]
  },
  {
   "cell_type": "markdown",
   "metadata": {},
   "source": [
    "### Концентрация металлов (Au, Ag, Pb) на различных этапах очистки"
   ]
  },
  {
   "cell_type": "code",
   "execution_count": 18,
   "metadata": {},
   "outputs": [],
   "source": [
    "param_list = ['rougher.input.feed_', 'rougher.output.concentrate_', 'primary_cleaner.output.concentrate_',\n",
    "              'final.output.concentrate_']\n",
    "au_concentrate = full_features[[f'{param}au' for param in param_list]]\n",
    "ag_concentrate = full_features[[f'{param}ag' for param in param_list]]\n",
    "pb_concentrate = full_features[[f'{param}pb' for param in param_list]]"
   ]
  },
  {
   "cell_type": "code",
   "execution_count": 19,
   "metadata": {},
   "outputs": [
    {
     "data": {
      "image/png": "[encoded data removed]",
      "text/plain": [
       "<Figure size 1224x864 with 6 Axes>"
      ]
     },
     "metadata": {
      "needs_background": "light"
     },
     "output_type": "display_data"
    }
   ],
   "source": [
    "\n",
    "\n",
    "fig, axes = plt.subplots(2, 3, figsize=(17, 12))\n",
    "palette = ['#00798C', '#EDAE49', '#D1495B', '#30638E']  # 30638E, 003D5B\n",
    "labels = ['Нач. концентрация', 'Флотация', 'Первичная очистка', 'Финальная очистка']\n",
    "\n",
    "sns.stripplot(data=au_concentrate, ax=axes[0, 0], palette=palette)\n",
    "axes[0, 0].set_title('Золото', fontsize=17)\n",
    "axes[0, 0].set_ylabel('%')\n",
    "axes[0, 0].set_xticklabels(labels, rotation=15)\n",
    "\n",
    "sns.stripplot(data=ag_concentrate, ax=axes[0, 1], palette=palette)\n",
    "axes[0, 1].set_title('Серебро', fontsize=17)\n",
    "axes[0, 1].set_ylabel('%')\n",
    "axes[0, 1].set_xticklabels(labels, rotation=15)\n",
    "\n",
    "sns.stripplot(data=pb_concentrate, ax=axes[0, 2], palette=palette)\n",
    "axes[0, 2].set_title('Свинец', fontsize=17)\n",
    "axes[0, 2].set_ylabel('%')\n",
    "axes[0, 2].set_xticklabels(labels, rotation=15)\n",
    "\n",
    "sns.boxplot(data=au_concentrate, ax=axes[1, 0], palette=palette)\n",
    "axes[1, 0].set_ylabel('%')\n",
    "axes[1, 0].set_xticklabels(labels, rotation=15)\n",
    "\n",
    "sns.boxplot(data=ag_concentrate, ax=axes[1, 1], palette=palette)\n",
    "axes[1, 1].set_ylabel('%')\n",
    "axes[1, 1].set_xticklabels(labels, rotation=15)\n",
    "\n",
    "sns.boxplot(data=pb_concentrate, ax=axes[1, 2], palette=palette)\n",
    "axes[1, 2].set_ylabel('%')\n",
    "axes[1, 2].set_xticklabels(labels, rotation=15)\n",
    "\n",
    "plt.show()"
   ]
  },
  {
   "cell_type": "markdown",
   "metadata": {},
   "source": [
    "* С каждым этапом концентрация `золота` увеличивается.  \n",
    "* На этапе флотации концентрация `серебра` увеличилась, а после стала снижаться.  \n",
    "    После флотации, вероятно, есть возможность получать и `серебро`.  \n",
    "* Нет чёткой зависимости концентрации `свинца` от этапа очистки.  "
   ]
  },
  {
   "cell_type": "markdown",
   "metadata": {},
   "source": [
    "### Сравнение распределения размеров гранул сырья на обучающей и тестовой выборках\n",
    "\n",
    "Если распределения сильно отличаются друг от друга, оценка модели будет неправильной."
   ]
  },
  {
   "cell_type": "code",
   "execution_count": 20,
   "metadata": {},
   "outputs": [
    {
     "data": {
      "text/html": [
       "<div>\n",
       "<style scoped>\n",
       "    .dataframe tbody tr th:only-of-type {\n",
       "        vertical-align: middle;\n",
       "    }\n",
       "\n",
       "    .dataframe tbody tr th {\n",
       "        vertical-align: top;\n",
       "    }\n",
       "\n",
       "    .dataframe thead th {\n",
       "        text-align: right;\n",
       "    }\n",
       "</style>\n",
       "<table border=\"1\" class=\"dataframe\">\n",
       "  <thead>\n",
       "    <tr style=\"text-align: right;\">\n",
       "      <th></th>\n",
       "      <th>train</th>\n",
       "      <th>test</th>\n",
       "    </tr>\n",
       "  </thead>\n",
       "  <tbody>\n",
       "    <tr>\n",
       "      <th>count</th>\n",
       "      <td>14149.000000</td>\n",
       "      <td>5290.000000</td>\n",
       "    </tr>\n",
       "    <tr>\n",
       "      <th>mean</th>\n",
       "      <td>60.033541</td>\n",
       "      <td>55.952835</td>\n",
       "    </tr>\n",
       "    <tr>\n",
       "      <th>std</th>\n",
       "      <td>23.099655</td>\n",
       "      <td>19.080372</td>\n",
       "    </tr>\n",
       "    <tr>\n",
       "      <th>min</th>\n",
       "      <td>9.659576</td>\n",
       "      <td>0.046369</td>\n",
       "    </tr>\n",
       "    <tr>\n",
       "      <th>25%</th>\n",
       "      <td>48.913889</td>\n",
       "      <td>43.906504</td>\n",
       "    </tr>\n",
       "    <tr>\n",
       "      <th>50%</th>\n",
       "      <td>55.269784</td>\n",
       "      <td>50.846843</td>\n",
       "    </tr>\n",
       "    <tr>\n",
       "      <th>75%</th>\n",
       "      <td>65.982466</td>\n",
       "      <td>62.451165</td>\n",
       "    </tr>\n",
       "    <tr>\n",
       "      <th>max</th>\n",
       "      <td>484.967466</td>\n",
       "      <td>392.494040</td>\n",
       "    </tr>\n",
       "  </tbody>\n",
       "</table>\n",
       "</div>"
      ],
      "text/plain": [
       "              train         test\n",
       "count  14149.000000  5290.000000\n",
       "mean      60.033541    55.952835\n",
       "std       23.099655    19.080372\n",
       "min        9.659576     0.046369\n",
       "25%       48.913889    43.906504\n",
       "50%       55.269784    50.846843\n",
       "75%       65.982466    62.451165\n",
       "max      484.967466   392.494040"
      ]
     },
     "execution_count": 20,
     "metadata": {},
     "output_type": "execute_result"
    }
   ],
   "source": [
    "rougher_feed_size = pd.concat([train_features['rougher.input.feed_size'], df_test['rougher.input.feed_size']], axis=1)\n",
    "rougher_feed_size.columns = ['train', 'test']\n",
    "rougher_feed_size.describe()"
   ]
  },
  {
   "cell_type": "code",
   "execution_count": 21,
   "metadata": {},
   "outputs": [
    {
     "data": {
      "image/png": "[encoded data removed]",
      "text/plain": [
       "<Figure size 635.375x576 with 1 Axes>"
      ]
     },
     "metadata": {
      "needs_background": "light"
     },
     "output_type": "display_data"
    }
   ],
   "source": [
    "sns.displot(rougher_feed_size, kde=True, height=8, palette=['#00798C', '#D1495B'])\n",
    "plt.title('Распределения размеров гранул сырья на обучающей и тестовой выборках\\nпри флотации')\n",
    "plt.xlim([0, 150])\n",
    "plt.show()"
   ]
  },
  {
   "cell_type": "code",
   "execution_count": 22,
   "metadata": {},
   "outputs": [
    {
     "data": {
      "text/html": [
       "<div>\n",
       "<style scoped>\n",
       "    .dataframe tbody tr th:only-of-type {\n",
       "        vertical-align: middle;\n",
       "    }\n",
       "\n",
       "    .dataframe tbody tr th {\n",
       "        vertical-align: top;\n",
       "    }\n",
       "\n",
       "    .dataframe thead th {\n",
       "        text-align: right;\n",
       "    }\n",
       "</style>\n",
       "<table border=\"1\" class=\"dataframe\">\n",
       "  <thead>\n",
       "    <tr style=\"text-align: right;\">\n",
       "      <th></th>\n",
       "      <th>train</th>\n",
       "      <th>test</th>\n",
       "    </tr>\n",
       "  </thead>\n",
       "  <tbody>\n",
       "    <tr>\n",
       "      <th>count</th>\n",
       "      <td>14149.000000</td>\n",
       "      <td>5290.000000</td>\n",
       "    </tr>\n",
       "    <tr>\n",
       "      <th>mean</th>\n",
       "      <td>7.322310</td>\n",
       "      <td>7.266339</td>\n",
       "    </tr>\n",
       "    <tr>\n",
       "      <th>std</th>\n",
       "      <td>0.614062</td>\n",
       "      <td>0.610219</td>\n",
       "    </tr>\n",
       "    <tr>\n",
       "      <th>min</th>\n",
       "      <td>1.080000</td>\n",
       "      <td>5.650000</td>\n",
       "    </tr>\n",
       "    <tr>\n",
       "      <th>25%</th>\n",
       "      <td>6.960000</td>\n",
       "      <td>6.890000</td>\n",
       "    </tr>\n",
       "    <tr>\n",
       "      <th>50%</th>\n",
       "      <td>7.290000</td>\n",
       "      <td>7.250000</td>\n",
       "    </tr>\n",
       "    <tr>\n",
       "      <th>75%</th>\n",
       "      <td>7.700000</td>\n",
       "      <td>7.600000</td>\n",
       "    </tr>\n",
       "    <tr>\n",
       "      <th>max</th>\n",
       "      <td>10.470000</td>\n",
       "      <td>15.500000</td>\n",
       "    </tr>\n",
       "  </tbody>\n",
       "</table>\n",
       "</div>"
      ],
      "text/plain": [
       "              train         test\n",
       "count  14149.000000  5290.000000\n",
       "mean       7.322310     7.266339\n",
       "std        0.614062     0.610219\n",
       "min        1.080000     5.650000\n",
       "25%        6.960000     6.890000\n",
       "50%        7.290000     7.250000\n",
       "75%        7.700000     7.600000\n",
       "max       10.470000    15.500000"
      ]
     },
     "execution_count": 22,
     "metadata": {},
     "output_type": "execute_result"
    }
   ],
   "source": [
    "primary_feed_size = pd.concat([\n",
    "    train_features['primary_cleaner.input.feed_size'],\n",
    "    df_test['primary_cleaner.input.feed_size']\n",
    "], axis=1)\n",
    "primary_feed_size.columns = ['train', 'test']\n",
    "primary_feed_size.describe()"
   ]
  },
  {
   "cell_type": "code",
   "execution_count": 23,
   "metadata": {},
   "outputs": [
    {
     "data": {
      "image/png": "[encoded data removed]",
      "text/plain": [
       "<Figure size 635.375x576 with 1 Axes>"
      ]
     },
     "metadata": {
      "needs_background": "light"
     },
     "output_type": "display_data"
    }
   ],
   "source": [
    "sns.displot(primary_feed_size, kde=True, height=8, palette=['#003D5B', '#EDAE49'])\n",
    "plt.title('Распределения размеров гранул сырья на обучающей и тестовой выборках\\nпри первичной очистке')\n",
    "plt.xlim([4, 11])\n",
    "plt.show()"
   ]
  },
  {
   "cell_type": "markdown",
   "metadata": {},
   "source": [
    "* Распределенре размера гранул сырья в обучающей и тестовой выборках очень похожи.  \n",
    "  Влияния на оценку модели не будет."
   ]
  },
  {
   "cell_type": "markdown",
   "metadata": {},
   "source": [
    "### Суммарная концентрация всех веществ на разных стадиях\n",
    "В сырье, в черновом и финальном концентратах. "
   ]
  },
  {
   "cell_type": "code",
   "execution_count": 24,
   "metadata": {},
   "outputs": [
    {
     "data": {
      "text/html": [
       "<div>\n",
       "<style scoped>\n",
       "    .dataframe tbody tr th:only-of-type {\n",
       "        vertical-align: middle;\n",
       "    }\n",
       "\n",
       "    .dataframe tbody tr th {\n",
       "        vertical-align: top;\n",
       "    }\n",
       "\n",
       "    .dataframe thead th {\n",
       "        text-align: right;\n",
       "    }\n",
       "</style>\n",
       "<table border=\"1\" class=\"dataframe\">\n",
       "  <thead>\n",
       "    <tr style=\"text-align: right;\">\n",
       "      <th></th>\n",
       "      <th>feedstock</th>\n",
       "      <th>output_stock</th>\n",
       "      <th>primary_stock</th>\n",
       "      <th>final_stock</th>\n",
       "    </tr>\n",
       "  </thead>\n",
       "  <tbody>\n",
       "    <tr>\n",
       "      <th>count</th>\n",
       "      <td>19439.000000</td>\n",
       "      <td>19439.000000</td>\n",
       "      <td>19439.000000</td>\n",
       "      <td>19439.000000</td>\n",
       "    </tr>\n",
       "    <tr>\n",
       "      <th>mean</th>\n",
       "      <td>57.318892</td>\n",
       "      <td>68.174751</td>\n",
       "      <td>60.764379</td>\n",
       "      <td>68.659392</td>\n",
       "    </tr>\n",
       "    <tr>\n",
       "      <th>std</th>\n",
       "      <td>7.211533</td>\n",
       "      <td>12.485095</td>\n",
       "      <td>10.014820</td>\n",
       "      <td>7.422649</td>\n",
       "    </tr>\n",
       "    <tr>\n",
       "      <th>min</th>\n",
       "      <td>0.040000</td>\n",
       "      <td>0.000000</td>\n",
       "      <td>0.000000</td>\n",
       "      <td>0.000000</td>\n",
       "    </tr>\n",
       "    <tr>\n",
       "      <th>25%</th>\n",
       "      <td>53.552406</td>\n",
       "      <td>66.015877</td>\n",
       "      <td>58.926178</td>\n",
       "      <td>67.934878</td>\n",
       "    </tr>\n",
       "    <tr>\n",
       "      <th>50%</th>\n",
       "      <td>57.587818</td>\n",
       "      <td>70.181987</td>\n",
       "      <td>62.498575</td>\n",
       "      <td>69.599462</td>\n",
       "    </tr>\n",
       "    <tr>\n",
       "      <th>75%</th>\n",
       "      <td>61.953459</td>\n",
       "      <td>74.358248</td>\n",
       "      <td>65.666701</td>\n",
       "      <td>71.368472</td>\n",
       "    </tr>\n",
       "    <tr>\n",
       "      <th>max</th>\n",
       "      <td>76.978947</td>\n",
       "      <td>88.140119</td>\n",
       "      <td>80.749343</td>\n",
       "      <td>80.210644</td>\n",
       "    </tr>\n",
       "  </tbody>\n",
       "</table>\n",
       "</div>"
      ],
      "text/plain": [
       "          feedstock  output_stock  primary_stock   final_stock\n",
       "count  19439.000000  19439.000000   19439.000000  19439.000000\n",
       "mean      57.318892     68.174751      60.764379     68.659392\n",
       "std        7.211533     12.485095      10.014820      7.422649\n",
       "min        0.040000      0.000000       0.000000      0.000000\n",
       "25%       53.552406     66.015877      58.926178     67.934878\n",
       "50%       57.587818     70.181987      62.498575     69.599462\n",
       "75%       61.953459     74.358248      65.666701     71.368472\n",
       "max       76.978947     88.140119      80.749343     80.210644"
      ]
     },
     "execution_count": 24,
     "metadata": {},
     "output_type": "execute_result"
    }
   ],
   "source": [
    "df_full['feedstock'] = df_full[[\n",
    "    'rougher.input.feed_ag', 'rougher.input.feed_pb',\n",
    "    'rougher.input.feed_sol', 'rougher.input.feed_au'\n",
    "]].sum(axis=1)\n",
    "df_full['output_stock'] = df_full[[\n",
    "    'rougher.output.concentrate_ag', 'rougher.output.concentrate_pb',\n",
    "    'rougher.output.concentrate_sol', 'rougher.output.concentrate_au'\n",
    "]].sum(axis=1)\n",
    "df_full['primary_stock'] = df_full[[\n",
    "    'primary_cleaner.output.concentrate_ag', 'primary_cleaner.output.concentrate_pb',\n",
    "    'primary_cleaner.output.concentrate_sol', 'primary_cleaner.output.concentrate_au'\n",
    "]].sum(axis=1)\n",
    "df_full['final_stock'] = df_full[[\n",
    "    'final.output.concentrate_ag', 'final.output.concentrate_pb',\n",
    "    'final.output.concentrate_sol', 'final.output.concentrate_au'\n",
    "]].sum(axis=1)\n",
    "\n",
    "sum_concentration = df_full[['feedstock', 'output_stock', 'primary_stock', 'final_stock']]\n",
    "sum_concentration.describe()"
   ]
  },
  {
   "cell_type": "code",
   "execution_count": 25,
   "metadata": {},
   "outputs": [
    {
     "data": {
      "image/png": "[encoded data removed]",
      "text/plain": [
       "<Figure size 1080x576 with 2 Axes>"
      ]
     },
     "metadata": {
      "needs_background": "light"
     },
     "output_type": "display_data"
    }
   ],
   "source": [
    "fig, axes = plt.subplots(1, 2, figsize=(15, 8))\n",
    "palette = ['#00798C', '#EDAE49', '#D1495B', '#30638E']\n",
    "sns.histplot(sum_concentration, kde=True, palette=palette, ax=axes[0])\n",
    "axes[0].set_title('Суммарная концентрация всех веществ на разных стадиях')\n",
    "sns.histplot(sum_concentration, kde=True, ax=axes[1], palette=palette)\n",
    "axes[1].set_title('Фильтр по концентрации 0..1')\n",
    "plt.xlim([0, 1])\n",
    "plt.show()"
   ]
  },
  {
   "cell_type": "code",
   "execution_count": 26,
   "metadata": {},
   "outputs": [
    {
     "name": "stdout",
     "output_type": "stream",
     "text": [
      "Количество данных с нулевой концентрацией веществ на том или ином этапе:\n",
      "    591 (3.040%)\n",
      "Количество данных с концентрацией в диапозоне 0..1:\n",
      "    328 (1.687%)\n"
     ]
    }
   ],
   "source": [
    "len_null_objects = sum_concentration.query(\n",
    "    'output_stock == 0 or primary_stock == 0 or final_stock == 0'\n",
    ")['feedstock'].count()\n",
    "len_0_1_objects = sum_concentration.query(\n",
    "    'output_stock != 0 and primary_stock != 0 and final_stock != 0' +\n",
    "    'and output_stock < 1 or primary_stock < 1 or final_stock < 1'\n",
    ")['feedstock'].count()\n",
    "print(f'Количество данных с нулевой концентрацией веществ на том или ином этапе:\\n    '\n",
    "      f'{len_null_objects} ({len_null_objects / len(sum_concentration):.3%})')\n",
    "print(f'Количество данных с концентрацией в диапозоне 0..1:\\n    '\n",
    "      f'{len_0_1_objects} ({len_0_1_objects / len(sum_concentration):.3%})')"
   ]
  },
  {
   "cell_type": "markdown",
   "metadata": {},
   "source": [
    "Суммарная концентрация должна быть выше нуля до и после флотации, после первичной очистки и в финальных харарктеристиках.  \n",
    "Если концентрация равна нулю, данные бесполезны, их можно удалить.  \n",
    "Данные в диапозоне 0..1 легитимны, но ими можно пренебречь, так как их объём менее 2%.  "
   ]
  },
  {
   "cell_type": "code",
   "execution_count": 27,
   "metadata": {},
   "outputs": [],
   "source": [
    "df_full = df_full.query('output_stock > 1 and primary_stock > 1 and final_stock > 1')\n"
   ]
  },
  {
   "cell_type": "code",
   "execution_count": 28,
   "metadata": {},
   "outputs": [
    {
     "data": {
      "image/png": "[encoded data removed]",
      "text/plain": [
       "<Figure size 682.375x576 with 1 Axes>"
      ]
     },
     "metadata": {
      "needs_background": "light"
     },
     "output_type": "display_data"
    }
   ],
   "source": [
    "sns.displot(\n",
    "    df_full[['feedstock', 'output_stock', 'primary_stock', 'final_stock']],\n",
    "    kde=True, height=8, palette=palette\n",
    ")\n",
    "plt.title('Суммарная концентрация всех веществ на разных стадиях')\n",
    "plt.show()"
   ]
  },
  {
   "cell_type": "markdown",
   "metadata": {},
   "source": [
    "***\n",
    "<a name=\"3_conclusion\"></a>\n",
    "### Вывод\n",
    "\n",
    "* С каждым этапом концентрация `золота` увеличивается.\n",
    "* На этапе флотации концентрация `серебра` увеличилась, а после стала снижаться.  \n",
    "  После флотации, вероятно, есть возможность получать и `серебро`.\n",
    "* Нет чёткой зависимости концентрации `свинца` от этапа очистки.\n",
    "* Разброс значений каждого элемента уменьшается с каждым этапом очистки.  \n",
    "  При этом на каждом этапе много «выбросов».\n",
    "* Распределенре размера гранул сырья в обучающей и тестовой выборках очень похожи.  \n",
    "  Влияния на оценку модели не будет.\n",
    "* Убраны нерелевантные данные, исходя из выбросов по концентрации веществ.<br><br>\n",
    "***"
   ]
  },
  {
   "cell_type": "markdown",
   "metadata": {},
   "source": [
    "## Модель"
   ]
  },
  {
   "cell_type": "markdown",
   "metadata": {},
   "source": [
    "### Функция для вычисления итоговой sMAPE"
   ]
  },
  {
   "cell_type": "code",
   "execution_count": 29,
   "metadata": {},
   "outputs": [],
   "source": [
    "train_features = train_features[test_features.columns]\n",
    "\n",
    "\n",
    "def smape(target, predicted):\n",
    "    result = (abs(predicted - target) / ((abs(target) + abs(predicted)) / 2)).sum() / len(target)\n",
    "    return result\n",
    "\n",
    "\n",
    "scorer = make_scorer(smape)\n",
    "\n",
    "\n",
    "def final_smape(model):\n",
    "    rougher_cvs = cross_val_score(model, train_features, train_target_rougher, scoring=scorer)\n",
    "    rougher_cvs_mean = rougher_cvs.mean()\n",
    "    rougher_cvs_std = rougher_cvs.std()\n",
    "    final_cvs = cross_val_score(model, train_features, train_target_final, scoring=scorer)\n",
    "    final_cvs_mean = final_cvs.mean()\n",
    "    final_cvs_std = final_cvs.std()\n",
    "    result = 0.25 * rougher_cvs_mean + 0.75 * final_cvs_mean\n",
    "    return result"
   ]
  },
  {
   "cell_type": "markdown",
   "metadata": {},
   "source": [
    "### Модели и оценка их качества кросс-валидацией"
   ]
  },
  {
   "cell_type": "markdown",
   "metadata": {},
   "source": [
    "#### Проверка на адекватность"
   ]
  },
  {
   "cell_type": "code",
   "execution_count": 30,
   "metadata": {},
   "outputs": [
    {
     "name": "stdout",
     "output_type": "stream",
     "text": [
      "Наименьшая симметричная средняя абсолютная ошибка (sMAPE): 10.290%\n",
      "У финальной модели ошибка должна быть меньше\n"
     ]
    }
   ],
   "source": [
    "model = DummyRegressor(strategy='mean')\n",
    "\n",
    "model.fit(train_features, train_target_rougher)\n",
    "pred_rougher = model.predict(test_features)\n",
    "model.fit(train_features, train_target_final)\n",
    "pred_final = model.predict(test_features)\n",
    "sm_rougher = smape(test_target_rougher, pred_rougher).mean()\n",
    "sm_final = smape(test_target_final, pred_final).mean()\n",
    "\n",
    "result = 0.25 * sm_rougher + 0.75 * sm_final\n",
    "print(f'Наименьшая симметричная средняя абсолютная ошибка (sMAPE): {result:.3%}\\n'\n",
    "      f'У финальной модели ошибка должна быть меньше')"
   ]
  },
  {
   "cell_type": "markdown",
   "metadata": {},
   "source": [
    "#### Модель линейной регрессии"
   ]
  },
  {
   "cell_type": "code",
   "execution_count": 31,
   "metadata": {},
   "outputs": [
    {
     "name": "stdout",
     "output_type": "stream",
     "text": [
      "Наименьшая симметричная средняя абсолютная ошибка (sMAPE): 12.37%\n"
     ]
    }
   ],
   "source": [
    "model = LinearRegression()\n",
    "result = final_smape(model)\n",
    "print(f'Наименьшая симметричная средняя абсолютная ошибка (sMAPE): {result:.2%}')"
   ]
  },
  {
   "cell_type": "markdown",
   "metadata": {},
   "source": [
    "#### Модель регрессии дерева решений"
   ]
  },
  {
   "cell_type": "code",
   "execution_count": 32,
   "metadata": {},
   "outputs": [
    {
     "name": "stdout",
     "output_type": "stream",
     "text": [
      "Наименьшая симметричная средняя абсолютная ошибка (sMAPE): 22.62%\n"
     ]
    }
   ],
   "source": [
    "model = DecisionTreeRegressor(random_state=12345)\n",
    "result = final_smape(model)\n",
    "print(f'Наименьшая симметричная средняя абсолютная ошибка (sMAPE): {result:.2%}')"
   ]
  },
  {
   "cell_type": "markdown",
   "metadata": {},
   "source": [
    "#### Модель случайного леса"
   ]
  },
  {
   "cell_type": "code",
   "execution_count": 33,
   "metadata": {},
   "outputs": [
    {
     "name": "stdout",
     "output_type": "stream",
     "text": [
      "Наиболее подходящая глубина: 4\n",
      "Наиболее подходящее количество «деревьев»: 20\n",
      "Наименьшая симметричная средняя абсолютная ошибка (sMAPE): 10.49%\n"
     ]
    }
   ],
   "source": [
    "best_final_smape = 1\n",
    "best_depth = 0\n",
    "best_estimators = 0\n",
    "for depth in range(4, 5):\n",
    "    for est in range(20, 21):\n",
    "        model = RandomForestRegressor(random_state=12345, n_estimators=est, max_depth=depth)\n",
    "        final_smape_ = final_smape(model)\n",
    "        if abs(final_smape_) < abs(best_final_smape):\n",
    "            best_depth = depth\n",
    "            best_estimators = est\n",
    "            best_final_smape = final_smape_\n",
    "print(\n",
    "    f'Наиболее подходящая глубина: {best_depth}\\n'\n",
    "    f'Наиболее подходящее количество «деревьев»: {best_estimators}\\n'\n",
    "    f'Наименьшая симметричная средняя абсолютная ошибка (sMAPE): {best_final_smape:.2%}'\n",
    ")"
   ]
  },
  {
   "cell_type": "markdown",
   "metadata": {},
   "source": [
    "#### Оценка модели случайного «леса» на тестовой выборке"
   ]
  },
  {
   "cell_type": "code",
   "execution_count": 34,
   "metadata": {},
   "outputs": [
    {
     "name": "stdout",
     "output_type": "stream",
     "text": [
      "Cимметричная средняя абсолютная ошибка (sMAPE): 9.808%\n"
     ]
    }
   ],
   "source": [
    "final_model = RandomForestRegressor(random_state=12345, n_estimators=20, max_depth=4)\n",
    "\n",
    "final_model.fit(train_features, train_target_rougher)\n",
    "pred_rougher = final_model.predict(test_features)\n",
    "\n",
    "final_model.fit(train_features, train_target_final)\n",
    "pred_final = final_model.predict(test_features)\n",
    "\n",
    "sm_rougher = smape(test_target_rougher, pred_rougher).mean()\n",
    "sm_final = smape(test_target_final, pred_final).mean()\n",
    "\n",
    "result = 0.25 * sm_rougher + 0.75 * sm_final\n",
    "print(f'Cимметричная средняя абсолютная ошибка (sMAPE): {result:.3%}')"
   ]
  },
  {
   "cell_type": "markdown",
   "metadata": {
    "pycharm": {
     "name": "#%% md\n"
    }
   },
   "source": [
    "## Общий вывод\n",
    "\n",
    "* Почему-то при кросс-валидации подобрались параметры:  \n",
    "    `n_estimators = 18`, `depth = 5`;  \n",
    "    подбирались более 12 часов в диапазонах `depth 1..15`, `n_estimators 1..51`  \n",
    "    Почему-то показывают худшие показатели на тестовой выборке, чем подобранные вручную (`n_estimators = 20`, `depth = 4`).  \n",
    "* <b>Разница между проверочной моделью и финальной моделью на тестовых данных ≈ 0,5%.</b>  \n",
    "    Это не очень много, пробовал разные методы заполнения пропусков: `.fillna()`, `.ffill()`, `.interpolate()`.  \n",
    "    Но улучшить показатели не получилось (параметры в течение 12 часов подбирались только один раз).  \n",
    "    Возможно, что если дольше подбирать параметры заполнения пропусков и параметры модели, то получится уменьшить ошибку.  \n",
    "    Возможно, стоит добиться наличия утраченных признаков в тестовой выборке, если это возможно.\n"
   ]
  }
 ],
 "metadata": {
  "ExecuteTimeLog": [
   {
    "duration": 1513,
    "start_time": "2022-04-21T23:34:54.688Z"
   },
   {
    "duration": 629,
    "start_time": "2022-04-21T23:37:49.670Z"
   },
   {
    "duration": 3,
    "start_time": "2022-04-21T23:38:57.435Z"
   },
   {
    "duration": 4,
    "start_time": "2022-04-21T23:38:57.683Z"
   },
   {
    "duration": 629,
    "start_time": "2022-04-21T23:38:58.258Z"
   },
   {
    "duration": 897,
    "start_time": "2022-04-21T23:39:17.764Z"
   },
   {
    "duration": 102,
    "start_time": "2022-04-21T23:59:52.531Z"
   },
   {
    "duration": 11,
    "start_time": "2022-04-22T00:00:06.660Z"
   },
   {
    "duration": 8,
    "start_time": "2022-04-22T00:00:23.312Z"
   },
   {
    "duration": 47,
    "start_time": "2022-04-24T12:11:06.265Z"
   },
   {
    "duration": 1621,
    "start_time": "2022-04-24T12:11:15.264Z"
   },
   {
    "duration": 6,
    "start_time": "2022-04-24T12:11:16.887Z"
   },
   {
    "duration": 640,
    "start_time": "2022-04-24T12:11:16.895Z"
   },
   {
    "duration": 936,
    "start_time": "2022-04-24T12:11:17.537Z"
   },
   {
    "duration": 7,
    "start_time": "2022-04-24T12:11:18.475Z"
   },
   {
    "duration": 8,
    "start_time": "2022-04-24T12:11:26.574Z"
   },
   {
    "duration": 6,
    "start_time": "2022-04-24T12:12:49.414Z"
   },
   {
    "duration": 6,
    "start_time": "2022-04-24T12:13:07.447Z"
   },
   {
    "duration": 31,
    "start_time": "2022-04-24T12:14:37.773Z"
   },
   {
    "duration": 9,
    "start_time": "2022-04-24T12:15:47.787Z"
   },
   {
    "duration": 13,
    "start_time": "2022-04-24T12:17:19.165Z"
   },
   {
    "duration": 37,
    "start_time": "2022-04-24T12:18:33.168Z"
   },
   {
    "duration": 26,
    "start_time": "2022-04-24T12:18:38.557Z"
   },
   {
    "duration": 24,
    "start_time": "2022-04-24T12:18:53.478Z"
   },
   {
    "duration": 1450,
    "start_time": "2022-04-24T12:19:08.306Z"
   },
   {
    "duration": 6,
    "start_time": "2022-04-24T12:19:09.758Z"
   },
   {
    "duration": 646,
    "start_time": "2022-04-24T12:19:09.766Z"
   },
   {
    "duration": 972,
    "start_time": "2022-04-24T12:19:10.414Z"
   },
   {
    "duration": 11,
    "start_time": "2022-04-24T12:19:11.389Z"
   },
   {
    "duration": 29,
    "start_time": "2022-04-24T12:19:11.402Z"
   },
   {
    "duration": 9,
    "start_time": "2022-04-24T12:19:11.433Z"
   },
   {
    "duration": 49,
    "start_time": "2022-04-24T12:19:11.444Z"
   },
   {
    "duration": 7,
    "start_time": "2022-04-24T12:24:20.468Z"
   },
   {
    "duration": 7,
    "start_time": "2022-04-24T12:24:27.031Z"
   },
   {
    "duration": 7,
    "start_time": "2022-04-24T12:24:32.856Z"
   },
   {
    "duration": 110,
    "start_time": "2022-04-24T12:24:38.559Z"
   },
   {
    "duration": 7,
    "start_time": "2022-04-24T12:24:41.634Z"
   },
   {
    "duration": 8,
    "start_time": "2022-04-24T12:25:18.058Z"
   },
   {
    "duration": 7,
    "start_time": "2022-04-24T14:01:20.048Z"
   },
   {
    "duration": 11,
    "start_time": "2022-04-24T14:01:27.849Z"
   },
   {
    "duration": 8,
    "start_time": "2022-04-24T14:01:51.708Z"
   },
   {
    "duration": 9,
    "start_time": "2022-04-24T14:02:21.886Z"
   },
   {
    "duration": 7,
    "start_time": "2022-04-24T14:11:22.006Z"
   },
   {
    "duration": 7,
    "start_time": "2022-04-24T14:11:54.961Z"
   },
   {
    "duration": 8,
    "start_time": "2022-04-24T14:12:06.419Z"
   },
   {
    "duration": 7,
    "start_time": "2022-04-24T14:12:18.500Z"
   },
   {
    "duration": 13,
    "start_time": "2022-04-24T14:30:31.889Z"
   },
   {
    "duration": 12,
    "start_time": "2022-04-24T14:30:41.501Z"
   },
   {
    "duration": 5,
    "start_time": "2022-04-24T14:30:46.901Z"
   },
   {
    "duration": 19,
    "start_time": "2022-04-24T14:30:54.629Z"
   },
   {
    "duration": 9,
    "start_time": "2022-04-24T14:31:10.240Z"
   },
   {
    "duration": 5,
    "start_time": "2022-04-24T14:31:13.208Z"
   },
   {
    "duration": 5,
    "start_time": "2022-04-24T14:32:47.396Z"
   },
   {
    "duration": 4,
    "start_time": "2022-04-24T14:33:24.361Z"
   },
   {
    "duration": 5,
    "start_time": "2022-04-24T14:33:31.135Z"
   },
   {
    "duration": 4,
    "start_time": "2022-04-24T14:33:44.611Z"
   },
   {
    "duration": 4,
    "start_time": "2022-04-24T14:34:04.589Z"
   },
   {
    "duration": 4,
    "start_time": "2022-04-24T14:34:10.374Z"
   },
   {
    "duration": 4,
    "start_time": "2022-04-24T14:34:48.319Z"
   },
   {
    "duration": 15,
    "start_time": "2022-04-24T14:34:54.585Z"
   },
   {
    "duration": 6,
    "start_time": "2022-04-24T14:35:01.515Z"
   },
   {
    "duration": 12,
    "start_time": "2022-04-24T14:35:22.156Z"
   },
   {
    "duration": 11,
    "start_time": "2022-04-24T14:35:36.405Z"
   },
   {
    "duration": 6,
    "start_time": "2022-04-24T14:35:52.409Z"
   },
   {
    "duration": 4,
    "start_time": "2022-04-24T14:36:10.841Z"
   },
   {
    "duration": 9,
    "start_time": "2022-04-24T14:36:15.098Z"
   },
   {
    "duration": 7,
    "start_time": "2022-04-24T14:36:22.874Z"
   },
   {
    "duration": 12,
    "start_time": "2022-04-24T14:36:34.868Z"
   },
   {
    "duration": 4,
    "start_time": "2022-04-24T14:39:48.827Z"
   },
   {
    "duration": 4,
    "start_time": "2022-04-24T14:39:57.413Z"
   },
   {
    "duration": 8,
    "start_time": "2022-04-24T14:40:02.203Z"
   },
   {
    "duration": 4,
    "start_time": "2022-04-24T14:40:54.728Z"
   },
   {
    "duration": 8,
    "start_time": "2022-04-24T14:40:59.600Z"
   },
   {
    "duration": 10,
    "start_time": "2022-04-24T14:42:05.714Z"
   },
   {
    "duration": 12,
    "start_time": "2022-04-24T14:43:16.098Z"
   },
   {
    "duration": 15,
    "start_time": "2022-04-24T14:46:30.204Z"
   },
   {
    "duration": 4,
    "start_time": "2022-04-24T14:46:40.566Z"
   },
   {
    "duration": 27,
    "start_time": "2022-04-24T14:46:52.238Z"
   },
   {
    "duration": 17,
    "start_time": "2022-04-24T14:47:07.300Z"
   },
   {
    "duration": 108,
    "start_time": "2022-04-24T14:47:14.715Z"
   },
   {
    "duration": 16,
    "start_time": "2022-04-24T14:47:23.005Z"
   },
   {
    "duration": 15,
    "start_time": "2022-04-24T14:54:25.011Z"
   },
   {
    "duration": 9,
    "start_time": "2022-04-24T14:54:43.129Z"
   },
   {
    "duration": 12,
    "start_time": "2022-04-24T14:54:43.355Z"
   },
   {
    "duration": 16,
    "start_time": "2022-04-24T16:31:38.001Z"
   },
   {
    "duration": 15,
    "start_time": "2022-04-24T16:39:17.991Z"
   },
   {
    "duration": 14,
    "start_time": "2022-04-24T16:39:25.349Z"
   },
   {
    "duration": 15,
    "start_time": "2022-04-24T16:39:36.110Z"
   },
   {
    "duration": 35,
    "start_time": "2022-04-24T16:43:32.895Z"
   },
   {
    "duration": 33,
    "start_time": "2022-04-24T16:43:49.169Z"
   },
   {
    "duration": 1911,
    "start_time": "2022-04-24T16:45:46.301Z"
   },
   {
    "duration": 3,
    "start_time": "2022-04-24T16:45:56.525Z"
   },
   {
    "duration": 7,
    "start_time": "2022-04-24T16:46:02.094Z"
   },
   {
    "duration": 8,
    "start_time": "2022-04-24T16:46:24.133Z"
   },
   {
    "duration": 1518,
    "start_time": "2022-04-24T17:03:30.894Z"
   },
   {
    "duration": 6,
    "start_time": "2022-04-24T17:03:32.414Z"
   },
   {
    "duration": 648,
    "start_time": "2022-04-24T17:03:32.422Z"
   },
   {
    "duration": 998,
    "start_time": "2022-04-24T17:03:33.073Z"
   },
   {
    "duration": 10,
    "start_time": "2022-04-24T17:03:34.074Z"
   },
   {
    "duration": 11,
    "start_time": "2022-04-24T17:03:34.086Z"
   },
   {
    "duration": 16,
    "start_time": "2022-04-24T17:03:34.099Z"
   },
   {
    "duration": 44,
    "start_time": "2022-04-24T17:03:52.340Z"
   },
   {
    "duration": 25,
    "start_time": "2022-04-24T17:04:03.023Z"
   },
   {
    "duration": 13,
    "start_time": "2022-04-24T17:04:07.398Z"
   },
   {
    "duration": 120,
    "start_time": "2022-04-24T17:04:40.459Z"
   },
   {
    "duration": 17,
    "start_time": "2022-04-24T17:05:13.973Z"
   },
   {
    "duration": 12,
    "start_time": "2022-04-24T17:05:29.438Z"
   },
   {
    "duration": 13,
    "start_time": "2022-04-24T17:05:56.598Z"
   },
   {
    "duration": 11,
    "start_time": "2022-04-24T17:06:03.744Z"
   },
   {
    "duration": 13,
    "start_time": "2022-04-24T17:06:07.908Z"
   },
   {
    "duration": 9,
    "start_time": "2022-04-24T17:06:40.518Z"
   },
   {
    "duration": 9,
    "start_time": "2022-04-24T17:06:45.231Z"
   },
   {
    "duration": 13,
    "start_time": "2022-04-24T17:07:05.281Z"
   },
   {
    "duration": 9,
    "start_time": "2022-04-24T17:14:19.464Z"
   },
   {
    "duration": 19,
    "start_time": "2022-04-24T17:14:25.440Z"
   },
   {
    "duration": 21,
    "start_time": "2022-04-24T17:14:29.023Z"
   },
   {
    "duration": 20,
    "start_time": "2022-04-24T17:14:32.490Z"
   },
   {
    "duration": 11,
    "start_time": "2022-04-24T17:26:08.339Z"
   },
   {
    "duration": 5,
    "start_time": "2022-04-24T17:26:15.219Z"
   },
   {
    "duration": 4,
    "start_time": "2022-04-24T17:26:51.952Z"
   },
   {
    "duration": 5,
    "start_time": "2022-04-24T17:26:57.687Z"
   },
   {
    "duration": 6,
    "start_time": "2022-04-24T17:27:18.867Z"
   },
   {
    "duration": 1567,
    "start_time": "2022-04-24T17:27:34.032Z"
   },
   {
    "duration": 7,
    "start_time": "2022-04-24T17:27:35.601Z"
   },
   {
    "duration": 704,
    "start_time": "2022-04-24T17:27:35.610Z"
   },
   {
    "duration": 978,
    "start_time": "2022-04-24T17:27:36.316Z"
   },
   {
    "duration": 10,
    "start_time": "2022-04-24T17:27:37.297Z"
   },
   {
    "duration": 13,
    "start_time": "2022-04-24T17:27:37.308Z"
   },
   {
    "duration": 9,
    "start_time": "2022-04-24T17:27:37.323Z"
   },
   {
    "duration": 44,
    "start_time": "2022-04-24T17:27:37.334Z"
   },
   {
    "duration": 19,
    "start_time": "2022-04-24T17:27:37.380Z"
   },
   {
    "duration": 6,
    "start_time": "2022-04-24T17:27:37.401Z"
   },
   {
    "duration": 7,
    "start_time": "2022-04-24T17:27:37.409Z"
   },
   {
    "duration": 7,
    "start_time": "2022-04-24T17:27:37.418Z"
   },
   {
    "duration": 8,
    "start_time": "2022-04-24T17:27:37.427Z"
   },
   {
    "duration": 1530,
    "start_time": "2022-04-24T17:29:10.987Z"
   },
   {
    "duration": 10,
    "start_time": "2022-04-24T17:29:12.520Z"
   },
   {
    "duration": 692,
    "start_time": "2022-04-24T17:29:12.532Z"
   },
   {
    "duration": 1009,
    "start_time": "2022-04-24T17:29:13.227Z"
   },
   {
    "duration": 11,
    "start_time": "2022-04-24T17:29:14.240Z"
   },
   {
    "duration": 32,
    "start_time": "2022-04-24T17:29:14.253Z"
   },
   {
    "duration": 9,
    "start_time": "2022-04-24T17:29:14.287Z"
   },
   {
    "duration": 15,
    "start_time": "2022-04-24T17:29:14.298Z"
   },
   {
    "duration": 11,
    "start_time": "2022-04-24T17:29:14.314Z"
   },
   {
    "duration": 6,
    "start_time": "2022-04-24T17:29:14.326Z"
   },
   {
    "duration": 41,
    "start_time": "2022-04-24T17:29:14.333Z"
   },
   {
    "duration": 5,
    "start_time": "2022-04-24T17:29:14.376Z"
   },
   {
    "duration": 15,
    "start_time": "2022-04-24T17:29:14.383Z"
   },
   {
    "duration": 6,
    "start_time": "2022-04-24T17:29:56.040Z"
   },
   {
    "duration": 7,
    "start_time": "2022-04-24T17:30:05.912Z"
   },
   {
    "duration": 19,
    "start_time": "2022-04-24T17:31:51.346Z"
   },
   {
    "duration": 139,
    "start_time": "2022-04-24T17:35:41.941Z"
   },
   {
    "duration": 8,
    "start_time": "2022-04-24T17:36:41.258Z"
   },
   {
    "duration": 9,
    "start_time": "2022-04-24T17:36:52.268Z"
   },
   {
    "duration": 9,
    "start_time": "2022-04-24T17:36:58.299Z"
   },
   {
    "duration": 5,
    "start_time": "2022-04-24T17:38:26.908Z"
   },
   {
    "duration": 9,
    "start_time": "2022-04-24T17:38:33.757Z"
   },
   {
    "duration": 10,
    "start_time": "2022-04-24T17:40:24.115Z"
   },
   {
    "duration": 11,
    "start_time": "2022-04-24T17:41:12.191Z"
   },
   {
    "duration": 1449,
    "start_time": "2022-04-24T17:43:27.431Z"
   },
   {
    "duration": 8,
    "start_time": "2022-04-24T17:43:28.883Z"
   },
   {
    "duration": 812,
    "start_time": "2022-04-24T17:43:28.893Z"
   },
   {
    "duration": 1180,
    "start_time": "2022-04-24T17:43:29.706Z"
   },
   {
    "duration": 11,
    "start_time": "2022-04-24T17:43:30.890Z"
   },
   {
    "duration": 13,
    "start_time": "2022-04-24T17:43:30.903Z"
   },
   {
    "duration": 11,
    "start_time": "2022-04-24T17:43:30.918Z"
   },
   {
    "duration": 160,
    "start_time": "2022-04-24T17:43:30.931Z"
   },
   {
    "duration": 0,
    "start_time": "2022-04-24T17:43:31.093Z"
   },
   {
    "duration": 0,
    "start_time": "2022-04-24T17:43:31.094Z"
   },
   {
    "duration": 0,
    "start_time": "2022-04-24T17:43:31.095Z"
   },
   {
    "duration": 0,
    "start_time": "2022-04-24T17:43:31.096Z"
   },
   {
    "duration": 0,
    "start_time": "2022-04-24T17:43:31.097Z"
   },
   {
    "duration": 1456,
    "start_time": "2022-04-24T17:43:42.830Z"
   },
   {
    "duration": 6,
    "start_time": "2022-04-24T17:43:44.288Z"
   },
   {
    "duration": 682,
    "start_time": "2022-04-24T17:43:44.296Z"
   },
   {
    "duration": 961,
    "start_time": "2022-04-24T17:43:44.980Z"
   },
   {
    "duration": 8,
    "start_time": "2022-04-24T17:43:45.943Z"
   },
   {
    "duration": 32,
    "start_time": "2022-04-24T17:43:45.953Z"
   },
   {
    "duration": 9,
    "start_time": "2022-04-24T17:43:45.987Z"
   },
   {
    "duration": 16,
    "start_time": "2022-04-24T17:43:45.998Z"
   },
   {
    "duration": 17,
    "start_time": "2022-04-24T17:43:46.017Z"
   },
   {
    "duration": 42,
    "start_time": "2022-04-24T17:43:46.037Z"
   },
   {
    "duration": 11,
    "start_time": "2022-04-24T17:43:46.082Z"
   },
   {
    "duration": 11,
    "start_time": "2022-04-24T17:43:46.095Z"
   },
   {
    "duration": 15,
    "start_time": "2022-04-24T17:43:46.107Z"
   },
   {
    "duration": 11,
    "start_time": "2022-04-24T17:54:03.803Z"
   },
   {
    "duration": 15,
    "start_time": "2022-04-24T17:54:10.318Z"
   },
   {
    "duration": 22,
    "start_time": "2022-04-24T17:55:26.148Z"
   },
   {
    "duration": 5,
    "start_time": "2022-04-24T17:58:05.775Z"
   },
   {
    "duration": 6,
    "start_time": "2022-04-24T17:58:34.258Z"
   },
   {
    "duration": 7,
    "start_time": "2022-04-24T17:58:49.394Z"
   },
   {
    "duration": 7,
    "start_time": "2022-04-24T17:58:58.115Z"
   },
   {
    "duration": 6,
    "start_time": "2022-04-24T18:03:39.089Z"
   },
   {
    "duration": 172,
    "start_time": "2022-04-24T18:03:57.831Z"
   },
   {
    "duration": 8,
    "start_time": "2022-04-24T18:04:09.430Z"
   },
   {
    "duration": 6,
    "start_time": "2022-04-24T18:04:54.968Z"
   },
   {
    "duration": 5,
    "start_time": "2022-04-24T18:05:24.192Z"
   },
   {
    "duration": 5,
    "start_time": "2022-04-24T18:06:56.648Z"
   },
   {
    "duration": 4,
    "start_time": "2022-04-24T18:48:26.363Z"
   },
   {
    "duration": 5,
    "start_time": "2022-04-24T18:50:45.179Z"
   },
   {
    "duration": 4,
    "start_time": "2022-04-24T18:50:56.260Z"
   },
   {
    "duration": 15,
    "start_time": "2022-04-24T19:17:27.335Z"
   },
   {
    "duration": 21,
    "start_time": "2022-04-24T19:18:05.230Z"
   },
   {
    "duration": 16,
    "start_time": "2022-04-24T19:18:48.471Z"
   },
   {
    "duration": 4,
    "start_time": "2022-04-24T21:29:20.176Z"
   },
   {
    "duration": 4,
    "start_time": "2022-04-24T21:29:28.004Z"
   },
   {
    "duration": 12,
    "start_time": "2022-04-24T21:29:52.342Z"
   },
   {
    "duration": 731,
    "start_time": "2022-04-24T21:34:52.680Z"
   },
   {
    "duration": 703,
    "start_time": "2022-04-24T21:35:07.809Z"
   },
   {
    "duration": 831,
    "start_time": "2022-04-24T21:35:36.619Z"
   },
   {
    "duration": 481,
    "start_time": "2022-04-24T21:37:28.328Z"
   },
   {
    "duration": 472,
    "start_time": "2022-04-24T21:38:26.183Z"
   },
   {
    "duration": 482,
    "start_time": "2022-04-24T21:38:42.850Z"
   },
   {
    "duration": 474,
    "start_time": "2022-04-24T21:39:17.006Z"
   },
   {
    "duration": 496,
    "start_time": "2022-04-24T21:40:26.477Z"
   },
   {
    "duration": 586,
    "start_time": "2022-04-24T21:40:38.353Z"
   },
   {
    "duration": 487,
    "start_time": "2022-04-24T21:40:50.880Z"
   },
   {
    "duration": 487,
    "start_time": "2022-04-24T21:40:55.464Z"
   },
   {
    "duration": 489,
    "start_time": "2022-04-24T21:41:03.849Z"
   },
   {
    "duration": 472,
    "start_time": "2022-04-24T21:42:47.000Z"
   },
   {
    "duration": 505,
    "start_time": "2022-04-24T21:43:24.347Z"
   },
   {
    "duration": 471,
    "start_time": "2022-04-24T21:43:30.193Z"
   },
   {
    "duration": 599,
    "start_time": "2022-04-24T21:43:35.273Z"
   },
   {
    "duration": 465,
    "start_time": "2022-04-24T21:43:39.714Z"
   },
   {
    "duration": 475,
    "start_time": "2022-04-24T21:43:43.865Z"
   },
   {
    "duration": 235,
    "start_time": "2022-04-24T21:44:55.490Z"
   },
   {
    "duration": 505,
    "start_time": "2022-04-24T21:45:03.431Z"
   },
   {
    "duration": 497,
    "start_time": "2022-04-24T21:45:16.216Z"
   },
   {
    "duration": 491,
    "start_time": "2022-04-24T21:45:27.705Z"
   },
   {
    "duration": 598,
    "start_time": "2022-04-24T21:45:41.482Z"
   },
   {
    "duration": 477,
    "start_time": "2022-04-24T21:45:47.523Z"
   },
   {
    "duration": 475,
    "start_time": "2022-04-24T21:45:53.115Z"
   },
   {
    "duration": 520,
    "start_time": "2022-04-24T21:45:58.394Z"
   },
   {
    "duration": 475,
    "start_time": "2022-04-24T21:46:08.941Z"
   },
   {
    "duration": 506,
    "start_time": "2022-04-24T21:47:00.656Z"
   },
   {
    "duration": 526,
    "start_time": "2022-04-24T21:48:22.582Z"
   },
   {
    "duration": 1386,
    "start_time": "2022-04-24T21:48:39.466Z"
   },
   {
    "duration": 5,
    "start_time": "2022-04-24T21:48:40.855Z"
   },
   {
    "duration": 677,
    "start_time": "2022-04-24T21:48:40.861Z"
   },
   {
    "duration": 898,
    "start_time": "2022-04-24T21:48:41.539Z"
   },
   {
    "duration": 7,
    "start_time": "2022-04-24T21:48:42.440Z"
   },
   {
    "duration": 9,
    "start_time": "2022-04-24T21:48:42.448Z"
   },
   {
    "duration": 18,
    "start_time": "2022-04-24T21:48:42.459Z"
   },
   {
    "duration": 15,
    "start_time": "2022-04-24T21:48:42.479Z"
   },
   {
    "duration": 14,
    "start_time": "2022-04-24T21:48:42.495Z"
   },
   {
    "duration": 7,
    "start_time": "2022-04-24T21:48:42.511Z"
   },
   {
    "duration": 9,
    "start_time": "2022-04-24T21:48:42.519Z"
   },
   {
    "duration": 4,
    "start_time": "2022-04-24T21:48:42.529Z"
   },
   {
    "duration": 48,
    "start_time": "2022-04-24T21:48:42.535Z"
   },
   {
    "duration": 14,
    "start_time": "2022-04-24T21:48:42.585Z"
   },
   {
    "duration": 15,
    "start_time": "2022-04-24T21:48:42.600Z"
   },
   {
    "duration": 4,
    "start_time": "2022-04-24T21:48:42.617Z"
   },
   {
    "duration": 6,
    "start_time": "2022-04-24T21:48:42.623Z"
   },
   {
    "duration": 6,
    "start_time": "2022-04-24T21:48:42.631Z"
   },
   {
    "duration": 35,
    "start_time": "2022-04-24T21:48:42.639Z"
   },
   {
    "duration": 7,
    "start_time": "2022-04-24T21:48:42.676Z"
   },
   {
    "duration": 942,
    "start_time": "2022-04-24T21:48:42.685Z"
   },
   {
    "duration": 967,
    "start_time": "2022-04-24T21:48:59.970Z"
   },
   {
    "duration": 1127,
    "start_time": "2022-04-24T21:57:36.849Z"
   },
   {
    "duration": 933,
    "start_time": "2022-04-24T21:57:51.122Z"
   },
   {
    "duration": 943,
    "start_time": "2022-04-24T21:58:08.189Z"
   },
   {
    "duration": 947,
    "start_time": "2022-04-24T21:58:17.326Z"
   },
   {
    "duration": 191,
    "start_time": "2022-04-24T21:59:24.617Z"
   },
   {
    "duration": 1063,
    "start_time": "2022-04-24T21:59:37.542Z"
   },
   {
    "duration": 201,
    "start_time": "2022-04-24T22:00:18.481Z"
   },
   {
    "duration": 207,
    "start_time": "2022-04-24T22:00:43.892Z"
   },
   {
    "duration": 180,
    "start_time": "2022-04-24T22:01:44.538Z"
   },
   {
    "duration": 184,
    "start_time": "2022-04-24T22:02:05.012Z"
   },
   {
    "duration": 978,
    "start_time": "2022-04-24T22:02:08.372Z"
   },
   {
    "duration": 1104,
    "start_time": "2022-04-24T22:06:19.183Z"
   },
   {
    "duration": 980,
    "start_time": "2022-04-24T22:06:31.565Z"
   },
   {
    "duration": 975,
    "start_time": "2022-04-24T22:06:39.861Z"
   },
   {
    "duration": 959,
    "start_time": "2022-04-24T22:08:51.186Z"
   },
   {
    "duration": 739,
    "start_time": "2022-04-24T22:09:37.614Z"
   },
   {
    "duration": 738,
    "start_time": "2022-04-24T22:09:43.544Z"
   },
   {
    "duration": 1107,
    "start_time": "2022-04-24T22:11:24.561Z"
   },
   {
    "duration": 978,
    "start_time": "2022-04-24T22:11:49.795Z"
   },
   {
    "duration": 1013,
    "start_time": "2022-04-24T22:12:01.670Z"
   },
   {
    "duration": 978,
    "start_time": "2022-04-24T22:12:19.024Z"
   },
   {
    "duration": 969,
    "start_time": "2022-04-24T22:12:34.993Z"
   },
   {
    "duration": 985,
    "start_time": "2022-04-24T22:12:40.745Z"
   },
   {
    "duration": 1060,
    "start_time": "2022-04-24T22:12:46.104Z"
   },
   {
    "duration": 980,
    "start_time": "2022-04-24T22:13:12.829Z"
   },
   {
    "duration": 431,
    "start_time": "2022-04-24T22:17:13.514Z"
   },
   {
    "duration": 438,
    "start_time": "2022-04-24T22:17:56.257Z"
   },
   {
    "duration": 441,
    "start_time": "2022-04-24T22:22:24.253Z"
   },
   {
    "duration": 539,
    "start_time": "2022-04-24T22:22:35.719Z"
   },
   {
    "duration": 668,
    "start_time": "2022-04-24T22:22:42.887Z"
   },
   {
    "duration": 921,
    "start_time": "2022-04-24T22:22:53.528Z"
   },
   {
    "duration": 1176,
    "start_time": "2022-04-24T22:23:16.553Z"
   },
   {
    "duration": 1298,
    "start_time": "2022-04-24T22:23:25.037Z"
   },
   {
    "duration": 1229,
    "start_time": "2022-04-24T22:23:40.326Z"
   },
   {
    "duration": 1883,
    "start_time": "2022-04-24T22:24:01.016Z"
   },
   {
    "duration": 2055,
    "start_time": "2022-04-24T22:24:21.554Z"
   },
   {
    "duration": 1837,
    "start_time": "2022-04-24T22:24:33.717Z"
   },
   {
    "duration": 1855,
    "start_time": "2022-04-24T22:24:54.254Z"
   },
   {
    "duration": 2133,
    "start_time": "2022-04-24T22:25:31.729Z"
   },
   {
    "duration": 2069,
    "start_time": "2022-04-24T22:28:05.837Z"
   },
   {
    "duration": 1633,
    "start_time": "2022-04-24T22:28:21.189Z"
   },
   {
    "duration": 1243,
    "start_time": "2022-04-24T22:28:42.063Z"
   },
   {
    "duration": 1233,
    "start_time": "2022-04-24T22:29:38.309Z"
   },
   {
    "duration": 1385,
    "start_time": "2022-04-24T22:29:50.069Z"
   },
   {
    "duration": 1286,
    "start_time": "2022-04-24T22:30:02.695Z"
   },
   {
    "duration": 12,
    "start_time": "2022-04-24T22:46:12.661Z"
   },
   {
    "duration": 5,
    "start_time": "2022-04-24T22:47:55.001Z"
   },
   {
    "duration": 5,
    "start_time": "2022-04-24T22:48:09.048Z"
   },
   {
    "duration": 11,
    "start_time": "2022-04-24T22:50:22.417Z"
   },
   {
    "duration": 17,
    "start_time": "2022-04-24T22:50:30.635Z"
   },
   {
    "duration": 1828,
    "start_time": "2022-04-24T22:53:13.538Z"
   },
   {
    "duration": 2172,
    "start_time": "2022-04-24T22:57:07.343Z"
   },
   {
    "duration": 1939,
    "start_time": "2022-04-24T22:57:31.888Z"
   },
   {
    "duration": 2140,
    "start_time": "2022-04-24T22:58:53.197Z"
   },
   {
    "duration": 2301,
    "start_time": "2022-04-24T23:00:55.802Z"
   },
   {
    "duration": 2260,
    "start_time": "2022-04-24T23:01:48.245Z"
   },
   {
    "duration": 2321,
    "start_time": "2022-04-24T23:02:06.912Z"
   },
   {
    "duration": 1989,
    "start_time": "2022-04-24T23:03:26.702Z"
   },
   {
    "duration": 2265,
    "start_time": "2022-04-24T23:03:48.451Z"
   },
   {
    "duration": 1438,
    "start_time": "2022-04-25T02:13:13.139Z"
   },
   {
    "duration": 6,
    "start_time": "2022-04-25T02:13:14.579Z"
   },
   {
    "duration": 696,
    "start_time": "2022-04-25T02:13:14.587Z"
   },
   {
    "duration": 960,
    "start_time": "2022-04-25T02:13:15.285Z"
   },
   {
    "duration": 9,
    "start_time": "2022-04-25T02:13:16.247Z"
   },
   {
    "duration": 24,
    "start_time": "2022-04-25T02:13:16.258Z"
   },
   {
    "duration": 12,
    "start_time": "2022-04-25T02:13:16.284Z"
   },
   {
    "duration": 14,
    "start_time": "2022-04-25T02:13:16.297Z"
   },
   {
    "duration": 16,
    "start_time": "2022-04-25T02:13:16.313Z"
   },
   {
    "duration": 8,
    "start_time": "2022-04-25T02:13:16.332Z"
   },
   {
    "duration": 11,
    "start_time": "2022-04-25T02:13:16.374Z"
   },
   {
    "duration": 5,
    "start_time": "2022-04-25T02:13:16.387Z"
   },
   {
    "duration": 12,
    "start_time": "2022-04-25T02:13:16.394Z"
   },
   {
    "duration": 14,
    "start_time": "2022-04-25T02:13:16.408Z"
   },
   {
    "duration": 49,
    "start_time": "2022-04-25T02:13:16.425Z"
   },
   {
    "duration": 5,
    "start_time": "2022-04-25T02:13:16.477Z"
   },
   {
    "duration": 7,
    "start_time": "2022-04-25T02:13:16.483Z"
   },
   {
    "duration": 8,
    "start_time": "2022-04-25T02:13:16.491Z"
   },
   {
    "duration": 5,
    "start_time": "2022-04-25T02:13:16.501Z"
   },
   {
    "duration": 8,
    "start_time": "2022-04-25T02:13:16.508Z"
   },
   {
    "duration": 1290,
    "start_time": "2022-04-25T02:13:16.518Z"
   },
   {
    "duration": 21,
    "start_time": "2022-04-25T02:13:17.810Z"
   },
   {
    "duration": 2164,
    "start_time": "2022-04-25T02:13:17.833Z"
   },
   {
    "duration": 17,
    "start_time": "2022-04-25T02:19:22.532Z"
   },
   {
    "duration": 18,
    "start_time": "2022-04-25T02:19:23.359Z"
   },
   {
    "duration": 1824,
    "start_time": "2022-04-25T02:19:23.838Z"
   },
   {
    "duration": 1636,
    "start_time": "2022-04-25T02:19:59.216Z"
   },
   {
    "duration": 1798,
    "start_time": "2022-04-25T02:20:30.060Z"
   },
   {
    "duration": 1991,
    "start_time": "2022-04-25T02:21:00.567Z"
   },
   {
    "duration": 1645,
    "start_time": "2022-04-25T02:21:09.889Z"
   },
   {
    "duration": 1824,
    "start_time": "2022-04-25T02:21:33.025Z"
   },
   {
    "duration": 108,
    "start_time": "2022-04-25T02:22:19.625Z"
   },
   {
    "duration": 1409,
    "start_time": "2022-04-25T02:22:31.229Z"
   },
   {
    "duration": 5,
    "start_time": "2022-04-25T02:22:32.640Z"
   },
   {
    "duration": 683,
    "start_time": "2022-04-25T02:22:32.647Z"
   },
   {
    "duration": 905,
    "start_time": "2022-04-25T02:22:33.332Z"
   },
   {
    "duration": 8,
    "start_time": "2022-04-25T02:22:34.239Z"
   },
   {
    "duration": 25,
    "start_time": "2022-04-25T02:22:34.249Z"
   },
   {
    "duration": 12,
    "start_time": "2022-04-25T02:22:34.275Z"
   },
   {
    "duration": 24,
    "start_time": "2022-04-25T02:22:34.288Z"
   },
   {
    "duration": 13,
    "start_time": "2022-04-25T02:22:34.314Z"
   },
   {
    "duration": 6,
    "start_time": "2022-04-25T02:22:34.330Z"
   },
   {
    "duration": 9,
    "start_time": "2022-04-25T02:22:34.338Z"
   },
   {
    "duration": 4,
    "start_time": "2022-04-25T02:22:34.348Z"
   },
   {
    "duration": 12,
    "start_time": "2022-04-25T02:22:34.373Z"
   },
   {
    "duration": 14,
    "start_time": "2022-04-25T02:22:34.386Z"
   },
   {
    "duration": 16,
    "start_time": "2022-04-25T02:22:34.402Z"
   },
   {
    "duration": 4,
    "start_time": "2022-04-25T02:22:34.420Z"
   },
   {
    "duration": 6,
    "start_time": "2022-04-25T02:22:34.425Z"
   },
   {
    "duration": 6,
    "start_time": "2022-04-25T02:22:34.432Z"
   },
   {
    "duration": 34,
    "start_time": "2022-04-25T02:22:34.440Z"
   },
   {
    "duration": 6,
    "start_time": "2022-04-25T02:22:34.475Z"
   },
   {
    "duration": 1266,
    "start_time": "2022-04-25T02:22:34.483Z"
   },
   {
    "duration": 25,
    "start_time": "2022-04-25T02:22:35.751Z"
   },
   {
    "duration": 2039,
    "start_time": "2022-04-25T02:22:35.778Z"
   },
   {
    "duration": 17,
    "start_time": "2022-04-25T02:22:37.819Z"
   },
   {
    "duration": 1792,
    "start_time": "2022-04-25T02:22:37.837Z"
   },
   {
    "duration": 1694,
    "start_time": "2022-04-25T02:23:07.236Z"
   },
   {
    "duration": 1841,
    "start_time": "2022-04-25T02:23:23.093Z"
   },
   {
    "duration": 2133,
    "start_time": "2022-04-25T02:23:32.565Z"
   },
   {
    "duration": 3045,
    "start_time": "2022-04-29T19:55:56.692Z"
   },
   {
    "duration": 10,
    "start_time": "2022-04-29T19:55:59.741Z"
   },
   {
    "duration": 1280,
    "start_time": "2022-04-29T19:55:59.754Z"
   },
   {
    "duration": 2054,
    "start_time": "2022-04-29T19:56:01.036Z"
   },
   {
    "duration": 16,
    "start_time": "2022-04-29T19:56:03.095Z"
   },
   {
    "duration": 21,
    "start_time": "2022-04-29T19:56:03.126Z"
   },
   {
    "duration": 17,
    "start_time": "2022-04-29T19:56:03.149Z"
   },
   {
    "duration": 19,
    "start_time": "2022-04-29T19:56:03.169Z"
   },
   {
    "duration": 43,
    "start_time": "2022-04-29T19:56:03.190Z"
   },
   {
    "duration": 10,
    "start_time": "2022-04-29T19:56:03.236Z"
   },
   {
    "duration": 15,
    "start_time": "2022-04-29T19:56:03.248Z"
   },
   {
    "duration": 6,
    "start_time": "2022-04-29T19:56:03.266Z"
   },
   {
    "duration": 61,
    "start_time": "2022-04-29T19:56:03.274Z"
   },
   {
    "duration": 15,
    "start_time": "2022-04-29T19:56:03.342Z"
   },
   {
    "duration": 21,
    "start_time": "2022-04-29T19:56:03.360Z"
   },
   {
    "duration": 43,
    "start_time": "2022-04-29T19:56:03.384Z"
   },
   {
    "duration": 10,
    "start_time": "2022-04-29T19:56:03.430Z"
   },
   {
    "duration": 7,
    "start_time": "2022-04-29T19:56:03.443Z"
   },
   {
    "duration": 8,
    "start_time": "2022-04-29T19:56:03.453Z"
   },
   {
    "duration": 16,
    "start_time": "2022-04-29T19:56:03.464Z"
   },
   {
    "duration": 2142,
    "start_time": "2022-04-29T19:56:03.483Z"
   },
   {
    "duration": 25,
    "start_time": "2022-04-29T19:56:05.628Z"
   },
   {
    "duration": 3257,
    "start_time": "2022-04-29T19:56:05.656Z"
   },
   {
    "duration": 28,
    "start_time": "2022-04-29T19:56:08.916Z"
   },
   {
    "duration": 2739,
    "start_time": "2022-04-29T19:56:08.947Z"
   },
   {
    "duration": 181,
    "start_time": "2022-04-29T19:56:11.688Z"
   },
   {
    "duration": 21,
    "start_time": "2022-04-29T19:56:19.736Z"
   },
   {
    "duration": 19,
    "start_time": "2022-04-29T20:02:36.609Z"
   },
   {
    "duration": 30,
    "start_time": "2022-04-29T20:04:24.808Z"
   },
   {
    "duration": 23,
    "start_time": "2022-04-29T20:08:30.049Z"
   },
   {
    "duration": 18,
    "start_time": "2022-04-29T20:08:42.785Z"
   },
   {
    "duration": 21,
    "start_time": "2022-04-29T20:08:52.208Z"
   },
   {
    "duration": 1757,
    "start_time": "2022-04-29T20:10:03.889Z"
   },
   {
    "duration": 137,
    "start_time": "2022-04-29T20:10:24.652Z"
   },
   {
    "duration": 83,
    "start_time": "2022-04-29T20:12:23.508Z"
   },
   {
    "duration": 60,
    "start_time": "2022-04-29T20:13:54.339Z"
   },
   {
    "duration": 48,
    "start_time": "2022-04-29T20:15:27.283Z"
   },
   {
    "duration": 404,
    "start_time": "2022-04-29T21:00:18.389Z"
   },
   {
    "duration": 93,
    "start_time": "2022-04-29T21:00:45.249Z"
   },
   {
    "duration": 1692,
    "start_time": "2022-04-29T21:00:54.680Z"
   },
   {
    "duration": 4023,
    "start_time": "2022-04-29T21:01:11.134Z"
   },
   {
    "duration": 4577,
    "start_time": "2022-04-29T21:02:06.416Z"
   },
   {
    "duration": 57,
    "start_time": "2022-04-29T21:06:03.460Z"
   },
   {
    "duration": 43,
    "start_time": "2022-04-29T21:06:34.705Z"
   },
   {
    "duration": 41,
    "start_time": "2022-04-29T21:06:41.712Z"
   },
   {
    "duration": 39,
    "start_time": "2022-04-29T21:08:47.202Z"
   },
   {
    "duration": 28,
    "start_time": "2022-04-29T21:09:02.892Z"
   },
   {
    "duration": 60,
    "start_time": "2022-04-29T21:09:10.966Z"
   },
   {
    "duration": 41,
    "start_time": "2022-04-29T21:09:30.679Z"
   },
   {
    "duration": 43,
    "start_time": "2022-04-29T21:25:01.243Z"
   },
   {
    "duration": 43,
    "start_time": "2022-04-29T21:25:13.518Z"
   },
   {
    "duration": 69,
    "start_time": "2022-04-29T21:25:24.125Z"
   },
   {
    "duration": 30,
    "start_time": "2022-04-29T21:26:28.313Z"
   },
   {
    "duration": 4127,
    "start_time": "2022-04-29T21:26:29.072Z"
   },
   {
    "duration": 4411,
    "start_time": "2022-04-29T21:27:01.986Z"
   },
   {
    "duration": 4137,
    "start_time": "2022-04-29T21:27:17.717Z"
   },
   {
    "duration": 4106,
    "start_time": "2022-04-29T21:27:33.863Z"
   },
   {
    "duration": 4076,
    "start_time": "2022-04-29T21:27:46.430Z"
   },
   {
    "duration": 3991,
    "start_time": "2022-04-29T21:29:33.571Z"
   },
   {
    "duration": 4705,
    "start_time": "2022-04-29T21:32:42.319Z"
   },
   {
    "duration": 1729,
    "start_time": "2022-04-29T21:32:54.041Z"
   },
   {
    "duration": 3850,
    "start_time": "2022-04-29T21:33:03.818Z"
   },
   {
    "duration": 3789,
    "start_time": "2022-04-29T21:33:15.651Z"
   },
   {
    "duration": 3773,
    "start_time": "2022-04-29T21:33:27.124Z"
   },
   {
    "duration": 7009,
    "start_time": "2022-04-29T21:34:15.340Z"
   },
   {
    "duration": 7154,
    "start_time": "2022-04-29T21:34:54.115Z"
   },
   {
    "duration": 6949,
    "start_time": "2022-04-29T21:35:36.300Z"
   },
   {
    "duration": 1948,
    "start_time": "2022-04-29T21:37:13.559Z"
   },
   {
    "duration": 15,
    "start_time": "2022-04-29T21:37:15.510Z"
   },
   {
    "duration": 822,
    "start_time": "2022-04-29T21:37:15.527Z"
   },
   {
    "duration": 1572,
    "start_time": "2022-04-29T21:37:16.352Z"
   },
   {
    "duration": 13,
    "start_time": "2022-04-29T21:37:17.929Z"
   },
   {
    "duration": 17,
    "start_time": "2022-04-29T21:37:17.944Z"
   },
   {
    "duration": 14,
    "start_time": "2022-04-29T21:37:17.963Z"
   },
   {
    "duration": 53,
    "start_time": "2022-04-29T21:37:17.979Z"
   },
   {
    "duration": 19,
    "start_time": "2022-04-29T21:37:18.034Z"
   },
   {
    "duration": 12,
    "start_time": "2022-04-29T21:37:18.056Z"
   },
   {
    "duration": 14,
    "start_time": "2022-04-29T21:37:18.070Z"
   },
   {
    "duration": 7,
    "start_time": "2022-04-29T21:37:18.126Z"
   },
   {
    "duration": 13,
    "start_time": "2022-04-29T21:37:18.136Z"
   },
   {
    "duration": 16,
    "start_time": "2022-04-29T21:37:18.155Z"
   },
   {
    "duration": 66,
    "start_time": "2022-04-29T21:37:18.174Z"
   },
   {
    "duration": 7,
    "start_time": "2022-04-29T21:37:18.242Z"
   },
   {
    "duration": 8,
    "start_time": "2022-04-29T21:37:18.252Z"
   },
   {
    "duration": 12,
    "start_time": "2022-04-29T21:37:18.263Z"
   },
   {
    "duration": 48,
    "start_time": "2022-04-29T21:37:18.278Z"
   },
   {
    "duration": 15,
    "start_time": "2022-04-29T21:37:18.329Z"
   },
   {
    "duration": 2243,
    "start_time": "2022-04-29T21:37:18.346Z"
   },
   {
    "duration": 28,
    "start_time": "2022-04-29T21:37:20.593Z"
   },
   {
    "duration": 3421,
    "start_time": "2022-04-29T21:37:20.623Z"
   },
   {
    "duration": 24,
    "start_time": "2022-04-29T21:37:24.047Z"
   },
   {
    "duration": 2827,
    "start_time": "2022-04-29T21:37:24.073Z"
   },
   {
    "duration": 109,
    "start_time": "2022-04-29T21:37:26.902Z"
   },
   {
    "duration": 8394,
    "start_time": "2022-04-29T21:37:27.014Z"
   },
   {
    "duration": 59,
    "start_time": "2022-04-29T21:37:35.410Z"
   },
   {
    "duration": 55,
    "start_time": "2022-04-29T21:37:35.471Z"
   },
   {
    "duration": 48,
    "start_time": "2022-04-29T21:37:35.528Z"
   },
   {
    "duration": 26,
    "start_time": "2022-04-29T21:37:35.578Z"
   },
   {
    "duration": 4368,
    "start_time": "2022-04-29T21:37:35.606Z"
   },
   {
    "duration": 2052,
    "start_time": "2022-04-29T21:39:10.299Z"
   },
   {
    "duration": 7,
    "start_time": "2022-04-29T21:39:12.354Z"
   },
   {
    "duration": 824,
    "start_time": "2022-04-29T21:39:12.363Z"
   },
   {
    "duration": 1394,
    "start_time": "2022-04-29T21:39:13.189Z"
   },
   {
    "duration": 12,
    "start_time": "2022-04-29T21:39:14.585Z"
   },
   {
    "duration": 30,
    "start_time": "2022-04-29T21:39:14.600Z"
   },
   {
    "duration": 10,
    "start_time": "2022-04-29T21:39:14.632Z"
   },
   {
    "duration": 20,
    "start_time": "2022-04-29T21:39:14.644Z"
   },
   {
    "duration": 16,
    "start_time": "2022-04-29T21:39:14.667Z"
   },
   {
    "duration": 44,
    "start_time": "2022-04-29T21:39:14.686Z"
   },
   {
    "duration": 14,
    "start_time": "2022-04-29T21:39:14.732Z"
   },
   {
    "duration": 5,
    "start_time": "2022-04-29T21:39:14.749Z"
   },
   {
    "duration": 14,
    "start_time": "2022-04-29T21:39:14.756Z"
   },
   {
    "duration": 52,
    "start_time": "2022-04-29T21:39:14.773Z"
   },
   {
    "duration": 18,
    "start_time": "2022-04-29T21:39:14.827Z"
   },
   {
    "duration": 6,
    "start_time": "2022-04-29T21:39:14.847Z"
   },
   {
    "duration": 8,
    "start_time": "2022-04-29T21:39:14.856Z"
   },
   {
    "duration": 6,
    "start_time": "2022-04-29T21:39:14.866Z"
   },
   {
    "duration": 7,
    "start_time": "2022-04-29T21:39:14.874Z"
   },
   {
    "duration": 9,
    "start_time": "2022-04-29T21:39:14.925Z"
   },
   {
    "duration": 2093,
    "start_time": "2022-04-29T21:39:14.936Z"
   },
   {
    "duration": 23,
    "start_time": "2022-04-29T21:39:17.032Z"
   },
   {
    "duration": 3225,
    "start_time": "2022-04-29T21:39:17.057Z"
   },
   {
    "duration": 26,
    "start_time": "2022-04-29T21:39:20.284Z"
   },
   {
    "duration": 4243,
    "start_time": "2022-04-29T21:39:20.324Z"
   },
   {
    "duration": 114,
    "start_time": "2022-04-29T21:39:24.569Z"
   },
   {
    "duration": 7492,
    "start_time": "2022-04-29T21:39:24.686Z"
   },
   {
    "duration": 55,
    "start_time": "2022-04-29T21:39:32.182Z"
   },
   {
    "duration": 40,
    "start_time": "2022-04-29T21:39:32.240Z"
   },
   {
    "duration": 65,
    "start_time": "2022-04-29T21:39:32.282Z"
   },
   {
    "duration": 29,
    "start_time": "2022-04-29T21:39:32.350Z"
   },
   {
    "duration": 3883,
    "start_time": "2022-04-29T21:39:32.382Z"
   },
   {
    "duration": 4338,
    "start_time": "2022-04-29T21:41:17.012Z"
   },
   {
    "duration": 36,
    "start_time": "2022-04-29T21:41:22.438Z"
   },
   {
    "duration": 6120,
    "start_time": "2022-04-29T21:41:22.844Z"
   },
   {
    "duration": 2027,
    "start_time": "2022-04-29T21:43:16.148Z"
   },
   {
    "duration": 7,
    "start_time": "2022-04-29T21:43:18.178Z"
   },
   {
    "duration": 898,
    "start_time": "2022-04-29T21:43:18.188Z"
   },
   {
    "duration": 1539,
    "start_time": "2022-04-29T21:43:19.089Z"
   },
   {
    "duration": 16,
    "start_time": "2022-04-29T21:43:20.632Z"
   },
   {
    "duration": 17,
    "start_time": "2022-04-29T21:43:20.651Z"
   },
   {
    "duration": 10,
    "start_time": "2022-04-29T21:43:20.671Z"
   },
   {
    "duration": 57,
    "start_time": "2022-04-29T21:43:20.684Z"
   },
   {
    "duration": 32,
    "start_time": "2022-04-29T21:43:20.744Z"
   },
   {
    "duration": 12,
    "start_time": "2022-04-29T21:43:20.780Z"
   },
   {
    "duration": 48,
    "start_time": "2022-04-29T21:43:20.794Z"
   },
   {
    "duration": 7,
    "start_time": "2022-04-29T21:43:20.845Z"
   },
   {
    "duration": 18,
    "start_time": "2022-04-29T21:43:20.854Z"
   },
   {
    "duration": 23,
    "start_time": "2022-04-29T21:43:20.874Z"
   },
   {
    "duration": 27,
    "start_time": "2022-04-29T21:43:20.924Z"
   },
   {
    "duration": 6,
    "start_time": "2022-04-29T21:43:20.953Z"
   },
   {
    "duration": 8,
    "start_time": "2022-04-29T21:43:20.961Z"
   },
   {
    "duration": 8,
    "start_time": "2022-04-29T21:43:20.972Z"
   },
   {
    "duration": 74,
    "start_time": "2022-04-29T21:43:20.983Z"
   },
   {
    "duration": 15,
    "start_time": "2022-04-29T21:43:21.059Z"
   },
   {
    "duration": 2265,
    "start_time": "2022-04-29T21:43:21.076Z"
   },
   {
    "duration": 24,
    "start_time": "2022-04-29T21:43:23.344Z"
   },
   {
    "duration": 3337,
    "start_time": "2022-04-29T21:43:23.370Z"
   },
   {
    "duration": 43,
    "start_time": "2022-04-29T21:43:26.709Z"
   },
   {
    "duration": 2789,
    "start_time": "2022-04-29T21:43:26.754Z"
   },
   {
    "duration": 123,
    "start_time": "2022-04-29T21:43:29.545Z"
   },
   {
    "duration": 7315,
    "start_time": "2022-04-29T21:43:29.671Z"
   },
   {
    "duration": 51,
    "start_time": "2022-04-29T21:43:36.992Z"
   },
   {
    "duration": 4085,
    "start_time": "2022-04-29T21:43:37.046Z"
   },
   {
    "duration": 1882,
    "start_time": "2022-04-29T21:46:15.352Z"
   },
   {
    "duration": 12,
    "start_time": "2022-04-29T21:46:31.849Z"
   },
   {
    "duration": 10,
    "start_time": "2022-04-29T21:47:09.981Z"
   },
   {
    "duration": 10,
    "start_time": "2022-04-29T21:49:19.281Z"
   },
   {
    "duration": 80,
    "start_time": "2022-04-29T21:50:49.908Z"
   },
   {
    "duration": 17,
    "start_time": "2022-04-29T21:51:13.630Z"
   },
   {
    "duration": 17,
    "start_time": "2022-04-29T21:51:49.028Z"
   },
   {
    "duration": 18,
    "start_time": "2022-04-29T21:52:47.466Z"
   },
   {
    "duration": 17,
    "start_time": "2022-04-29T21:52:54.704Z"
   },
   {
    "duration": 17,
    "start_time": "2022-04-29T21:53:25.748Z"
   },
   {
    "duration": 17,
    "start_time": "2022-04-29T21:53:35.782Z"
   },
   {
    "duration": 21,
    "start_time": "2022-04-29T21:55:02.199Z"
   },
   {
    "duration": 18,
    "start_time": "2022-04-29T21:55:25.976Z"
   },
   {
    "duration": 43,
    "start_time": "2022-04-29T21:56:12.485Z"
   },
   {
    "duration": 22,
    "start_time": "2022-04-29T21:57:21.516Z"
   },
   {
    "duration": 19,
    "start_time": "2022-04-29T21:57:32.783Z"
   },
   {
    "duration": 4,
    "start_time": "2022-04-29T22:19:25.665Z"
   },
   {
    "duration": 13,
    "start_time": "2022-04-29T22:24:53.573Z"
   },
   {
    "duration": 5,
    "start_time": "2022-04-29T22:24:57.461Z"
   },
   {
    "duration": 412,
    "start_time": "2022-04-29T22:24:57.469Z"
   },
   {
    "duration": 6,
    "start_time": "2022-04-29T22:25:27.625Z"
   },
   {
    "duration": 20,
    "start_time": "2022-04-29T22:28:08.568Z"
   },
   {
    "duration": 9,
    "start_time": "2022-04-29T22:28:29.760Z"
   },
   {
    "duration": 20,
    "start_time": "2022-04-29T22:28:31.328Z"
   },
   {
    "duration": 1770,
    "start_time": "2022-04-29T22:28:31.663Z"
   },
   {
    "duration": 39,
    "start_time": "2022-04-29T22:28:51.382Z"
   },
   {
    "duration": 2117,
    "start_time": "2022-04-29T22:28:59.410Z"
   },
   {
    "duration": 6,
    "start_time": "2022-04-29T22:29:02.426Z"
   },
   {
    "duration": 6,
    "start_time": "2022-04-29T22:31:35.859Z"
   },
   {
    "duration": 5,
    "start_time": "2022-04-29T22:31:43.321Z"
   },
   {
    "duration": 2161,
    "start_time": "2022-04-29T22:32:51.963Z"
   },
   {
    "duration": 2343,
    "start_time": "2022-04-29T22:38:20.989Z"
   },
   {
    "duration": 5,
    "start_time": "2022-04-29T22:38:32.151Z"
   },
   {
    "duration": 3,
    "start_time": "2022-04-29T22:38:32.574Z"
   },
   {
    "duration": 20,
    "start_time": "2022-04-29T22:38:32.807Z"
   },
   {
    "duration": 2140,
    "start_time": "2022-04-29T22:38:33.286Z"
   },
   {
    "duration": 1762,
    "start_time": "2022-04-30T11:42:07.586Z"
   },
   {
    "duration": 6,
    "start_time": "2022-04-30T11:42:09.350Z"
   },
   {
    "duration": 620,
    "start_time": "2022-04-30T11:42:09.357Z"
   },
   {
    "duration": 877,
    "start_time": "2022-04-30T11:42:09.979Z"
   },
   {
    "duration": 9,
    "start_time": "2022-04-30T11:42:10.858Z"
   },
   {
    "duration": 19,
    "start_time": "2022-04-30T11:42:10.869Z"
   },
   {
    "duration": 24,
    "start_time": "2022-04-30T11:42:10.890Z"
   },
   {
    "duration": 33,
    "start_time": "2022-04-30T11:42:10.915Z"
   },
   {
    "duration": 33,
    "start_time": "2022-04-30T11:42:10.950Z"
   },
   {
    "duration": 19,
    "start_time": "2022-04-30T11:42:10.987Z"
   },
   {
    "duration": 23,
    "start_time": "2022-04-30T11:42:11.008Z"
   },
   {
    "duration": 31,
    "start_time": "2022-04-30T11:42:11.032Z"
   },
   {
    "duration": 25,
    "start_time": "2022-04-30T11:42:11.065Z"
   },
   {
    "duration": 28,
    "start_time": "2022-04-30T11:42:11.092Z"
   },
   {
    "duration": 45,
    "start_time": "2022-04-30T11:42:11.121Z"
   },
   {
    "duration": 10,
    "start_time": "2022-04-30T11:42:11.168Z"
   },
   {
    "duration": 19,
    "start_time": "2022-04-30T11:42:11.180Z"
   },
   {
    "duration": 18,
    "start_time": "2022-04-30T11:42:11.201Z"
   },
   {
    "duration": 29,
    "start_time": "2022-04-30T11:42:11.220Z"
   },
   {
    "duration": 20,
    "start_time": "2022-04-30T11:42:11.251Z"
   },
   {
    "duration": 2082,
    "start_time": "2022-04-30T11:42:11.273Z"
   },
   {
    "duration": 24,
    "start_time": "2022-04-30T11:42:13.357Z"
   },
   {
    "duration": 2899,
    "start_time": "2022-04-30T11:42:13.383Z"
   },
   {
    "duration": 16,
    "start_time": "2022-04-30T11:42:16.284Z"
   },
   {
    "duration": 1763,
    "start_time": "2022-04-30T11:42:16.302Z"
   },
   {
    "duration": 84,
    "start_time": "2022-04-30T11:42:18.067Z"
   },
   {
    "duration": 6204,
    "start_time": "2022-04-30T11:42:18.153Z"
   },
   {
    "duration": 14,
    "start_time": "2022-04-30T11:42:24.361Z"
   },
   {
    "duration": 21,
    "start_time": "2022-04-30T11:42:24.377Z"
   },
   {
    "duration": 3035,
    "start_time": "2022-04-30T11:42:24.400Z"
   },
   {
    "duration": 4,
    "start_time": "2022-04-30T11:42:27.437Z"
   },
   {
    "duration": 3,
    "start_time": "2022-04-30T11:42:27.443Z"
   },
   {
    "duration": 10,
    "start_time": "2022-04-30T11:42:27.448Z"
   },
   {
    "duration": 3837,
    "start_time": "2022-04-30T11:42:27.460Z"
   },
   {
    "duration": 0,
    "start_time": "2022-04-30T11:42:31.299Z"
   },
   {
    "duration": 0,
    "start_time": "2022-04-30T11:42:31.300Z"
   },
   {
    "duration": 1842,
    "start_time": "2022-04-30T12:14:14.346Z"
   },
   {
    "duration": 6,
    "start_time": "2022-04-30T12:14:16.190Z"
   },
   {
    "duration": 776,
    "start_time": "2022-04-30T12:14:16.198Z"
   },
   {
    "duration": 988,
    "start_time": "2022-04-30T12:14:16.977Z"
   },
   {
    "duration": 11,
    "start_time": "2022-04-30T12:14:17.967Z"
   },
   {
    "duration": 10,
    "start_time": "2022-04-30T12:14:17.980Z"
   },
   {
    "duration": 11,
    "start_time": "2022-04-30T12:14:17.992Z"
   },
   {
    "duration": 15,
    "start_time": "2022-04-30T12:14:18.023Z"
   },
   {
    "duration": 12,
    "start_time": "2022-04-30T12:14:18.040Z"
   },
   {
    "duration": 7,
    "start_time": "2022-04-30T12:14:18.055Z"
   },
   {
    "duration": 8,
    "start_time": "2022-04-30T12:14:18.064Z"
   },
   {
    "duration": 5,
    "start_time": "2022-04-30T12:14:18.073Z"
   },
   {
    "duration": 51,
    "start_time": "2022-04-30T12:14:18.079Z"
   },
   {
    "duration": 10,
    "start_time": "2022-04-30T12:14:18.132Z"
   },
   {
    "duration": 15,
    "start_time": "2022-04-30T12:14:18.144Z"
   },
   {
    "duration": 4,
    "start_time": "2022-04-30T12:14:18.161Z"
   },
   {
    "duration": 8,
    "start_time": "2022-04-30T12:14:18.167Z"
   },
   {
    "duration": 8,
    "start_time": "2022-04-30T12:14:18.177Z"
   },
   {
    "duration": 38,
    "start_time": "2022-04-30T12:14:18.186Z"
   },
   {
    "duration": 11,
    "start_time": "2022-04-30T12:14:18.226Z"
   },
   {
    "duration": 1392,
    "start_time": "2022-04-30T12:14:18.239Z"
   },
   {
    "duration": 16,
    "start_time": "2022-04-30T12:14:19.633Z"
   },
   {
    "duration": 1964,
    "start_time": "2022-04-30T12:14:19.651Z"
   },
   {
    "duration": 19,
    "start_time": "2022-04-30T12:14:21.616Z"
   },
   {
    "duration": 1773,
    "start_time": "2022-04-30T12:14:21.637Z"
   },
   {
    "duration": 79,
    "start_time": "2022-04-30T12:14:23.412Z"
   },
   {
    "duration": 4424,
    "start_time": "2022-04-30T12:14:23.493Z"
   },
   {
    "duration": 10,
    "start_time": "2022-04-30T12:14:27.922Z"
   },
   {
    "duration": 47,
    "start_time": "2022-04-30T12:14:27.934Z"
   },
   {
    "duration": 2965,
    "start_time": "2022-04-30T12:14:27.983Z"
   },
   {
    "duration": 4,
    "start_time": "2022-04-30T12:14:30.949Z"
   },
   {
    "duration": 138,
    "start_time": "2022-04-30T12:14:30.954Z"
   },
   {
    "duration": 0,
    "start_time": "2022-04-30T12:14:31.094Z"
   },
   {
    "duration": 0,
    "start_time": "2022-04-30T12:14:31.095Z"
   },
   {
    "duration": 0,
    "start_time": "2022-04-30T12:14:31.096Z"
   },
   {
    "duration": 0,
    "start_time": "2022-04-30T12:14:31.097Z"
   },
   {
    "duration": 2,
    "start_time": "2022-04-30T12:14:43.258Z"
   },
   {
    "duration": 8,
    "start_time": "2022-04-30T12:14:43.809Z"
   },
   {
    "duration": 428,
    "start_time": "2022-04-30T12:14:44.296Z"
   },
   {
    "duration": 9,
    "start_time": "2022-04-30T12:14:45.802Z"
   },
   {
    "duration": 8,
    "start_time": "2022-04-30T12:14:46.410Z"
   },
   {
    "duration": 12,
    "start_time": "2022-04-30T12:16:40.222Z"
   },
   {
    "duration": 724,
    "start_time": "2022-04-30T12:20:04.506Z"
   },
   {
    "duration": 4,
    "start_time": "2022-04-30T12:20:55.002Z"
   },
   {
    "duration": 278,
    "start_time": "2022-04-30T12:20:56.146Z"
   },
   {
    "duration": 3,
    "start_time": "2022-04-30T12:21:25.916Z"
   },
   {
    "duration": 16,
    "start_time": "2022-04-30T12:21:26.701Z"
   },
   {
    "duration": 1696,
    "start_time": "2022-04-30T12:21:35.031Z"
   },
   {
    "duration": 3186,
    "start_time": "2022-04-30T12:21:58.641Z"
   },
   {
    "duration": 1714,
    "start_time": "2022-04-30T12:22:17.683Z"
   },
   {
    "duration": 6,
    "start_time": "2022-04-30T12:22:19.399Z"
   },
   {
    "duration": 695,
    "start_time": "2022-04-30T12:22:19.406Z"
   },
   {
    "duration": 857,
    "start_time": "2022-04-30T12:22:20.103Z"
   },
   {
    "duration": 10,
    "start_time": "2022-04-30T12:22:20.962Z"
   },
   {
    "duration": 9,
    "start_time": "2022-04-30T12:22:20.974Z"
   },
   {
    "duration": 8,
    "start_time": "2022-04-30T12:22:20.985Z"
   },
   {
    "duration": 31,
    "start_time": "2022-04-30T12:22:20.995Z"
   },
   {
    "duration": 12,
    "start_time": "2022-04-30T12:22:21.027Z"
   },
   {
    "duration": 7,
    "start_time": "2022-04-30T12:22:21.041Z"
   },
   {
    "duration": 10,
    "start_time": "2022-04-30T12:22:21.049Z"
   },
   {
    "duration": 7,
    "start_time": "2022-04-30T12:22:21.060Z"
   },
   {
    "duration": 23,
    "start_time": "2022-04-30T12:22:21.068Z"
   },
   {
    "duration": 13,
    "start_time": "2022-04-30T12:22:21.092Z"
   },
   {
    "duration": 29,
    "start_time": "2022-04-30T12:22:21.107Z"
   },
   {
    "duration": 4,
    "start_time": "2022-04-30T12:22:21.137Z"
   },
   {
    "duration": 8,
    "start_time": "2022-04-30T12:22:21.143Z"
   },
   {
    "duration": 11,
    "start_time": "2022-04-30T12:22:21.152Z"
   },
   {
    "duration": 8,
    "start_time": "2022-04-30T12:22:21.165Z"
   },
   {
    "duration": 10,
    "start_time": "2022-04-30T12:22:21.175Z"
   },
   {
    "duration": 1373,
    "start_time": "2022-04-30T12:22:21.186Z"
   },
   {
    "duration": 16,
    "start_time": "2022-04-30T12:22:22.561Z"
   },
   {
    "duration": 2086,
    "start_time": "2022-04-30T12:22:22.578Z"
   },
   {
    "duration": 17,
    "start_time": "2022-04-30T12:22:24.666Z"
   },
   {
    "duration": 1686,
    "start_time": "2022-04-30T12:22:24.685Z"
   },
   {
    "duration": 92,
    "start_time": "2022-04-30T12:22:26.373Z"
   },
   {
    "duration": 4965,
    "start_time": "2022-04-30T12:22:26.467Z"
   },
   {
    "duration": 11,
    "start_time": "2022-04-30T12:22:31.435Z"
   },
   {
    "duration": 18,
    "start_time": "2022-04-30T12:22:31.448Z"
   },
   {
    "duration": 2494,
    "start_time": "2022-04-30T12:22:31.467Z"
   },
   {
    "duration": 3,
    "start_time": "2022-04-30T12:22:33.963Z"
   },
   {
    "duration": 5,
    "start_time": "2022-04-30T12:22:33.968Z"
   },
   {
    "duration": 9,
    "start_time": "2022-04-30T12:22:33.975Z"
   },
   {
    "duration": 2940,
    "start_time": "2022-04-30T12:22:33.985Z"
   },
   {
    "duration": 191,
    "start_time": "2022-04-30T12:22:36.932Z"
   },
   {
    "duration": 0,
    "start_time": "2022-04-30T12:22:37.125Z"
   },
   {
    "duration": 3627,
    "start_time": "2022-04-30T12:42:12.602Z"
   },
   {
    "duration": 6,
    "start_time": "2022-04-30T13:24:40.738Z"
   },
   {
    "duration": 4398,
    "start_time": "2022-04-30T13:24:43.026Z"
   },
   {
    "duration": 9,
    "start_time": "2022-04-30T13:26:28.887Z"
   },
   {
    "duration": 31,
    "start_time": "2022-04-30T13:27:10.234Z"
   },
   {
    "duration": 10942,
    "start_time": "2022-04-30T13:27:16.988Z"
   },
   {
    "duration": 67,
    "start_time": "2022-04-30T13:29:34.185Z"
   },
   {
    "duration": 1172,
    "start_time": "2022-04-30T13:30:18.473Z"
   },
   {
    "duration": 907,
    "start_time": "2022-04-30T13:30:33.721Z"
   },
   {
    "duration": 1107,
    "start_time": "2022-04-30T13:31:46.554Z"
   },
   {
    "duration": 947,
    "start_time": "2022-04-30T13:33:06.185Z"
   },
   {
    "duration": 32439,
    "start_time": "2022-04-30T13:33:13.908Z"
   },
   {
    "duration": 4,
    "start_time": "2022-04-30T13:34:30.426Z"
   },
   {
    "duration": 4340926,
    "start_time": "2022-04-30T13:34:58.575Z"
   },
   {
    "duration": 15,
    "start_time": "2022-04-30T15:42:08.135Z"
   },
   {
    "duration": 4,
    "start_time": "2022-04-30T15:42:42.087Z"
   },
   {
    "duration": 27,
    "start_time": "2022-04-30T15:58:26.713Z"
   },
   {
    "duration": 5,
    "start_time": "2022-04-30T15:58:42.194Z"
   },
   {
    "duration": 10,
    "start_time": "2022-04-30T15:58:46.128Z"
   },
   {
    "duration": 5,
    "start_time": "2022-04-30T15:58:49.607Z"
   },
   {
    "duration": 5,
    "start_time": "2022-04-30T15:59:16.740Z"
   },
   {
    "duration": 206,
    "start_time": "2022-04-30T16:04:01.818Z"
   },
   {
    "duration": 16,
    "start_time": "2022-04-30T16:04:13.162Z"
   },
   {
    "duration": 6,
    "start_time": "2022-04-30T16:04:19.781Z"
   },
   {
    "duration": 28,
    "start_time": "2022-04-30T16:09:32.391Z"
   },
   {
    "duration": 16,
    "start_time": "2022-04-30T16:09:47.370Z"
   },
   {
    "duration": 27,
    "start_time": "2022-04-30T16:09:47.912Z"
   },
   {
    "duration": 13,
    "start_time": "2022-04-30T16:10:53.086Z"
   },
   {
    "duration": 25,
    "start_time": "2022-04-30T16:10:53.456Z"
   },
   {
    "duration": 16,
    "start_time": "2022-04-30T16:11:12.248Z"
   },
   {
    "duration": 34,
    "start_time": "2022-04-30T16:11:12.563Z"
   },
   {
    "duration": 18,
    "start_time": "2022-04-30T16:11:25.354Z"
   },
   {
    "duration": 30,
    "start_time": "2022-04-30T16:11:25.747Z"
   },
   {
    "duration": 17,
    "start_time": "2022-04-30T16:11:49.510Z"
   },
   {
    "duration": 29,
    "start_time": "2022-04-30T16:11:49.758Z"
   },
   {
    "duration": 19,
    "start_time": "2022-04-30T16:12:00.974Z"
   },
   {
    "duration": 20,
    "start_time": "2022-04-30T16:12:03.597Z"
   },
   {
    "duration": 19,
    "start_time": "2022-04-30T16:12:04.030Z"
   },
   {
    "duration": 32,
    "start_time": "2022-04-30T16:12:08.631Z"
   },
   {
    "duration": 29,
    "start_time": "2022-04-30T16:12:08.975Z"
   },
   {
    "duration": 17,
    "start_time": "2022-04-30T16:12:23.145Z"
   },
   {
    "duration": 31,
    "start_time": "2022-04-30T16:12:23.362Z"
   },
   {
    "duration": 20,
    "start_time": "2022-04-30T16:12:30.226Z"
   },
   {
    "duration": 41,
    "start_time": "2022-04-30T16:12:30.467Z"
   },
   {
    "duration": 9,
    "start_time": "2022-04-30T16:31:50.326Z"
   },
   {
    "duration": 42,
    "start_time": "2022-04-30T16:31:55.405Z"
   },
   {
    "duration": 18,
    "start_time": "2022-04-30T16:32:15.335Z"
   },
   {
    "duration": 18,
    "start_time": "2022-04-30T16:32:27.272Z"
   },
   {
    "duration": 31,
    "start_time": "2022-04-30T16:32:35.136Z"
   },
   {
    "duration": 21,
    "start_time": "2022-04-30T16:33:10.281Z"
   },
   {
    "duration": 11,
    "start_time": "2022-04-30T19:21:59.097Z"
   },
   {
    "duration": 10,
    "start_time": "2022-04-30T19:24:52.681Z"
   },
   {
    "duration": 14,
    "start_time": "2022-04-30T19:25:41.569Z"
   },
   {
    "duration": 11,
    "start_time": "2022-04-30T19:25:59.813Z"
   },
   {
    "duration": 9,
    "start_time": "2022-04-30T19:25:59.988Z"
   },
   {
    "duration": 1608,
    "start_time": "2022-04-30T19:27:07.769Z"
   },
   {
    "duration": 4,
    "start_time": "2022-04-30T19:27:09.380Z"
   },
   {
    "duration": 702,
    "start_time": "2022-04-30T19:27:09.386Z"
   },
   {
    "duration": 950,
    "start_time": "2022-04-30T19:27:10.090Z"
   },
   {
    "duration": 10,
    "start_time": "2022-04-30T19:27:11.042Z"
   },
   {
    "duration": 10,
    "start_time": "2022-04-30T19:27:11.054Z"
   },
   {
    "duration": 7,
    "start_time": "2022-04-30T19:27:11.066Z"
   },
   {
    "duration": 15,
    "start_time": "2022-04-30T19:27:11.075Z"
   },
   {
    "duration": 38,
    "start_time": "2022-04-30T19:27:11.092Z"
   },
   {
    "duration": 7,
    "start_time": "2022-04-30T19:27:11.132Z"
   },
   {
    "duration": 9,
    "start_time": "2022-04-30T19:27:11.141Z"
   },
   {
    "duration": 4,
    "start_time": "2022-04-30T19:27:11.151Z"
   },
   {
    "duration": 11,
    "start_time": "2022-04-30T19:27:11.157Z"
   },
   {
    "duration": 12,
    "start_time": "2022-04-30T19:27:11.171Z"
   },
   {
    "duration": 51,
    "start_time": "2022-04-30T19:27:11.185Z"
   },
   {
    "duration": 4,
    "start_time": "2022-04-30T19:27:11.238Z"
   },
   {
    "duration": 7,
    "start_time": "2022-04-30T19:27:11.244Z"
   },
   {
    "duration": 9,
    "start_time": "2022-04-30T19:27:11.252Z"
   },
   {
    "duration": 8,
    "start_time": "2022-04-30T19:27:11.263Z"
   },
   {
    "duration": 12,
    "start_time": "2022-04-30T19:27:11.273Z"
   },
   {
    "duration": 1368,
    "start_time": "2022-04-30T19:27:11.287Z"
   },
   {
    "duration": 17,
    "start_time": "2022-04-30T19:27:12.657Z"
   },
   {
    "duration": 2057,
    "start_time": "2022-04-30T19:27:12.676Z"
   },
   {
    "duration": 17,
    "start_time": "2022-04-30T19:27:14.735Z"
   },
   {
    "duration": 1735,
    "start_time": "2022-04-30T19:27:14.754Z"
   },
   {
    "duration": 87,
    "start_time": "2022-04-30T19:27:16.491Z"
   },
   {
    "duration": 4806,
    "start_time": "2022-04-30T19:27:16.580Z"
   },
   {
    "duration": 12,
    "start_time": "2022-04-30T19:27:21.388Z"
   },
   {
    "duration": 27,
    "start_time": "2022-04-30T19:27:21.402Z"
   },
   {
    "duration": 2666,
    "start_time": "2022-04-30T19:27:21.431Z"
   },
   {
    "duration": 117,
    "start_time": "2022-04-30T19:27:24.099Z"
   },
   {
    "duration": 0,
    "start_time": "2022-04-30T19:27:24.218Z"
   },
   {
    "duration": 0,
    "start_time": "2022-04-30T19:27:24.219Z"
   },
   {
    "duration": 0,
    "start_time": "2022-04-30T19:27:24.222Z"
   },
   {
    "duration": 0,
    "start_time": "2022-04-30T19:27:24.223Z"
   },
   {
    "duration": 0,
    "start_time": "2022-04-30T19:27:24.224Z"
   },
   {
    "duration": 0,
    "start_time": "2022-04-30T19:27:24.225Z"
   },
   {
    "duration": 0,
    "start_time": "2022-04-30T19:27:24.226Z"
   },
   {
    "duration": 0,
    "start_time": "2022-04-30T19:27:24.227Z"
   },
   {
    "duration": 4,
    "start_time": "2022-04-30T19:27:52.737Z"
   },
   {
    "duration": 2,
    "start_time": "2022-04-30T19:27:54.231Z"
   },
   {
    "duration": 7,
    "start_time": "2022-04-30T19:27:54.985Z"
   },
   {
    "duration": 3,
    "start_time": "2022-04-30T19:27:55.375Z"
   },
   {
    "duration": 5502,
    "start_time": "2022-04-30T19:27:55.720Z"
   },
   {
    "duration": 11904,
    "start_time": "2022-04-30T19:28:01.225Z"
   },
   {
    "duration": 2051,
    "start_time": "2022-04-30T19:35:29.991Z"
   },
   {
    "duration": 4,
    "start_time": "2022-04-30T19:35:32.044Z"
   },
   {
    "duration": 688,
    "start_time": "2022-04-30T19:35:32.050Z"
   },
   {
    "duration": 899,
    "start_time": "2022-04-30T19:35:32.740Z"
   },
   {
    "duration": 9,
    "start_time": "2022-04-30T19:35:33.642Z"
   },
   {
    "duration": 10,
    "start_time": "2022-04-30T19:35:33.653Z"
   },
   {
    "duration": 7,
    "start_time": "2022-04-30T19:35:33.665Z"
   },
   {
    "duration": 13,
    "start_time": "2022-04-30T19:35:33.674Z"
   },
   {
    "duration": 41,
    "start_time": "2022-04-30T19:35:33.689Z"
   },
   {
    "duration": 7,
    "start_time": "2022-04-30T19:35:33.732Z"
   },
   {
    "duration": 8,
    "start_time": "2022-04-30T19:35:33.741Z"
   },
   {
    "duration": 4,
    "start_time": "2022-04-30T19:35:33.751Z"
   },
   {
    "duration": 9,
    "start_time": "2022-04-30T19:35:33.757Z"
   },
   {
    "duration": 14,
    "start_time": "2022-04-30T19:35:33.769Z"
   },
   {
    "duration": 47,
    "start_time": "2022-04-30T19:35:33.785Z"
   },
   {
    "duration": 4,
    "start_time": "2022-04-30T19:35:33.834Z"
   },
   {
    "duration": 4,
    "start_time": "2022-04-30T19:35:33.840Z"
   },
   {
    "duration": 7,
    "start_time": "2022-04-30T19:35:33.846Z"
   },
   {
    "duration": 8,
    "start_time": "2022-04-30T19:35:33.855Z"
   },
   {
    "duration": 10,
    "start_time": "2022-04-30T19:35:33.864Z"
   },
   {
    "duration": 1384,
    "start_time": "2022-04-30T19:35:33.875Z"
   },
   {
    "duration": 17,
    "start_time": "2022-04-30T19:35:35.261Z"
   },
   {
    "duration": 2052,
    "start_time": "2022-04-30T19:35:35.280Z"
   },
   {
    "duration": 16,
    "start_time": "2022-04-30T19:35:37.334Z"
   },
   {
    "duration": 2107,
    "start_time": "2022-04-30T19:35:37.352Z"
   },
   {
    "duration": 89,
    "start_time": "2022-04-30T19:35:39.460Z"
   },
   {
    "duration": 4655,
    "start_time": "2022-04-30T19:35:39.551Z"
   },
   {
    "duration": 17,
    "start_time": "2022-04-30T19:35:44.208Z"
   },
   {
    "duration": 18,
    "start_time": "2022-04-30T19:35:44.227Z"
   },
   {
    "duration": 2666,
    "start_time": "2022-04-30T19:35:44.247Z"
   },
   {
    "duration": 5,
    "start_time": "2022-04-30T19:35:46.915Z"
   },
   {
    "duration": 3,
    "start_time": "2022-04-30T19:35:46.923Z"
   },
   {
    "duration": 11,
    "start_time": "2022-04-30T19:35:46.928Z"
   },
   {
    "duration": 4,
    "start_time": "2022-04-30T19:35:46.941Z"
   },
   {
    "duration": 3880,
    "start_time": "2022-04-30T19:35:46.947Z"
   },
   {
    "duration": 11674,
    "start_time": "2022-04-30T19:35:50.829Z"
   },
   {
    "duration": 6392,
    "start_time": "2022-04-30T19:36:02.505Z"
   },
   {
    "duration": 12,
    "start_time": "2022-04-30T19:36:08.899Z"
   },
   {
    "duration": 996,
    "start_time": "2022-04-30T19:36:08.923Z"
   },
   {
    "duration": 4,
    "start_time": "2022-04-30T20:16:46.250Z"
   },
   {
    "duration": 4,
    "start_time": "2022-04-30T20:16:54.178Z"
   },
   {
    "duration": 4,
    "start_time": "2022-04-30T20:17:50.573Z"
   },
   {
    "duration": 12,
    "start_time": "2022-04-30T20:18:58.879Z"
   },
   {
    "duration": 6,
    "start_time": "2022-04-30T20:19:10.277Z"
   },
   {
    "duration": 5,
    "start_time": "2022-04-30T20:19:22.271Z"
   },
   {
    "duration": 4,
    "start_time": "2022-04-30T20:22:12.908Z"
   },
   {
    "duration": 4,
    "start_time": "2022-04-30T20:23:42.971Z"
   },
   {
    "duration": 4,
    "start_time": "2022-04-30T20:25:52.275Z"
   },
   {
    "duration": 13,
    "start_time": "2022-04-30T20:29:02.841Z"
   },
   {
    "duration": 38,
    "start_time": "2022-04-30T20:29:08.607Z"
   },
   {
    "duration": 40,
    "start_time": "2022-04-30T20:29:26.707Z"
   },
   {
    "duration": 16,
    "start_time": "2022-04-30T20:29:32.335Z"
   },
   {
    "duration": 18,
    "start_time": "2022-04-30T20:31:13.533Z"
   },
   {
    "duration": 19,
    "start_time": "2022-04-30T20:31:54.266Z"
   },
   {
    "duration": 24,
    "start_time": "2022-04-30T20:32:06.961Z"
   },
   {
    "duration": 5,
    "start_time": "2022-04-30T20:32:13.860Z"
   },
   {
    "duration": 26,
    "start_time": "2022-04-30T20:32:16.482Z"
   },
   {
    "duration": 23,
    "start_time": "2022-04-30T20:32:30.519Z"
   },
   {
    "duration": 4,
    "start_time": "2022-04-30T20:36:21.134Z"
   },
   {
    "duration": 4,
    "start_time": "2022-04-30T20:36:39.847Z"
   },
   {
    "duration": 22,
    "start_time": "2022-04-30T20:42:25.934Z"
   },
   {
    "duration": 22,
    "start_time": "2022-04-30T20:43:35.244Z"
   },
   {
    "duration": 4,
    "start_time": "2022-04-30T20:45:13.208Z"
   },
   {
    "duration": 29,
    "start_time": "2022-04-30T20:50:20.177Z"
   },
   {
    "duration": 11,
    "start_time": "2022-04-30T20:52:43.257Z"
   },
   {
    "duration": 8,
    "start_time": "2022-04-30T20:52:44.068Z"
   },
   {
    "duration": 9,
    "start_time": "2022-04-30T20:52:58.832Z"
   },
   {
    "duration": 1608,
    "start_time": "2022-04-30T21:00:59.453Z"
   },
   {
    "duration": 5,
    "start_time": "2022-04-30T21:01:01.063Z"
   },
   {
    "duration": 691,
    "start_time": "2022-04-30T21:01:01.069Z"
   },
   {
    "duration": 882,
    "start_time": "2022-04-30T21:01:01.762Z"
   },
   {
    "duration": 10,
    "start_time": "2022-04-30T21:01:02.645Z"
   },
   {
    "duration": 9,
    "start_time": "2022-04-30T21:01:02.657Z"
   },
   {
    "duration": 8,
    "start_time": "2022-04-30T21:01:02.668Z"
   },
   {
    "duration": 15,
    "start_time": "2022-04-30T21:01:02.678Z"
   },
   {
    "duration": 38,
    "start_time": "2022-04-30T21:01:02.695Z"
   },
   {
    "duration": 13,
    "start_time": "2022-04-30T21:01:11.363Z"
   },
   {
    "duration": 2100,
    "start_time": "2022-04-30T21:04:43.126Z"
   },
   {
    "duration": 5,
    "start_time": "2022-04-30T21:04:45.228Z"
   },
   {
    "duration": 666,
    "start_time": "2022-04-30T21:04:45.235Z"
   },
   {
    "duration": 897,
    "start_time": "2022-04-30T21:04:45.903Z"
   },
   {
    "duration": 10,
    "start_time": "2022-04-30T21:04:46.802Z"
   },
   {
    "duration": 11,
    "start_time": "2022-04-30T21:04:46.823Z"
   },
   {
    "duration": 9,
    "start_time": "2022-04-30T21:04:52.928Z"
   },
   {
    "duration": 8,
    "start_time": "2022-04-30T21:04:55.903Z"
   },
   {
    "duration": 11,
    "start_time": "2022-04-30T21:04:59.206Z"
   },
   {
    "duration": 15,
    "start_time": "2022-04-30T21:05:03.185Z"
   },
   {
    "duration": 5,
    "start_time": "2022-04-30T21:08:08.132Z"
   },
   {
    "duration": 7,
    "start_time": "2022-04-30T21:08:18.133Z"
   },
   {
    "duration": 5,
    "start_time": "2022-04-30T21:08:23.460Z"
   },
   {
    "duration": 1661,
    "start_time": "2022-04-30T21:31:45.272Z"
   },
   {
    "duration": 5,
    "start_time": "2022-04-30T21:31:46.934Z"
   },
   {
    "duration": 703,
    "start_time": "2022-04-30T21:31:46.940Z"
   },
   {
    "duration": 966,
    "start_time": "2022-04-30T21:31:47.644Z"
   },
   {
    "duration": 18,
    "start_time": "2022-04-30T21:31:48.612Z"
   },
   {
    "duration": 9,
    "start_time": "2022-04-30T21:31:48.631Z"
   },
   {
    "duration": 7,
    "start_time": "2022-04-30T21:31:48.642Z"
   },
   {
    "duration": 12,
    "start_time": "2022-04-30T21:31:48.651Z"
   },
   {
    "duration": 15,
    "start_time": "2022-04-30T21:31:48.664Z"
   },
   {
    "duration": 56,
    "start_time": "2022-04-30T21:31:48.681Z"
   },
   {
    "duration": 8,
    "start_time": "2022-04-30T21:31:48.739Z"
   },
   {
    "duration": 12,
    "start_time": "2022-04-30T21:31:48.748Z"
   },
   {
    "duration": 11,
    "start_time": "2022-04-30T21:31:48.762Z"
   },
   {
    "duration": 6,
    "start_time": "2022-04-30T21:31:48.776Z"
   },
   {
    "duration": 8,
    "start_time": "2022-04-30T21:31:48.784Z"
   },
   {
    "duration": 60,
    "start_time": "2022-04-30T21:31:48.794Z"
   },
   {
    "duration": 3251,
    "start_time": "2022-04-30T21:31:48.855Z"
   },
   {
    "duration": 13,
    "start_time": "2022-04-30T21:32:22.060Z"
   },
   {
    "duration": 7,
    "start_time": "2022-04-30T21:32:25.268Z"
   },
   {
    "duration": 4,
    "start_time": "2022-04-30T21:32:26.420Z"
   },
   {
    "duration": 1603,
    "start_time": "2022-04-30T21:35:54.657Z"
   },
   {
    "duration": 4,
    "start_time": "2022-04-30T21:35:56.262Z"
   },
   {
    "duration": 709,
    "start_time": "2022-04-30T21:35:56.267Z"
   },
   {
    "duration": 902,
    "start_time": "2022-04-30T21:35:56.979Z"
   },
   {
    "duration": 9,
    "start_time": "2022-04-30T21:35:57.883Z"
   },
   {
    "duration": 9,
    "start_time": "2022-04-30T21:35:57.893Z"
   },
   {
    "duration": 9,
    "start_time": "2022-04-30T21:35:57.903Z"
   },
   {
    "duration": 13,
    "start_time": "2022-04-30T21:35:57.913Z"
   },
   {
    "duration": 15,
    "start_time": "2022-04-30T21:35:57.928Z"
   },
   {
    "duration": 26,
    "start_time": "2022-04-30T21:35:57.946Z"
   },
   {
    "duration": 7,
    "start_time": "2022-04-30T21:35:57.974Z"
   },
   {
    "duration": 15,
    "start_time": "2022-04-30T21:35:57.982Z"
   },
   {
    "duration": 13,
    "start_time": "2022-04-30T21:35:57.998Z"
   },
   {
    "duration": 7,
    "start_time": "2022-04-30T21:35:58.022Z"
   },
   {
    "duration": 10,
    "start_time": "2022-04-30T21:35:58.030Z"
   },
   {
    "duration": 17,
    "start_time": "2022-04-30T21:35:58.041Z"
   },
   {
    "duration": 18,
    "start_time": "2022-04-30T21:35:58.060Z"
   },
   {
    "duration": 5,
    "start_time": "2022-04-30T21:35:58.080Z"
   },
   {
    "duration": 9,
    "start_time": "2022-04-30T21:35:58.087Z"
   },
   {
    "duration": 1453,
    "start_time": "2022-04-30T21:35:58.098Z"
   },
   {
    "duration": 17,
    "start_time": "2022-04-30T21:35:59.553Z"
   },
   {
    "duration": 2032,
    "start_time": "2022-04-30T21:35:59.571Z"
   },
   {
    "duration": 27,
    "start_time": "2022-04-30T21:36:01.604Z"
   },
   {
    "duration": 1854,
    "start_time": "2022-04-30T21:36:01.633Z"
   },
   {
    "duration": 91,
    "start_time": "2022-04-30T21:36:03.489Z"
   },
   {
    "duration": 4743,
    "start_time": "2022-04-30T21:36:03.582Z"
   },
   {
    "duration": 13,
    "start_time": "2022-04-30T21:36:08.326Z"
   },
   {
    "duration": 23,
    "start_time": "2022-04-30T21:36:08.343Z"
   },
   {
    "duration": 2845,
    "start_time": "2022-04-30T21:36:08.368Z"
   },
   {
    "duration": 10,
    "start_time": "2022-04-30T21:36:11.215Z"
   },
   {
    "duration": 14,
    "start_time": "2022-04-30T21:36:11.227Z"
   },
   {
    "duration": 30,
    "start_time": "2022-04-30T21:36:11.243Z"
   },
   {
    "duration": 13,
    "start_time": "2022-04-30T21:36:11.274Z"
   },
   {
    "duration": 3336,
    "start_time": "2022-04-30T21:36:11.289Z"
   },
   {
    "duration": 12154,
    "start_time": "2022-04-30T21:36:14.628Z"
   },
   {
    "duration": 6171,
    "start_time": "2022-04-30T21:36:26.784Z"
   },
   {
    "duration": 10,
    "start_time": "2022-04-30T21:36:32.957Z"
   },
   {
    "duration": 6314,
    "start_time": "2022-04-30T21:40:19.304Z"
   },
   {
    "duration": 59726,
    "start_time": "2022-04-30T21:40:40.869Z"
   },
   {
    "duration": 59473,
    "start_time": "2022-04-30T21:41:41.131Z"
   },
   {
    "duration": 119307,
    "start_time": "2022-04-30T22:00:22.813Z"
   },
   {
    "duration": 8,
    "start_time": "2022-04-30T22:02:59.446Z"
   },
   {
    "duration": 2906,
    "start_time": "2022-04-30T22:18:40.884Z"
   },
   {
    "duration": 2126,
    "start_time": "2022-04-30T22:22:00.198Z"
   },
   {
    "duration": 3128,
    "start_time": "2022-04-30T22:22:28.240Z"
   },
   {
    "duration": 3022,
    "start_time": "2022-04-30T22:22:37.074Z"
   },
   {
    "duration": 1489,
    "start_time": "2022-04-30T22:22:55.079Z"
   },
   {
    "duration": 1621,
    "start_time": "2022-04-30T22:23:59.579Z"
   },
   {
    "duration": 4,
    "start_time": "2022-04-30T22:24:01.202Z"
   },
   {
    "duration": 715,
    "start_time": "2022-04-30T22:24:01.208Z"
   },
   {
    "duration": 879,
    "start_time": "2022-04-30T22:24:01.925Z"
   },
   {
    "duration": 16,
    "start_time": "2022-04-30T22:24:02.806Z"
   },
   {
    "duration": 9,
    "start_time": "2022-04-30T22:24:02.824Z"
   },
   {
    "duration": 8,
    "start_time": "2022-04-30T22:24:02.834Z"
   },
   {
    "duration": 13,
    "start_time": "2022-04-30T22:24:02.844Z"
   },
   {
    "duration": 15,
    "start_time": "2022-04-30T22:24:02.858Z"
   },
   {
    "duration": 62,
    "start_time": "2022-04-30T22:24:02.876Z"
   },
   {
    "duration": 7,
    "start_time": "2022-04-30T22:24:02.940Z"
   },
   {
    "duration": 11,
    "start_time": "2022-04-30T22:24:02.949Z"
   },
   {
    "duration": 12,
    "start_time": "2022-04-30T22:24:02.961Z"
   },
   {
    "duration": 8,
    "start_time": "2022-04-30T22:24:02.975Z"
   },
   {
    "duration": 39,
    "start_time": "2022-04-30T22:24:02.984Z"
   },
   {
    "duration": 8,
    "start_time": "2022-04-30T22:24:03.025Z"
   },
   {
    "duration": 14,
    "start_time": "2022-04-30T22:24:03.034Z"
   },
   {
    "duration": 5,
    "start_time": "2022-04-30T22:24:03.050Z"
   },
   {
    "duration": 11,
    "start_time": "2022-04-30T22:24:03.056Z"
   },
   {
    "duration": 16,
    "start_time": "2022-04-30T22:24:03.068Z"
   },
   {
    "duration": 1345,
    "start_time": "2022-04-30T22:24:03.086Z"
   },
   {
    "duration": 17,
    "start_time": "2022-04-30T22:24:04.433Z"
   },
   {
    "duration": 2097,
    "start_time": "2022-04-30T22:24:04.452Z"
   },
   {
    "duration": 18,
    "start_time": "2022-04-30T22:24:06.550Z"
   },
   {
    "duration": 1823,
    "start_time": "2022-04-30T22:24:06.569Z"
   },
   {
    "duration": 89,
    "start_time": "2022-04-30T22:24:08.394Z"
   },
   {
    "duration": 4673,
    "start_time": "2022-04-30T22:24:08.485Z"
   },
   {
    "duration": 13,
    "start_time": "2022-04-30T22:24:13.162Z"
   },
   {
    "duration": 22,
    "start_time": "2022-04-30T22:24:13.176Z"
   },
   {
    "duration": 2819,
    "start_time": "2022-04-30T22:24:13.222Z"
   },
   {
    "duration": 6,
    "start_time": "2022-04-30T22:24:16.043Z"
   },
   {
    "duration": 7,
    "start_time": "2022-04-30T22:24:16.051Z"
   },
   {
    "duration": 4,
    "start_time": "2022-04-30T22:24:16.060Z"
   },
   {
    "duration": 4,
    "start_time": "2022-04-30T22:24:16.066Z"
   },
   {
    "duration": 5351,
    "start_time": "2022-04-30T22:24:16.072Z"
   },
   {
    "duration": 11544,
    "start_time": "2022-04-30T22:24:21.426Z"
   },
   {
    "duration": 119565,
    "start_time": "2022-04-30T22:24:32.971Z"
   },
   {
    "duration": 1492,
    "start_time": "2022-04-30T22:26:32.538Z"
   },
   {
    "duration": 0,
    "start_time": "2022-04-30T22:26:34.032Z"
   },
   {
    "duration": 9,
    "start_time": "2022-05-01T01:01:03.709Z"
   },
   {
    "duration": 4,
    "start_time": "2022-05-01T01:02:27.028Z"
   },
   {
    "duration": 4,
    "start_time": "2022-05-01T01:02:45.271Z"
   },
   {
    "duration": 4,
    "start_time": "2022-05-01T01:04:12.599Z"
   },
   {
    "duration": 4,
    "start_time": "2022-05-01T01:04:25.001Z"
   },
   {
    "duration": 5,
    "start_time": "2022-05-01T01:05:16.667Z"
   },
   {
    "duration": 2524,
    "start_time": "2022-05-01T01:05:17.466Z"
   },
   {
    "duration": 9,
    "start_time": "2022-05-01T01:05:31.243Z"
   },
   {
    "duration": 1660,
    "start_time": "2022-05-01T01:09:30.591Z"
   },
   {
    "duration": 4,
    "start_time": "2022-05-01T01:09:32.253Z"
   },
   {
    "duration": 728,
    "start_time": "2022-05-01T01:09:32.259Z"
   },
   {
    "duration": 974,
    "start_time": "2022-05-01T01:09:32.990Z"
   },
   {
    "duration": 9,
    "start_time": "2022-05-01T01:09:33.965Z"
   },
   {
    "duration": 15,
    "start_time": "2022-05-01T01:09:33.976Z"
   },
   {
    "duration": 14,
    "start_time": "2022-05-01T01:09:33.992Z"
   },
   {
    "duration": 20,
    "start_time": "2022-05-01T01:09:34.007Z"
   },
   {
    "duration": 15,
    "start_time": "2022-05-01T01:09:34.029Z"
   },
   {
    "duration": 29,
    "start_time": "2022-05-01T01:09:34.047Z"
   },
   {
    "duration": 13,
    "start_time": "2022-05-01T01:09:34.078Z"
   },
   {
    "duration": 69,
    "start_time": "2022-05-01T01:09:34.092Z"
   },
   {
    "duration": 32,
    "start_time": "2022-05-01T01:09:34.164Z"
   },
   {
    "duration": 14,
    "start_time": "2022-05-01T01:09:34.198Z"
   },
   {
    "duration": 27,
    "start_time": "2022-05-01T01:09:34.213Z"
   },
   {
    "duration": 19,
    "start_time": "2022-05-01T01:09:34.241Z"
   },
   {
    "duration": 24,
    "start_time": "2022-05-01T01:09:34.262Z"
   },
   {
    "duration": 15,
    "start_time": "2022-05-01T01:09:34.288Z"
   },
   {
    "duration": 24,
    "start_time": "2022-05-01T01:09:34.304Z"
   },
   {
    "duration": 16,
    "start_time": "2022-05-01T01:09:34.330Z"
   },
   {
    "duration": 14,
    "start_time": "2022-05-01T01:09:34.348Z"
   },
   {
    "duration": 19,
    "start_time": "2022-05-01T01:09:34.364Z"
   },
   {
    "duration": 1279,
    "start_time": "2022-05-01T01:09:34.384Z"
   },
   {
    "duration": 19,
    "start_time": "2022-05-01T01:09:35.665Z"
   },
   {
    "duration": 1912,
    "start_time": "2022-05-01T01:09:35.686Z"
   },
   {
    "duration": 28,
    "start_time": "2022-05-01T01:09:37.601Z"
   },
   {
    "duration": 1696,
    "start_time": "2022-05-01T01:09:37.631Z"
   },
   {
    "duration": 77,
    "start_time": "2022-05-01T01:09:39.332Z"
   },
   {
    "duration": 6485,
    "start_time": "2022-05-01T01:09:39.411Z"
   },
   {
    "duration": 25,
    "start_time": "2022-05-01T01:09:45.898Z"
   },
   {
    "duration": 19,
    "start_time": "2022-05-01T01:09:45.925Z"
   },
   {
    "duration": 2529,
    "start_time": "2022-05-01T01:09:45.945Z"
   },
   {
    "duration": 10,
    "start_time": "2022-05-01T01:09:48.476Z"
   },
   {
    "duration": 4,
    "start_time": "2022-05-01T01:09:48.488Z"
   },
   {
    "duration": 7,
    "start_time": "2022-05-01T01:09:48.494Z"
   },
   {
    "duration": 4,
    "start_time": "2022-05-01T01:09:48.503Z"
   },
   {
    "duration": 2819,
    "start_time": "2022-05-01T01:09:48.508Z"
   },
   {
    "duration": 9722,
    "start_time": "2022-05-01T01:09:51.329Z"
   },
   {
    "duration": 72573,
    "start_time": "2022-05-01T01:10:01.053Z"
   },
   {
    "duration": 2590,
    "start_time": "2022-05-01T01:11:13.628Z"
   },
   {
    "duration": 5,
    "start_time": "2022-05-01T01:11:16.221Z"
   },
   {
    "duration": 5,
    "start_time": "2022-05-01T01:11:16.228Z"
   },
   {
    "duration": 9,
    "start_time": "2022-05-01T01:11:16.234Z"
   },
   {
    "duration": 7296,
    "start_time": "2022-05-01T01:13:10.643Z"
   },
   {
    "duration": 45625470,
    "start_time": "2022-05-01T01:15:22.233Z"
   },
   {
    "duration": 8645,
    "start_time": "2022-05-01T16:28:34.254Z"
   },
   {
    "duration": 11,
    "start_time": "2022-05-01T16:29:23.738Z"
   },
   {
    "duration": 8743,
    "start_time": "2022-05-01T16:30:07.970Z"
   },
   {
    "duration": 17,
    "start_time": "2022-05-01T16:30:16.715Z"
   },
   {
    "duration": 6154,
    "start_time": "2022-05-01T16:30:37.668Z"
   },
   {
    "duration": 5360,
    "start_time": "2022-05-01T16:31:02.597Z"
   },
   {
    "duration": 6623,
    "start_time": "2022-05-01T16:31:18.478Z"
   },
   {
    "duration": 7515,
    "start_time": "2022-05-01T16:31:30.074Z"
   },
   {
    "duration": 25213,
    "start_time": "2022-05-01T16:32:05.336Z"
   },
   {
    "duration": 33867,
    "start_time": "2022-05-01T16:35:30.922Z"
   },
   {
    "duration": 8448,
    "start_time": "2022-05-01T16:39:47.373Z"
   },
   {
    "duration": 7467,
    "start_time": "2022-05-01T16:40:08.034Z"
   },
   {
    "duration": 5925,
    "start_time": "2022-05-01T16:48:54.118Z"
   },
   {
    "duration": 9402,
    "start_time": "2022-05-01T16:49:12.078Z"
   },
   {
    "duration": 8,
    "start_time": "2022-05-01T17:12:15.279Z"
   },
   {
    "duration": 13,
    "start_time": "2022-05-01T17:26:17.984Z"
   },
   {
    "duration": 7,
    "start_time": "2022-05-01T17:42:44.099Z"
   },
   {
    "duration": 5,
    "start_time": "2022-05-01T17:42:48.938Z"
   },
   {
    "duration": 2020,
    "start_time": "2022-05-01T17:43:04.141Z"
   },
   {
    "duration": 4,
    "start_time": "2022-05-01T17:43:06.163Z"
   },
   {
    "duration": 980,
    "start_time": "2022-05-01T17:43:06.169Z"
   },
   {
    "duration": 982,
    "start_time": "2022-05-01T17:43:07.151Z"
   },
   {
    "duration": 11,
    "start_time": "2022-05-01T17:43:08.135Z"
   },
   {
    "duration": 20,
    "start_time": "2022-05-01T17:43:08.147Z"
   },
   {
    "duration": 20,
    "start_time": "2022-05-01T17:43:08.169Z"
   },
   {
    "duration": 17,
    "start_time": "2022-05-01T17:43:08.190Z"
   },
   {
    "duration": 26,
    "start_time": "2022-05-01T17:43:08.209Z"
   },
   {
    "duration": 25,
    "start_time": "2022-05-01T17:43:08.238Z"
   },
   {
    "duration": 16,
    "start_time": "2022-05-01T17:43:08.265Z"
   },
   {
    "duration": 37,
    "start_time": "2022-05-01T17:43:08.283Z"
   },
   {
    "duration": 6,
    "start_time": "2022-05-01T17:43:08.322Z"
   },
   {
    "duration": 24,
    "start_time": "2022-05-01T17:43:08.330Z"
   },
   {
    "duration": 25,
    "start_time": "2022-05-01T17:43:08.356Z"
   },
   {
    "duration": 13,
    "start_time": "2022-05-01T17:43:08.422Z"
   },
   {
    "duration": 17,
    "start_time": "2022-05-01T17:43:08.437Z"
   },
   {
    "duration": 67,
    "start_time": "2022-05-01T17:43:08.456Z"
   },
   {
    "duration": 12,
    "start_time": "2022-05-01T17:43:08.525Z"
   },
   {
    "duration": 19,
    "start_time": "2022-05-01T17:43:08.539Z"
   },
   {
    "duration": 7,
    "start_time": "2022-05-01T17:43:08.560Z"
   },
   {
    "duration": 2170,
    "start_time": "2022-05-01T17:43:08.569Z"
   },
   {
    "duration": 19,
    "start_time": "2022-05-01T17:43:10.741Z"
   },
   {
    "duration": 2061,
    "start_time": "2022-05-01T17:43:10.761Z"
   },
   {
    "duration": 19,
    "start_time": "2022-05-01T17:43:12.823Z"
   },
   {
    "duration": 1731,
    "start_time": "2022-05-01T17:43:12.843Z"
   },
   {
    "duration": 92,
    "start_time": "2022-05-01T17:43:14.576Z"
   },
   {
    "duration": 4814,
    "start_time": "2022-05-01T17:43:14.672Z"
   },
   {
    "duration": 15,
    "start_time": "2022-05-01T17:43:19.488Z"
   },
   {
    "duration": 33,
    "start_time": "2022-05-01T17:43:19.505Z"
   },
   {
    "duration": 2855,
    "start_time": "2022-05-01T17:43:19.540Z"
   },
   {
    "duration": 8,
    "start_time": "2022-05-01T17:43:22.396Z"
   },
   {
    "duration": 6,
    "start_time": "2022-05-01T17:43:22.406Z"
   },
   {
    "duration": 2,
    "start_time": "2022-05-01T17:43:22.423Z"
   },
   {
    "duration": 5,
    "start_time": "2022-05-01T17:43:22.427Z"
   },
   {
    "duration": 2895,
    "start_time": "2022-05-01T17:43:22.434Z"
   },
   {
    "duration": 9838,
    "start_time": "2022-05-01T17:43:25.331Z"
   },
   {
    "duration": 21787,
    "start_time": "2022-05-01T17:43:35.171Z"
   },
   {
    "duration": 5599,
    "start_time": "2022-05-01T17:43:56.960Z"
   },
   {
    "duration": 4,
    "start_time": "2022-05-01T17:44:02.561Z"
   },
   {
    "duration": 7,
    "start_time": "2022-05-01T17:44:02.566Z"
   },
   {
    "duration": 10,
    "start_time": "2022-05-01T17:44:02.575Z"
   },
   {
    "duration": 1742,
    "start_time": "2022-05-01T17:56:09.883Z"
   },
   {
    "duration": 5,
    "start_time": "2022-05-01T17:56:11.627Z"
   },
   {
    "duration": 727,
    "start_time": "2022-05-01T17:56:11.633Z"
   },
   {
    "duration": 909,
    "start_time": "2022-05-01T17:56:12.362Z"
   },
   {
    "duration": 10,
    "start_time": "2022-05-01T17:56:13.272Z"
   },
   {
    "duration": 11,
    "start_time": "2022-05-01T17:56:13.284Z"
   },
   {
    "duration": 35,
    "start_time": "2022-05-01T17:56:13.297Z"
   },
   {
    "duration": 358,
    "start_time": "2022-05-01T17:56:13.335Z"
   },
   {
    "duration": 0,
    "start_time": "2022-05-01T17:56:13.696Z"
   },
   {
    "duration": 0,
    "start_time": "2022-05-01T17:56:13.697Z"
   },
   {
    "duration": 0,
    "start_time": "2022-05-01T17:56:13.698Z"
   },
   {
    "duration": 0,
    "start_time": "2022-05-01T17:56:13.699Z"
   },
   {
    "duration": 0,
    "start_time": "2022-05-01T17:56:13.700Z"
   },
   {
    "duration": 0,
    "start_time": "2022-05-01T17:56:13.701Z"
   },
   {
    "duration": 0,
    "start_time": "2022-05-01T17:56:13.702Z"
   },
   {
    "duration": 0,
    "start_time": "2022-05-01T17:56:13.703Z"
   },
   {
    "duration": 0,
    "start_time": "2022-05-01T17:56:13.704Z"
   },
   {
    "duration": 0,
    "start_time": "2022-05-01T17:56:13.705Z"
   },
   {
    "duration": 0,
    "start_time": "2022-05-01T17:56:13.706Z"
   },
   {
    "duration": 0,
    "start_time": "2022-05-01T17:56:13.707Z"
   },
   {
    "duration": 0,
    "start_time": "2022-05-01T17:56:13.708Z"
   },
   {
    "duration": 0,
    "start_time": "2022-05-01T17:56:13.709Z"
   },
   {
    "duration": 0,
    "start_time": "2022-05-01T17:56:13.710Z"
   },
   {
    "duration": 0,
    "start_time": "2022-05-01T17:56:13.711Z"
   },
   {
    "duration": 0,
    "start_time": "2022-05-01T17:56:13.712Z"
   },
   {
    "duration": 0,
    "start_time": "2022-05-01T17:56:13.713Z"
   },
   {
    "duration": 0,
    "start_time": "2022-05-01T17:56:13.714Z"
   },
   {
    "duration": 0,
    "start_time": "2022-05-01T17:56:13.715Z"
   },
   {
    "duration": 0,
    "start_time": "2022-05-01T17:56:13.716Z"
   },
   {
    "duration": 0,
    "start_time": "2022-05-01T17:56:13.717Z"
   },
   {
    "duration": 0,
    "start_time": "2022-05-01T17:56:13.718Z"
   },
   {
    "duration": 0,
    "start_time": "2022-05-01T17:56:13.719Z"
   },
   {
    "duration": 0,
    "start_time": "2022-05-01T17:56:13.720Z"
   },
   {
    "duration": 0,
    "start_time": "2022-05-01T17:56:13.721Z"
   },
   {
    "duration": 0,
    "start_time": "2022-05-01T17:56:13.722Z"
   },
   {
    "duration": 0,
    "start_time": "2022-05-01T17:56:13.723Z"
   },
   {
    "duration": 0,
    "start_time": "2022-05-01T17:56:13.724Z"
   },
   {
    "duration": 0,
    "start_time": "2022-05-01T17:56:13.725Z"
   },
   {
    "duration": 0,
    "start_time": "2022-05-01T17:56:13.726Z"
   },
   {
    "duration": 0,
    "start_time": "2022-05-01T17:56:13.727Z"
   },
   {
    "duration": 0,
    "start_time": "2022-05-01T17:56:13.728Z"
   },
   {
    "duration": 57,
    "start_time": "2022-05-01T17:57:01.474Z"
   },
   {
    "duration": 32,
    "start_time": "2022-05-01T17:57:03.282Z"
   },
   {
    "duration": 11,
    "start_time": "2022-05-01T17:57:04.097Z"
   },
   {
    "duration": 11,
    "start_time": "2022-05-01T17:57:05.713Z"
   },
   {
    "duration": 1627,
    "start_time": "2022-05-01T18:09:45.715Z"
   },
   {
    "duration": 5,
    "start_time": "2022-05-01T18:09:47.344Z"
   },
   {
    "duration": 691,
    "start_time": "2022-05-01T18:09:47.351Z"
   },
   {
    "duration": 891,
    "start_time": "2022-05-01T18:09:48.044Z"
   },
   {
    "duration": 9,
    "start_time": "2022-05-01T18:09:48.938Z"
   },
   {
    "duration": 12,
    "start_time": "2022-05-01T18:09:48.948Z"
   },
   {
    "duration": 34,
    "start_time": "2022-05-01T18:09:48.962Z"
   },
   {
    "duration": 7,
    "start_time": "2022-05-01T18:09:48.998Z"
   },
   {
    "duration": 26,
    "start_time": "2022-05-01T18:09:49.006Z"
   },
   {
    "duration": 8,
    "start_time": "2022-05-01T18:09:49.034Z"
   },
   {
    "duration": 71,
    "start_time": "2022-05-01T18:09:49.043Z"
   },
   {
    "duration": 107,
    "start_time": "2022-05-01T18:09:49.116Z"
   },
   {
    "duration": 0,
    "start_time": "2022-05-01T18:09:49.226Z"
   },
   {
    "duration": 0,
    "start_time": "2022-05-01T18:09:49.227Z"
   },
   {
    "duration": 0,
    "start_time": "2022-05-01T18:09:49.228Z"
   },
   {
    "duration": 0,
    "start_time": "2022-05-01T18:09:49.229Z"
   },
   {
    "duration": 0,
    "start_time": "2022-05-01T18:09:49.230Z"
   },
   {
    "duration": 0,
    "start_time": "2022-05-01T18:09:49.231Z"
   },
   {
    "duration": 0,
    "start_time": "2022-05-01T18:09:49.232Z"
   },
   {
    "duration": 0,
    "start_time": "2022-05-01T18:09:49.233Z"
   },
   {
    "duration": 0,
    "start_time": "2022-05-01T18:09:49.234Z"
   },
   {
    "duration": 0,
    "start_time": "2022-05-01T18:09:49.235Z"
   },
   {
    "duration": 0,
    "start_time": "2022-05-01T18:09:49.237Z"
   },
   {
    "duration": 0,
    "start_time": "2022-05-01T18:09:49.237Z"
   },
   {
    "duration": 0,
    "start_time": "2022-05-01T18:09:49.238Z"
   },
   {
    "duration": 0,
    "start_time": "2022-05-01T18:09:49.239Z"
   },
   {
    "duration": 0,
    "start_time": "2022-05-01T18:09:49.240Z"
   },
   {
    "duration": 0,
    "start_time": "2022-05-01T18:09:49.241Z"
   },
   {
    "duration": 0,
    "start_time": "2022-05-01T18:09:49.243Z"
   },
   {
    "duration": 0,
    "start_time": "2022-05-01T18:09:49.243Z"
   },
   {
    "duration": 0,
    "start_time": "2022-05-01T18:09:49.244Z"
   },
   {
    "duration": 0,
    "start_time": "2022-05-01T18:09:49.245Z"
   },
   {
    "duration": 0,
    "start_time": "2022-05-01T18:09:49.246Z"
   },
   {
    "duration": 0,
    "start_time": "2022-05-01T18:09:49.247Z"
   },
   {
    "duration": 0,
    "start_time": "2022-05-01T18:09:49.248Z"
   },
   {
    "duration": 0,
    "start_time": "2022-05-01T18:09:49.249Z"
   },
   {
    "duration": 0,
    "start_time": "2022-05-01T18:09:49.250Z"
   },
   {
    "duration": 0,
    "start_time": "2022-05-01T18:09:49.251Z"
   },
   {
    "duration": 0,
    "start_time": "2022-05-01T18:09:49.252Z"
   },
   {
    "duration": 0,
    "start_time": "2022-05-01T18:09:49.253Z"
   },
   {
    "duration": 0,
    "start_time": "2022-05-01T18:09:49.253Z"
   },
   {
    "duration": 0,
    "start_time": "2022-05-01T18:09:49.254Z"
   },
   {
    "duration": 1658,
    "start_time": "2022-05-01T18:15:59.225Z"
   },
   {
    "duration": 4,
    "start_time": "2022-05-01T18:16:00.885Z"
   },
   {
    "duration": 768,
    "start_time": "2022-05-01T18:16:00.891Z"
   },
   {
    "duration": 903,
    "start_time": "2022-05-01T18:16:01.660Z"
   },
   {
    "duration": 9,
    "start_time": "2022-05-01T18:16:02.566Z"
   },
   {
    "duration": 10,
    "start_time": "2022-05-01T18:16:02.577Z"
   },
   {
    "duration": 46,
    "start_time": "2022-05-01T18:16:02.589Z"
   },
   {
    "duration": 3,
    "start_time": "2022-05-01T18:16:02.637Z"
   },
   {
    "duration": 23,
    "start_time": "2022-05-01T18:16:02.642Z"
   },
   {
    "duration": 2,
    "start_time": "2022-05-01T18:16:02.667Z"
   },
   {
    "duration": 63,
    "start_time": "2022-05-01T18:16:02.671Z"
   },
   {
    "duration": 8,
    "start_time": "2022-05-01T18:16:02.735Z"
   },
   {
    "duration": 14,
    "start_time": "2022-05-01T18:16:02.744Z"
   },
   {
    "duration": 20,
    "start_time": "2022-05-01T18:16:02.761Z"
   },
   {
    "duration": 25,
    "start_time": "2022-05-01T18:16:02.783Z"
   },
   {
    "duration": 12,
    "start_time": "2022-05-01T18:16:02.810Z"
   },
   {
    "duration": 14,
    "start_time": "2022-05-01T18:16:02.825Z"
   },
   {
    "duration": 10,
    "start_time": "2022-05-01T18:16:02.841Z"
   },
   {
    "duration": 180,
    "start_time": "2022-05-01T18:16:02.853Z"
   },
   {
    "duration": 0,
    "start_time": "2022-05-01T18:16:03.035Z"
   },
   {
    "duration": 0,
    "start_time": "2022-05-01T18:16:03.037Z"
   },
   {
    "duration": 0,
    "start_time": "2022-05-01T18:16:03.039Z"
   },
   {
    "duration": 0,
    "start_time": "2022-05-01T18:16:03.040Z"
   },
   {
    "duration": 0,
    "start_time": "2022-05-01T18:16:03.042Z"
   },
   {
    "duration": 0,
    "start_time": "2022-05-01T18:16:03.043Z"
   },
   {
    "duration": 0,
    "start_time": "2022-05-01T18:16:03.045Z"
   },
   {
    "duration": 0,
    "start_time": "2022-05-01T18:16:03.047Z"
   },
   {
    "duration": 0,
    "start_time": "2022-05-01T18:16:03.048Z"
   },
   {
    "duration": 0,
    "start_time": "2022-05-01T18:16:03.049Z"
   },
   {
    "duration": 0,
    "start_time": "2022-05-01T18:16:03.051Z"
   },
   {
    "duration": 0,
    "start_time": "2022-05-01T18:16:03.052Z"
   },
   {
    "duration": 0,
    "start_time": "2022-05-01T18:16:03.054Z"
   },
   {
    "duration": 0,
    "start_time": "2022-05-01T18:16:03.055Z"
   },
   {
    "duration": 0,
    "start_time": "2022-05-01T18:16:03.057Z"
   },
   {
    "duration": 0,
    "start_time": "2022-05-01T18:16:03.058Z"
   },
   {
    "duration": 0,
    "start_time": "2022-05-01T18:16:03.060Z"
   },
   {
    "duration": 0,
    "start_time": "2022-05-01T18:16:03.061Z"
   },
   {
    "duration": 0,
    "start_time": "2022-05-01T18:16:03.062Z"
   },
   {
    "duration": 0,
    "start_time": "2022-05-01T18:16:03.063Z"
   },
   {
    "duration": 0,
    "start_time": "2022-05-01T18:16:03.064Z"
   },
   {
    "duration": 0,
    "start_time": "2022-05-01T18:16:03.066Z"
   },
   {
    "duration": 0,
    "start_time": "2022-05-01T18:16:03.067Z"
   },
   {
    "duration": 1634,
    "start_time": "2022-05-01T18:16:52.212Z"
   },
   {
    "duration": 4,
    "start_time": "2022-05-01T18:16:53.847Z"
   },
   {
    "duration": 704,
    "start_time": "2022-05-01T18:16:53.853Z"
   },
   {
    "duration": 864,
    "start_time": "2022-05-01T18:16:54.558Z"
   },
   {
    "duration": 9,
    "start_time": "2022-05-01T18:16:55.424Z"
   },
   {
    "duration": 18,
    "start_time": "2022-05-01T18:16:55.434Z"
   },
   {
    "duration": 39,
    "start_time": "2022-05-01T18:16:55.454Z"
   },
   {
    "duration": 15,
    "start_time": "2022-05-01T18:16:55.495Z"
   },
   {
    "duration": 22,
    "start_time": "2022-05-01T18:16:55.512Z"
   },
   {
    "duration": 7,
    "start_time": "2022-05-01T18:16:55.536Z"
   },
   {
    "duration": 58,
    "start_time": "2022-05-01T18:16:55.545Z"
   },
   {
    "duration": 7,
    "start_time": "2022-05-01T18:16:55.605Z"
   },
   {
    "duration": 22,
    "start_time": "2022-05-01T18:16:55.613Z"
   },
   {
    "duration": 13,
    "start_time": "2022-05-01T18:16:55.638Z"
   },
   {
    "duration": 21,
    "start_time": "2022-05-01T18:16:55.653Z"
   },
   {
    "duration": 7,
    "start_time": "2022-05-01T18:16:55.676Z"
   },
   {
    "duration": 36,
    "start_time": "2022-05-01T18:16:55.685Z"
   },
   {
    "duration": 25,
    "start_time": "2022-05-01T18:16:55.723Z"
   },
   {
    "duration": 114,
    "start_time": "2022-05-01T18:16:55.749Z"
   },
   {
    "duration": 0,
    "start_time": "2022-05-01T18:16:55.865Z"
   },
   {
    "duration": 0,
    "start_time": "2022-05-01T18:16:55.866Z"
   },
   {
    "duration": 0,
    "start_time": "2022-05-01T18:16:55.867Z"
   },
   {
    "duration": 0,
    "start_time": "2022-05-01T18:16:55.867Z"
   },
   {
    "duration": 0,
    "start_time": "2022-05-01T18:16:55.868Z"
   },
   {
    "duration": 0,
    "start_time": "2022-05-01T18:16:55.869Z"
   },
   {
    "duration": 0,
    "start_time": "2022-05-01T18:16:55.870Z"
   },
   {
    "duration": 0,
    "start_time": "2022-05-01T18:16:55.871Z"
   },
   {
    "duration": 0,
    "start_time": "2022-05-01T18:16:55.872Z"
   },
   {
    "duration": 0,
    "start_time": "2022-05-01T18:16:55.873Z"
   },
   {
    "duration": 0,
    "start_time": "2022-05-01T18:16:55.874Z"
   },
   {
    "duration": 0,
    "start_time": "2022-05-01T18:16:55.875Z"
   },
   {
    "duration": 0,
    "start_time": "2022-05-01T18:16:55.876Z"
   },
   {
    "duration": 0,
    "start_time": "2022-05-01T18:16:55.877Z"
   },
   {
    "duration": 0,
    "start_time": "2022-05-01T18:16:55.877Z"
   },
   {
    "duration": 0,
    "start_time": "2022-05-01T18:16:55.879Z"
   },
   {
    "duration": 0,
    "start_time": "2022-05-01T18:16:55.879Z"
   },
   {
    "duration": 0,
    "start_time": "2022-05-01T18:16:55.881Z"
   },
   {
    "duration": 0,
    "start_time": "2022-05-01T18:16:55.881Z"
   },
   {
    "duration": 0,
    "start_time": "2022-05-01T18:16:55.883Z"
   },
   {
    "duration": 0,
    "start_time": "2022-05-01T18:16:55.884Z"
   },
   {
    "duration": 0,
    "start_time": "2022-05-01T18:16:55.885Z"
   },
   {
    "duration": 0,
    "start_time": "2022-05-01T18:16:55.886Z"
   },
   {
    "duration": 13,
    "start_time": "2022-05-01T18:19:16.180Z"
   },
   {
    "duration": 11,
    "start_time": "2022-05-01T18:19:25.669Z"
   },
   {
    "duration": 1635,
    "start_time": "2022-05-01T18:19:32.949Z"
   },
   {
    "duration": 4,
    "start_time": "2022-05-01T18:19:34.586Z"
   },
   {
    "duration": 697,
    "start_time": "2022-05-01T18:19:34.591Z"
   },
   {
    "duration": 930,
    "start_time": "2022-05-01T18:19:35.290Z"
   },
   {
    "duration": 10,
    "start_time": "2022-05-01T18:19:36.224Z"
   },
   {
    "duration": 12,
    "start_time": "2022-05-01T18:19:36.236Z"
   },
   {
    "duration": 26,
    "start_time": "2022-05-01T18:19:36.250Z"
   },
   {
    "duration": 2,
    "start_time": "2022-05-01T18:19:36.278Z"
   },
   {
    "duration": 42,
    "start_time": "2022-05-01T18:19:36.282Z"
   },
   {
    "duration": 3,
    "start_time": "2022-05-01T18:19:36.326Z"
   },
   {
    "duration": 66,
    "start_time": "2022-05-01T18:19:36.330Z"
   },
   {
    "duration": 8,
    "start_time": "2022-05-01T18:19:36.397Z"
   },
   {
    "duration": 9,
    "start_time": "2022-05-01T18:19:36.423Z"
   },
   {
    "duration": 9,
    "start_time": "2022-05-01T18:19:36.436Z"
   },
   {
    "duration": 10,
    "start_time": "2022-05-01T18:19:36.447Z"
   },
   {
    "duration": 7,
    "start_time": "2022-05-01T18:19:36.459Z"
   },
   {
    "duration": 8,
    "start_time": "2022-05-01T18:19:36.468Z"
   },
   {
    "duration": 7,
    "start_time": "2022-05-01T18:19:36.478Z"
   },
   {
    "duration": 8,
    "start_time": "2022-05-01T18:19:36.523Z"
   },
   {
    "duration": 5,
    "start_time": "2022-05-01T18:19:36.533Z"
   },
   {
    "duration": 9,
    "start_time": "2022-05-01T18:19:36.540Z"
   },
   {
    "duration": 1300,
    "start_time": "2022-05-01T18:19:36.551Z"
   },
   {
    "duration": 19,
    "start_time": "2022-05-01T18:19:37.853Z"
   },
   {
    "duration": 3394,
    "start_time": "2022-05-01T18:19:37.873Z"
   },
   {
    "duration": 21,
    "start_time": "2022-05-01T18:19:41.270Z"
   },
   {
    "duration": 1867,
    "start_time": "2022-05-01T18:19:41.293Z"
   },
   {
    "duration": 92,
    "start_time": "2022-05-01T18:19:43.162Z"
   },
   {
    "duration": 5234,
    "start_time": "2022-05-01T18:19:43.256Z"
   },
   {
    "duration": 12,
    "start_time": "2022-05-01T18:19:48.492Z"
   },
   {
    "duration": 33,
    "start_time": "2022-05-01T18:19:48.506Z"
   },
   {
    "duration": 3015,
    "start_time": "2022-05-01T18:19:48.541Z"
   },
   {
    "duration": 7,
    "start_time": "2022-05-01T18:19:51.557Z"
   },
   {
    "duration": 7,
    "start_time": "2022-05-01T18:19:51.566Z"
   },
   {
    "duration": 7,
    "start_time": "2022-05-01T18:19:51.575Z"
   },
   {
    "duration": 8,
    "start_time": "2022-05-01T18:19:51.583Z"
   },
   {
    "duration": 2831,
    "start_time": "2022-05-01T18:19:51.593Z"
   },
   {
    "duration": 10315,
    "start_time": "2022-05-01T18:19:54.426Z"
   },
   {
    "duration": 23530,
    "start_time": "2022-05-01T18:20:04.743Z"
   },
   {
    "duration": 5565,
    "start_time": "2022-05-01T18:20:28.275Z"
   },
   {
    "duration": 4,
    "start_time": "2022-05-01T18:20:33.841Z"
   },
   {
    "duration": 18,
    "start_time": "2022-05-01T18:20:33.849Z"
   },
   {
    "duration": 14,
    "start_time": "2022-05-01T18:20:33.868Z"
   },
   {
    "duration": 1618,
    "start_time": "2022-05-01T18:24:54.834Z"
   },
   {
    "duration": 5,
    "start_time": "2022-05-01T18:24:56.454Z"
   },
   {
    "duration": 708,
    "start_time": "2022-05-01T18:24:56.460Z"
   },
   {
    "duration": 897,
    "start_time": "2022-05-01T18:24:57.170Z"
   },
   {
    "duration": 10,
    "start_time": "2022-05-01T18:24:58.069Z"
   },
   {
    "duration": 10,
    "start_time": "2022-05-01T18:24:58.082Z"
   },
   {
    "duration": 46,
    "start_time": "2022-05-01T18:24:58.093Z"
   },
   {
    "duration": 3,
    "start_time": "2022-05-01T18:24:58.141Z"
   },
   {
    "duration": 13,
    "start_time": "2022-05-01T18:24:58.146Z"
   },
   {
    "duration": 3,
    "start_time": "2022-05-01T18:24:58.161Z"
   },
   {
    "duration": 89,
    "start_time": "2022-05-01T18:24:58.166Z"
   },
   {
    "duration": 7,
    "start_time": "2022-05-01T18:24:58.257Z"
   },
   {
    "duration": 6,
    "start_time": "2022-05-01T18:24:58.266Z"
   },
   {
    "duration": 13,
    "start_time": "2022-05-01T18:24:58.275Z"
   },
   {
    "duration": 240,
    "start_time": "2022-05-01T18:24:58.290Z"
   },
   {
    "duration": 0,
    "start_time": "2022-05-01T18:24:58.532Z"
   },
   {
    "duration": 0,
    "start_time": "2022-05-01T18:24:58.534Z"
   },
   {
    "duration": 0,
    "start_time": "2022-05-01T18:24:58.536Z"
   },
   {
    "duration": 0,
    "start_time": "2022-05-01T18:24:58.537Z"
   },
   {
    "duration": 0,
    "start_time": "2022-05-01T18:24:58.538Z"
   },
   {
    "duration": 0,
    "start_time": "2022-05-01T18:24:58.540Z"
   },
   {
    "duration": 0,
    "start_time": "2022-05-01T18:24:58.541Z"
   },
   {
    "duration": 0,
    "start_time": "2022-05-01T18:24:58.543Z"
   },
   {
    "duration": 0,
    "start_time": "2022-05-01T18:24:58.544Z"
   },
   {
    "duration": 0,
    "start_time": "2022-05-01T18:24:58.545Z"
   },
   {
    "duration": 0,
    "start_time": "2022-05-01T18:24:58.547Z"
   },
   {
    "duration": 0,
    "start_time": "2022-05-01T18:24:58.548Z"
   },
   {
    "duration": 0,
    "start_time": "2022-05-01T18:24:58.550Z"
   },
   {
    "duration": 0,
    "start_time": "2022-05-01T18:24:58.552Z"
   },
   {
    "duration": 0,
    "start_time": "2022-05-01T18:24:58.554Z"
   },
   {
    "duration": 0,
    "start_time": "2022-05-01T18:24:58.555Z"
   },
   {
    "duration": 0,
    "start_time": "2022-05-01T18:24:58.556Z"
   },
   {
    "duration": 0,
    "start_time": "2022-05-01T18:24:58.558Z"
   },
   {
    "duration": 0,
    "start_time": "2022-05-01T18:24:58.560Z"
   },
   {
    "duration": 0,
    "start_time": "2022-05-01T18:24:58.561Z"
   },
   {
    "duration": 0,
    "start_time": "2022-05-01T18:24:58.562Z"
   },
   {
    "duration": 0,
    "start_time": "2022-05-01T18:24:58.564Z"
   },
   {
    "duration": 0,
    "start_time": "2022-05-01T18:24:58.565Z"
   },
   {
    "duration": 0,
    "start_time": "2022-05-01T18:24:58.566Z"
   },
   {
    "duration": 0,
    "start_time": "2022-05-01T18:24:58.568Z"
   },
   {
    "duration": 0,
    "start_time": "2022-05-01T18:24:58.569Z"
   },
   {
    "duration": 0,
    "start_time": "2022-05-01T18:24:58.624Z"
   },
   {
    "duration": 1631,
    "start_time": "2022-05-01T18:25:24.673Z"
   },
   {
    "duration": 4,
    "start_time": "2022-05-01T18:25:26.306Z"
   },
   {
    "duration": 709,
    "start_time": "2022-05-01T18:25:26.312Z"
   },
   {
    "duration": 897,
    "start_time": "2022-05-01T18:25:27.023Z"
   },
   {
    "duration": 9,
    "start_time": "2022-05-01T18:25:27.924Z"
   },
   {
    "duration": 11,
    "start_time": "2022-05-01T18:25:27.934Z"
   },
   {
    "duration": 29,
    "start_time": "2022-05-01T18:25:27.947Z"
   },
   {
    "duration": 4,
    "start_time": "2022-05-01T18:25:27.978Z"
   },
   {
    "duration": 12,
    "start_time": "2022-05-01T18:25:27.984Z"
   },
   {
    "duration": 33,
    "start_time": "2022-05-01T18:25:27.998Z"
   },
   {
    "duration": 59,
    "start_time": "2022-05-01T18:25:28.033Z"
   },
   {
    "duration": 8,
    "start_time": "2022-05-01T18:25:28.094Z"
   },
   {
    "duration": 5,
    "start_time": "2022-05-01T18:25:28.104Z"
   },
   {
    "duration": 9,
    "start_time": "2022-05-01T18:25:28.122Z"
   },
   {
    "duration": 42,
    "start_time": "2022-05-01T18:25:28.133Z"
   },
   {
    "duration": 7,
    "start_time": "2022-05-01T18:25:28.177Z"
   },
   {
    "duration": 15,
    "start_time": "2022-05-01T18:25:28.186Z"
   },
   {
    "duration": 8,
    "start_time": "2022-05-01T18:25:28.223Z"
   },
   {
    "duration": 9,
    "start_time": "2022-05-01T18:25:28.233Z"
   },
   {
    "duration": 20,
    "start_time": "2022-05-01T18:25:28.244Z"
   },
   {
    "duration": 14,
    "start_time": "2022-05-01T18:25:28.266Z"
   },
   {
    "duration": 1353,
    "start_time": "2022-05-01T18:25:28.282Z"
   },
   {
    "duration": 19,
    "start_time": "2022-05-01T18:25:29.637Z"
   },
   {
    "duration": 2219,
    "start_time": "2022-05-01T18:25:29.657Z"
   },
   {
    "duration": 21,
    "start_time": "2022-05-01T18:25:31.878Z"
   },
   {
    "duration": 2226,
    "start_time": "2022-05-01T18:25:31.901Z"
   },
   {
    "duration": 84,
    "start_time": "2022-05-01T18:25:34.129Z"
   },
   {
    "duration": 7110,
    "start_time": "2022-05-01T18:25:34.224Z"
   },
   {
    "duration": 18,
    "start_time": "2022-05-01T18:25:41.337Z"
   },
   {
    "duration": 29,
    "start_time": "2022-05-01T18:25:41.357Z"
   },
   {
    "duration": 3127,
    "start_time": "2022-05-01T18:25:41.388Z"
   },
   {
    "duration": 8,
    "start_time": "2022-05-01T18:25:44.517Z"
   },
   {
    "duration": 6,
    "start_time": "2022-05-01T18:25:44.527Z"
   },
   {
    "duration": 6,
    "start_time": "2022-05-01T18:25:44.535Z"
   },
   {
    "duration": 5,
    "start_time": "2022-05-01T18:25:44.543Z"
   },
   {
    "duration": 2781,
    "start_time": "2022-05-01T18:25:44.549Z"
   },
   {
    "duration": 9735,
    "start_time": "2022-05-01T18:25:47.332Z"
   },
   {
    "duration": 22391,
    "start_time": "2022-05-01T18:25:57.069Z"
   },
   {
    "duration": 5840,
    "start_time": "2022-05-01T18:26:19.462Z"
   },
   {
    "duration": 4,
    "start_time": "2022-05-01T18:26:25.304Z"
   },
   {
    "duration": 4,
    "start_time": "2022-05-01T18:26:25.322Z"
   },
   {
    "duration": 8,
    "start_time": "2022-05-01T18:26:25.328Z"
   },
   {
    "duration": 1621,
    "start_time": "2022-05-01T18:28:27.329Z"
   },
   {
    "duration": 4,
    "start_time": "2022-05-01T18:28:28.952Z"
   },
   {
    "duration": 739,
    "start_time": "2022-05-01T18:28:28.958Z"
   },
   {
    "duration": 940,
    "start_time": "2022-05-01T18:28:29.699Z"
   },
   {
    "duration": 10,
    "start_time": "2022-05-01T18:28:30.640Z"
   },
   {
    "duration": 21,
    "start_time": "2022-05-01T18:28:30.652Z"
   },
   {
    "duration": 49,
    "start_time": "2022-05-01T18:28:30.675Z"
   },
   {
    "duration": 7,
    "start_time": "2022-05-01T18:28:30.726Z"
   },
   {
    "duration": 40,
    "start_time": "2022-05-01T18:28:30.734Z"
   },
   {
    "duration": 14,
    "start_time": "2022-05-01T18:28:30.777Z"
   },
   {
    "duration": 67,
    "start_time": "2022-05-01T18:28:30.793Z"
   },
   {
    "duration": 8,
    "start_time": "2022-05-01T18:28:30.862Z"
   },
   {
    "duration": 24,
    "start_time": "2022-05-01T18:28:30.872Z"
   },
   {
    "duration": 21,
    "start_time": "2022-05-01T18:28:30.898Z"
   },
   {
    "duration": 65,
    "start_time": "2022-05-01T18:28:30.922Z"
   },
   {
    "duration": 8,
    "start_time": "2022-05-01T18:28:30.989Z"
   },
   {
    "duration": 26,
    "start_time": "2022-05-01T18:28:31.000Z"
   },
   {
    "duration": 17,
    "start_time": "2022-05-01T18:28:31.029Z"
   },
   {
    "duration": 14,
    "start_time": "2022-05-01T18:28:31.049Z"
   },
   {
    "duration": 11,
    "start_time": "2022-05-01T18:28:31.066Z"
   },
   {
    "duration": 17,
    "start_time": "2022-05-01T18:28:31.079Z"
   },
   {
    "duration": 2167,
    "start_time": "2022-05-01T18:28:31.100Z"
   },
   {
    "duration": 29,
    "start_time": "2022-05-01T18:28:33.270Z"
   },
   {
    "duration": 3388,
    "start_time": "2022-05-01T18:28:33.302Z"
   },
   {
    "duration": 35,
    "start_time": "2022-05-01T18:28:36.692Z"
   },
   {
    "duration": 2849,
    "start_time": "2022-05-01T18:28:36.729Z"
   },
   {
    "duration": 94,
    "start_time": "2022-05-01T18:28:39.580Z"
   },
   {
    "duration": 4959,
    "start_time": "2022-05-01T18:28:39.677Z"
   },
   {
    "duration": 13,
    "start_time": "2022-05-01T18:28:44.637Z"
   },
   {
    "duration": 22,
    "start_time": "2022-05-01T18:28:44.652Z"
   },
   {
    "duration": 2860,
    "start_time": "2022-05-01T18:28:44.676Z"
   },
   {
    "duration": 8,
    "start_time": "2022-05-01T18:28:47.538Z"
   },
   {
    "duration": 6,
    "start_time": "2022-05-01T18:28:47.547Z"
   },
   {
    "duration": 6,
    "start_time": "2022-05-01T18:28:47.554Z"
   },
   {
    "duration": 8,
    "start_time": "2022-05-01T18:28:47.562Z"
   },
   {
    "duration": 207,
    "start_time": "2022-05-01T18:28:47.572Z"
   },
   {
    "duration": 69,
    "start_time": "2022-05-01T18:28:47.782Z"
   },
   {
    "duration": 86,
    "start_time": "2022-05-01T18:28:47.854Z"
   },
   {
    "duration": 347,
    "start_time": "2022-05-01T18:28:47.942Z"
   },
   {
    "duration": 0,
    "start_time": "2022-05-01T18:28:48.291Z"
   },
   {
    "duration": 0,
    "start_time": "2022-05-01T18:28:48.292Z"
   },
   {
    "duration": 0,
    "start_time": "2022-05-01T18:28:48.294Z"
   },
   {
    "duration": 1725,
    "start_time": "2022-05-01T18:30:07.233Z"
   },
   {
    "duration": 4,
    "start_time": "2022-05-01T18:30:08.960Z"
   },
   {
    "duration": 750,
    "start_time": "2022-05-01T18:30:08.966Z"
   },
   {
    "duration": 973,
    "start_time": "2022-05-01T18:30:09.718Z"
   },
   {
    "duration": 10,
    "start_time": "2022-05-01T18:30:10.693Z"
   },
   {
    "duration": 20,
    "start_time": "2022-05-01T18:30:10.705Z"
   },
   {
    "duration": 26,
    "start_time": "2022-05-01T18:30:10.726Z"
   },
   {
    "duration": 3,
    "start_time": "2022-05-01T18:30:10.754Z"
   },
   {
    "duration": 12,
    "start_time": "2022-05-01T18:30:10.758Z"
   },
   {
    "duration": 3,
    "start_time": "2022-05-01T18:30:10.771Z"
   },
   {
    "duration": 95,
    "start_time": "2022-05-01T18:30:10.775Z"
   },
   {
    "duration": 8,
    "start_time": "2022-05-01T18:30:10.872Z"
   },
   {
    "duration": 6,
    "start_time": "2022-05-01T18:30:10.882Z"
   },
   {
    "duration": 31,
    "start_time": "2022-05-01T18:30:10.893Z"
   },
   {
    "duration": 43,
    "start_time": "2022-05-01T18:30:10.927Z"
   },
   {
    "duration": 7,
    "start_time": "2022-05-01T18:30:10.972Z"
   },
   {
    "duration": 9,
    "start_time": "2022-05-01T18:30:10.981Z"
   },
   {
    "duration": 43,
    "start_time": "2022-05-01T18:30:10.992Z"
   },
   {
    "duration": 9,
    "start_time": "2022-05-01T18:30:11.037Z"
   },
   {
    "duration": 6,
    "start_time": "2022-05-01T18:30:11.048Z"
   },
   {
    "duration": 7,
    "start_time": "2022-05-01T18:30:11.056Z"
   },
   {
    "duration": 1397,
    "start_time": "2022-05-01T18:30:11.066Z"
   },
   {
    "duration": 19,
    "start_time": "2022-05-01T18:30:12.465Z"
   },
   {
    "duration": 2157,
    "start_time": "2022-05-01T18:30:12.486Z"
   },
   {
    "duration": 20,
    "start_time": "2022-05-01T18:30:14.645Z"
   },
   {
    "duration": 1890,
    "start_time": "2022-05-01T18:30:14.667Z"
   },
   {
    "duration": 94,
    "start_time": "2022-05-01T18:30:16.559Z"
   },
   {
    "duration": 4826,
    "start_time": "2022-05-01T18:30:16.655Z"
   },
   {
    "duration": 15,
    "start_time": "2022-05-01T18:30:21.483Z"
   },
   {
    "duration": 36,
    "start_time": "2022-05-01T18:30:21.499Z"
   },
   {
    "duration": 2777,
    "start_time": "2022-05-01T18:30:21.537Z"
   },
   {
    "duration": 13,
    "start_time": "2022-05-01T18:30:24.315Z"
   },
   {
    "duration": 7,
    "start_time": "2022-05-01T18:30:24.329Z"
   },
   {
    "duration": 5,
    "start_time": "2022-05-01T18:30:24.338Z"
   },
   {
    "duration": 4,
    "start_time": "2022-05-01T18:30:24.345Z"
   },
   {
    "duration": 2675,
    "start_time": "2022-05-01T18:30:24.352Z"
   },
   {
    "duration": 10086,
    "start_time": "2022-05-01T18:30:27.029Z"
   },
   {
    "duration": 22697,
    "start_time": "2022-05-01T18:30:37.116Z"
   },
   {
    "duration": 5684,
    "start_time": "2022-05-01T18:30:59.823Z"
   },
   {
    "duration": 4,
    "start_time": "2022-05-01T18:31:05.509Z"
   },
   {
    "duration": 5,
    "start_time": "2022-05-01T18:31:05.525Z"
   },
   {
    "duration": 12,
    "start_time": "2022-05-01T18:31:05.532Z"
   },
   {
    "duration": 7967,
    "start_time": "2022-05-01T18:32:05.027Z"
   },
   {
    "duration": 8151,
    "start_time": "2022-05-01T18:32:47.463Z"
   },
   {
    "duration": 7749,
    "start_time": "2022-05-01T18:33:05.745Z"
   },
   {
    "duration": 9139,
    "start_time": "2022-05-01T18:33:22.579Z"
   },
   {
    "duration": 7249,
    "start_time": "2022-05-01T18:33:37.932Z"
   },
   {
    "duration": 31530,
    "start_time": "2022-05-01T18:34:04.728Z"
   },
   {
    "duration": 40231,
    "start_time": "2022-05-01T18:35:03.565Z"
   },
   {
    "duration": 9,
    "start_time": "2022-05-01T18:44:39.930Z"
   },
   {
    "duration": 1655,
    "start_time": "2022-05-01T19:42:54.194Z"
   },
   {
    "duration": 5,
    "start_time": "2022-05-01T19:42:55.851Z"
   },
   {
    "duration": 717,
    "start_time": "2022-05-01T19:42:55.857Z"
   },
   {
    "duration": 1085,
    "start_time": "2022-05-01T19:42:56.575Z"
   },
   {
    "duration": 66,
    "start_time": "2022-05-01T19:42:57.663Z"
   },
   {
    "duration": 10,
    "start_time": "2022-05-01T19:42:57.731Z"
   },
   {
    "duration": 29,
    "start_time": "2022-05-01T19:42:57.743Z"
   },
   {
    "duration": 12,
    "start_time": "2022-05-01T19:42:57.823Z"
   },
   {
    "duration": 186,
    "start_time": "2022-05-01T19:42:57.838Z"
   },
   {
    "duration": 8,
    "start_time": "2022-05-01T19:42:58.026Z"
   },
   {
    "duration": 14,
    "start_time": "2022-05-01T19:42:58.036Z"
   },
   {
    "duration": 172,
    "start_time": "2022-05-01T19:42:58.052Z"
   },
   {
    "duration": 8,
    "start_time": "2022-05-01T19:42:58.225Z"
   },
   {
    "duration": 8,
    "start_time": "2022-05-01T19:42:58.237Z"
   },
   {
    "duration": 11,
    "start_time": "2022-05-01T19:42:58.247Z"
   },
   {
    "duration": 7,
    "start_time": "2022-05-01T19:42:58.259Z"
   },
   {
    "duration": 57,
    "start_time": "2022-05-01T19:42:58.268Z"
   },
   {
    "duration": 16,
    "start_time": "2022-05-01T19:42:58.327Z"
   },
   {
    "duration": 2062,
    "start_time": "2022-05-01T19:42:58.345Z"
   },
   {
    "duration": 21,
    "start_time": "2022-05-01T19:43:00.409Z"
   },
   {
    "duration": 2213,
    "start_time": "2022-05-01T19:43:00.431Z"
   },
   {
    "duration": 18,
    "start_time": "2022-05-01T19:43:02.646Z"
   },
   {
    "duration": 2604,
    "start_time": "2022-05-01T19:43:02.665Z"
   },
   {
    "duration": 90,
    "start_time": "2022-05-01T19:43:05.271Z"
   },
   {
    "duration": 5930,
    "start_time": "2022-05-01T19:43:05.363Z"
   },
   {
    "duration": 13,
    "start_time": "2022-05-01T19:43:11.295Z"
   },
   {
    "duration": 19,
    "start_time": "2022-05-01T19:43:11.322Z"
   },
   {
    "duration": 2657,
    "start_time": "2022-05-01T19:43:11.343Z"
   },
   {
    "duration": 7,
    "start_time": "2022-05-01T19:43:14.002Z"
   },
   {
    "duration": 12,
    "start_time": "2022-05-01T19:43:14.010Z"
   },
   {
    "duration": 7,
    "start_time": "2022-05-01T19:43:14.024Z"
   },
   {
    "duration": 5,
    "start_time": "2022-05-01T19:43:14.032Z"
   },
   {
    "duration": 10,
    "start_time": "2022-05-01T19:43:14.038Z"
   },
   {
    "duration": 2188,
    "start_time": "2022-05-01T19:43:14.049Z"
   },
   {
    "duration": 10259,
    "start_time": "2022-05-01T19:43:16.323Z"
   },
   {
    "duration": 29220,
    "start_time": "2022-05-01T19:43:26.584Z"
   },
   {
    "duration": 7466,
    "start_time": "2022-05-01T19:43:55.806Z"
   },
   {
    "duration": 4,
    "start_time": "2022-05-01T19:44:03.274Z"
   },
   {
    "duration": 4,
    "start_time": "2022-05-01T19:44:03.280Z"
   },
   {
    "duration": 9,
    "start_time": "2022-05-01T19:44:19.839Z"
   },
   {
    "duration": 13,
    "start_time": "2022-05-01T19:45:16.918Z"
   },
   {
    "duration": 13,
    "start_time": "2022-05-01T19:45:44.177Z"
   },
   {
    "duration": 1563,
    "start_time": "2022-05-01T19:46:03.167Z"
   },
   {
    "duration": 4,
    "start_time": "2022-05-01T19:46:04.732Z"
   },
   {
    "duration": 731,
    "start_time": "2022-05-01T19:46:04.738Z"
   },
   {
    "duration": 896,
    "start_time": "2022-05-01T19:46:05.471Z"
   },
   {
    "duration": 9,
    "start_time": "2022-05-01T19:46:06.369Z"
   },
   {
    "duration": 9,
    "start_time": "2022-05-01T19:46:06.380Z"
   },
   {
    "duration": 25,
    "start_time": "2022-05-01T19:46:06.391Z"
   },
   {
    "duration": 9,
    "start_time": "2022-05-01T19:46:06.418Z"
   },
   {
    "duration": 52,
    "start_time": "2022-05-01T19:46:06.428Z"
   },
   {
    "duration": 7,
    "start_time": "2022-05-01T19:46:06.482Z"
   },
   {
    "duration": 42,
    "start_time": "2022-05-01T19:46:06.491Z"
   },
   {
    "duration": 109,
    "start_time": "2022-05-01T19:46:06.535Z"
   },
   {
    "duration": 7,
    "start_time": "2022-05-01T19:46:06.646Z"
   },
   {
    "duration": 21,
    "start_time": "2022-05-01T19:46:06.656Z"
   },
   {
    "duration": 20,
    "start_time": "2022-05-01T19:46:06.679Z"
   },
   {
    "duration": 9,
    "start_time": "2022-05-01T19:46:06.701Z"
   },
   {
    "duration": 18,
    "start_time": "2022-05-01T19:46:06.712Z"
   },
   {
    "duration": 10,
    "start_time": "2022-05-01T19:46:06.732Z"
   },
   {
    "duration": 2263,
    "start_time": "2022-05-01T19:46:06.744Z"
   },
   {
    "duration": 22,
    "start_time": "2022-05-01T19:46:09.010Z"
   },
   {
    "duration": 3017,
    "start_time": "2022-05-01T19:46:09.034Z"
   },
   {
    "duration": 19,
    "start_time": "2022-05-01T19:46:12.053Z"
   },
   {
    "duration": 1798,
    "start_time": "2022-05-01T19:46:12.074Z"
   },
   {
    "duration": 86,
    "start_time": "2022-05-01T19:46:13.874Z"
   },
   {
    "duration": 4810,
    "start_time": "2022-05-01T19:46:13.962Z"
   },
   {
    "duration": 15,
    "start_time": "2022-05-01T19:46:18.774Z"
   },
   {
    "duration": 32,
    "start_time": "2022-05-01T19:46:18.791Z"
   },
   {
    "duration": 2679,
    "start_time": "2022-05-01T19:46:18.825Z"
   },
   {
    "duration": 8,
    "start_time": "2022-05-01T19:46:21.506Z"
   },
   {
    "duration": 6,
    "start_time": "2022-05-01T19:46:21.516Z"
   },
   {
    "duration": 5,
    "start_time": "2022-05-01T19:46:21.524Z"
   },
   {
    "duration": 5,
    "start_time": "2022-05-01T19:46:21.531Z"
   },
   {
    "duration": 10,
    "start_time": "2022-05-01T19:46:21.538Z"
   },
   {
    "duration": 2975,
    "start_time": "2022-05-01T19:46:21.550Z"
   },
   {
    "duration": 9875,
    "start_time": "2022-05-01T19:46:24.527Z"
   },
   {
    "duration": 28682,
    "start_time": "2022-05-01T19:46:34.404Z"
   },
   {
    "duration": 7534,
    "start_time": "2022-05-01T19:47:03.088Z"
   },
   {
    "duration": 4,
    "start_time": "2022-05-01T19:47:10.624Z"
   },
   {
    "duration": 8,
    "start_time": "2022-05-01T19:47:10.629Z"
   },
   {
    "duration": 1660,
    "start_time": "2022-05-01T19:47:47.639Z"
   },
   {
    "duration": 4,
    "start_time": "2022-05-01T19:47:49.301Z"
   },
   {
    "duration": 1034,
    "start_time": "2022-05-01T19:47:49.307Z"
   },
   {
    "duration": 1399,
    "start_time": "2022-05-01T19:47:50.343Z"
   },
   {
    "duration": 12,
    "start_time": "2022-05-01T19:47:51.746Z"
   },
   {
    "duration": 14,
    "start_time": "2022-05-01T19:47:51.761Z"
   },
   {
    "duration": 60,
    "start_time": "2022-05-01T19:47:51.778Z"
   },
   {
    "duration": 13,
    "start_time": "2022-05-01T19:47:51.841Z"
   },
   {
    "duration": 83,
    "start_time": "2022-05-01T19:47:51.856Z"
   },
   {
    "duration": 8,
    "start_time": "2022-05-01T19:47:51.941Z"
   },
   {
    "duration": 14,
    "start_time": "2022-05-01T19:47:51.951Z"
   },
   {
    "duration": 62,
    "start_time": "2022-05-01T19:47:51.967Z"
   },
   {
    "duration": 8,
    "start_time": "2022-05-01T19:47:52.030Z"
   },
   {
    "duration": 11,
    "start_time": "2022-05-01T19:47:52.041Z"
   },
   {
    "duration": 12,
    "start_time": "2022-05-01T19:47:52.054Z"
   },
   {
    "duration": 8,
    "start_time": "2022-05-01T19:47:52.068Z"
   },
   {
    "duration": 5,
    "start_time": "2022-05-01T19:47:52.078Z"
   },
   {
    "duration": 39,
    "start_time": "2022-05-01T19:47:52.085Z"
   },
   {
    "duration": 1333,
    "start_time": "2022-05-01T19:47:52.126Z"
   },
   {
    "duration": 22,
    "start_time": "2022-05-01T19:47:53.461Z"
   },
   {
    "duration": 2092,
    "start_time": "2022-05-01T19:47:53.486Z"
   },
   {
    "duration": 18,
    "start_time": "2022-05-01T19:47:55.579Z"
   },
   {
    "duration": 2775,
    "start_time": "2022-05-01T19:47:55.599Z"
   },
   {
    "duration": 90,
    "start_time": "2022-05-01T19:47:58.376Z"
   },
   {
    "duration": 4763,
    "start_time": "2022-05-01T19:47:58.469Z"
   },
   {
    "duration": 14,
    "start_time": "2022-05-01T19:48:03.234Z"
   },
   {
    "duration": 20,
    "start_time": "2022-05-01T19:48:03.250Z"
   },
   {
    "duration": 2803,
    "start_time": "2022-05-01T19:48:03.272Z"
   },
   {
    "duration": 7,
    "start_time": "2022-05-01T19:48:06.077Z"
   },
   {
    "duration": 8,
    "start_time": "2022-05-01T19:48:06.086Z"
   },
   {
    "duration": 7,
    "start_time": "2022-05-01T19:48:06.096Z"
   },
   {
    "duration": 6,
    "start_time": "2022-05-01T19:48:06.104Z"
   },
   {
    "duration": 9,
    "start_time": "2022-05-01T19:48:06.111Z"
   },
   {
    "duration": 3204,
    "start_time": "2022-05-01T19:48:06.122Z"
   },
   {
    "duration": 1705,
    "start_time": "2022-05-01T19:48:19.433Z"
   },
   {
    "duration": 5,
    "start_time": "2022-05-01T19:48:21.140Z"
   },
   {
    "duration": 729,
    "start_time": "2022-05-01T19:48:21.147Z"
   },
   {
    "duration": 939,
    "start_time": "2022-05-01T19:48:21.878Z"
   },
   {
    "duration": 9,
    "start_time": "2022-05-01T19:48:22.823Z"
   },
   {
    "duration": 14,
    "start_time": "2022-05-01T19:48:22.834Z"
   },
   {
    "duration": 30,
    "start_time": "2022-05-01T19:48:22.849Z"
   },
   {
    "duration": 27,
    "start_time": "2022-05-01T19:48:22.880Z"
   },
   {
    "duration": 62,
    "start_time": "2022-05-01T19:48:22.909Z"
   },
   {
    "duration": 9,
    "start_time": "2022-05-01T19:48:22.972Z"
   },
   {
    "duration": 30,
    "start_time": "2022-05-01T19:48:22.982Z"
   },
   {
    "duration": 43,
    "start_time": "2022-05-01T19:48:23.015Z"
   },
   {
    "duration": 7,
    "start_time": "2022-05-01T19:48:23.059Z"
   },
   {
    "duration": 27,
    "start_time": "2022-05-01T19:48:23.069Z"
   },
   {
    "duration": 25,
    "start_time": "2022-05-01T19:48:23.098Z"
   },
   {
    "duration": 13,
    "start_time": "2022-05-01T19:48:23.125Z"
   },
   {
    "duration": 20,
    "start_time": "2022-05-01T19:48:23.140Z"
   },
   {
    "duration": 24,
    "start_time": "2022-05-01T19:48:23.162Z"
   },
   {
    "duration": 1575,
    "start_time": "2022-05-01T19:48:23.188Z"
   },
   {
    "duration": 77,
    "start_time": "2022-05-01T19:48:24.766Z"
   },
   {
    "duration": 2860,
    "start_time": "2022-05-01T19:48:24.844Z"
   },
   {
    "duration": 25,
    "start_time": "2022-05-01T19:48:27.706Z"
   },
   {
    "duration": 1793,
    "start_time": "2022-05-01T19:48:27.733Z"
   },
   {
    "duration": 80,
    "start_time": "2022-05-01T19:48:29.527Z"
   },
   {
    "duration": 4920,
    "start_time": "2022-05-01T19:48:29.608Z"
   },
   {
    "duration": 12,
    "start_time": "2022-05-01T19:48:34.530Z"
   },
   {
    "duration": 37,
    "start_time": "2022-05-01T19:48:34.544Z"
   },
   {
    "duration": 2674,
    "start_time": "2022-05-01T19:48:34.583Z"
   },
   {
    "duration": 7,
    "start_time": "2022-05-01T19:48:37.259Z"
   },
   {
    "duration": 33,
    "start_time": "2022-05-01T19:48:37.268Z"
   },
   {
    "duration": 28,
    "start_time": "2022-05-01T19:48:37.303Z"
   },
   {
    "duration": 22,
    "start_time": "2022-05-01T19:48:37.333Z"
   },
   {
    "duration": 26,
    "start_time": "2022-05-01T19:48:37.357Z"
   },
   {
    "duration": 2741,
    "start_time": "2022-05-01T19:48:37.385Z"
   },
   {
    "duration": 9812,
    "start_time": "2022-05-01T19:48:40.129Z"
   },
   {
    "duration": 1693,
    "start_time": "2022-05-01T19:49:17.102Z"
   },
   {
    "duration": 4,
    "start_time": "2022-05-01T19:49:18.798Z"
   },
   {
    "duration": 749,
    "start_time": "2022-05-01T19:49:18.805Z"
   },
   {
    "duration": 1092,
    "start_time": "2022-05-01T19:49:19.556Z"
   },
   {
    "duration": 10,
    "start_time": "2022-05-01T19:49:20.650Z"
   },
   {
    "duration": 19,
    "start_time": "2022-05-01T19:49:20.661Z"
   },
   {
    "duration": 28,
    "start_time": "2022-05-01T19:49:20.682Z"
   },
   {
    "duration": 24,
    "start_time": "2022-05-01T19:49:20.711Z"
   },
   {
    "duration": 56,
    "start_time": "2022-05-01T19:49:20.736Z"
   },
   {
    "duration": 8,
    "start_time": "2022-05-01T19:49:20.794Z"
   },
   {
    "duration": 13,
    "start_time": "2022-05-01T19:49:20.824Z"
   },
   {
    "duration": 45,
    "start_time": "2022-05-01T19:49:20.838Z"
   },
   {
    "duration": 6,
    "start_time": "2022-05-01T19:49:20.885Z"
   },
   {
    "duration": 37,
    "start_time": "2022-05-01T19:49:20.894Z"
   },
   {
    "duration": 12,
    "start_time": "2022-05-01T19:49:20.932Z"
   },
   {
    "duration": 7,
    "start_time": "2022-05-01T19:49:20.946Z"
   },
   {
    "duration": 7,
    "start_time": "2022-05-01T19:49:20.955Z"
   },
   {
    "duration": 6,
    "start_time": "2022-05-01T19:49:20.964Z"
   },
   {
    "duration": 1479,
    "start_time": "2022-05-01T19:49:20.972Z"
   },
   {
    "duration": 20,
    "start_time": "2022-05-01T19:49:22.453Z"
   },
   {
    "duration": 2149,
    "start_time": "2022-05-01T19:49:22.475Z"
   },
   {
    "duration": 19,
    "start_time": "2022-05-01T19:49:24.626Z"
   },
   {
    "duration": 1797,
    "start_time": "2022-05-01T19:49:24.646Z"
   },
   {
    "duration": 90,
    "start_time": "2022-05-01T19:49:26.445Z"
   },
   {
    "duration": 4850,
    "start_time": "2022-05-01T19:49:26.537Z"
   },
   {
    "duration": 13,
    "start_time": "2022-05-01T19:49:31.389Z"
   },
   {
    "duration": 32,
    "start_time": "2022-05-01T19:49:31.404Z"
   },
   {
    "duration": 3894,
    "start_time": "2022-05-01T19:49:31.437Z"
   },
   {
    "duration": 7,
    "start_time": "2022-05-01T19:49:35.333Z"
   },
   {
    "duration": 8,
    "start_time": "2022-05-01T19:49:35.341Z"
   },
   {
    "duration": 6,
    "start_time": "2022-05-01T19:49:35.351Z"
   },
   {
    "duration": 6,
    "start_time": "2022-05-01T19:49:35.358Z"
   },
   {
    "duration": 10,
    "start_time": "2022-05-01T19:49:35.365Z"
   },
   {
    "duration": 3247,
    "start_time": "2022-05-01T19:49:35.377Z"
   },
   {
    "duration": 10429,
    "start_time": "2022-05-01T19:49:38.627Z"
   },
   {
    "duration": 29363,
    "start_time": "2022-05-01T19:49:49.059Z"
   },
   {
    "duration": 7387,
    "start_time": "2022-05-01T19:50:18.424Z"
   },
   {
    "duration": 4,
    "start_time": "2022-05-01T19:50:25.813Z"
   },
   {
    "duration": 4,
    "start_time": "2022-05-01T19:50:25.823Z"
   },
   {
    "duration": 1546,
    "start_time": "2022-05-01T20:24:33.575Z"
   },
   {
    "duration": 7,
    "start_time": "2022-05-01T20:24:35.129Z"
   },
   {
    "duration": 750,
    "start_time": "2022-05-01T20:24:35.138Z"
   },
   {
    "duration": 950,
    "start_time": "2022-05-01T20:24:35.890Z"
   },
   {
    "duration": 10,
    "start_time": "2022-05-01T20:24:36.842Z"
   },
   {
    "duration": 9,
    "start_time": "2022-05-01T20:24:36.854Z"
   },
   {
    "duration": 24,
    "start_time": "2022-05-01T20:24:36.865Z"
   },
   {
    "duration": 49,
    "start_time": "2022-05-01T20:24:36.891Z"
   },
   {
    "duration": 55,
    "start_time": "2022-05-01T20:24:36.942Z"
   },
   {
    "duration": 7,
    "start_time": "2022-05-01T20:24:36.999Z"
   },
   {
    "duration": 30,
    "start_time": "2022-05-01T20:24:37.009Z"
   },
   {
    "duration": 44,
    "start_time": "2022-05-01T20:24:37.041Z"
   },
   {
    "duration": 7,
    "start_time": "2022-05-01T20:24:37.086Z"
   },
   {
    "duration": 34,
    "start_time": "2022-05-01T20:24:37.097Z"
   },
   {
    "duration": 14,
    "start_time": "2022-05-01T20:24:37.133Z"
   },
   {
    "duration": 8,
    "start_time": "2022-05-01T20:24:37.149Z"
   },
   {
    "duration": 7,
    "start_time": "2022-05-01T20:24:37.160Z"
   },
   {
    "duration": 14,
    "start_time": "2022-05-01T20:24:37.169Z"
   },
   {
    "duration": 2862,
    "start_time": "2022-05-01T20:24:37.185Z"
   },
   {
    "duration": 21,
    "start_time": "2022-05-01T20:24:40.050Z"
   },
   {
    "duration": 2171,
    "start_time": "2022-05-01T20:24:40.072Z"
   },
   {
    "duration": 19,
    "start_time": "2022-05-01T20:24:42.244Z"
   },
   {
    "duration": 1691,
    "start_time": "2022-05-01T20:24:42.264Z"
   },
   {
    "duration": 87,
    "start_time": "2022-05-01T20:24:43.957Z"
   },
   {
    "duration": 4560,
    "start_time": "2022-05-01T20:24:44.045Z"
   },
   {
    "duration": 16,
    "start_time": "2022-05-01T20:24:48.607Z"
   },
   {
    "duration": 22,
    "start_time": "2022-05-01T20:24:48.625Z"
   },
   {
    "duration": 2842,
    "start_time": "2022-05-01T20:24:48.649Z"
   },
   {
    "duration": 7,
    "start_time": "2022-05-01T20:24:51.493Z"
   },
   {
    "duration": 10,
    "start_time": "2022-05-01T20:24:51.501Z"
   },
   {
    "duration": 4200,
    "start_time": "2022-05-01T20:24:51.522Z"
   },
   {
    "duration": 10239,
    "start_time": "2022-05-01T20:24:55.739Z"
   },
   {
    "duration": 29722,
    "start_time": "2022-05-01T20:25:05.979Z"
   },
   {
    "duration": 9009,
    "start_time": "2022-05-01T20:25:35.703Z"
   },
   {
    "duration": 1588,
    "start_time": "2022-05-01T20:27:43.176Z"
   },
   {
    "duration": 4,
    "start_time": "2022-05-01T20:27:44.767Z"
   },
   {
    "duration": 739,
    "start_time": "2022-05-01T20:27:44.772Z"
   },
   {
    "duration": 915,
    "start_time": "2022-05-01T20:27:45.513Z"
   },
   {
    "duration": 9,
    "start_time": "2022-05-01T20:27:46.430Z"
   },
   {
    "duration": 13,
    "start_time": "2022-05-01T20:27:46.441Z"
   },
   {
    "duration": 27,
    "start_time": "2022-05-01T20:27:46.455Z"
   },
   {
    "duration": 39,
    "start_time": "2022-05-01T20:27:46.484Z"
   },
   {
    "duration": 54,
    "start_time": "2022-05-01T20:27:46.524Z"
   },
   {
    "duration": 8,
    "start_time": "2022-05-01T20:27:46.581Z"
   },
   {
    "duration": 39,
    "start_time": "2022-05-01T20:27:46.590Z"
   },
   {
    "duration": 41,
    "start_time": "2022-05-01T20:27:46.631Z"
   },
   {
    "duration": 7,
    "start_time": "2022-05-01T20:27:46.674Z"
   },
   {
    "duration": 14,
    "start_time": "2022-05-01T20:27:46.682Z"
   },
   {
    "duration": 32,
    "start_time": "2022-05-01T20:27:46.698Z"
   },
   {
    "duration": 7,
    "start_time": "2022-05-01T20:27:46.732Z"
   },
   {
    "duration": 5,
    "start_time": "2022-05-01T20:27:46.741Z"
   },
   {
    "duration": 6,
    "start_time": "2022-05-01T20:27:46.747Z"
   },
   {
    "duration": 1313,
    "start_time": "2022-05-01T20:27:46.754Z"
   },
   {
    "duration": 19,
    "start_time": "2022-05-01T20:27:48.069Z"
   },
   {
    "duration": 2101,
    "start_time": "2022-05-01T20:27:48.090Z"
   },
   {
    "duration": 20,
    "start_time": "2022-05-01T20:27:50.193Z"
   },
   {
    "duration": 1745,
    "start_time": "2022-05-01T20:27:50.223Z"
   },
   {
    "duration": 86,
    "start_time": "2022-05-01T20:27:51.969Z"
   },
   {
    "duration": 4765,
    "start_time": "2022-05-01T20:27:52.057Z"
   },
   {
    "duration": 12,
    "start_time": "2022-05-01T20:27:56.824Z"
   },
   {
    "duration": 19,
    "start_time": "2022-05-01T20:27:56.838Z"
   },
   {
    "duration": 2636,
    "start_time": "2022-05-01T20:27:56.861Z"
   },
   {
    "duration": 8,
    "start_time": "2022-05-01T20:27:59.498Z"
   },
   {
    "duration": 30,
    "start_time": "2022-05-01T20:27:59.508Z"
   },
   {
    "duration": 3085,
    "start_time": "2022-05-01T20:27:59.540Z"
   },
   {
    "duration": 10287,
    "start_time": "2022-05-01T20:28:02.628Z"
   },
   {
    "duration": 28569,
    "start_time": "2022-05-01T20:28:12.917Z"
   },
   {
    "duration": 7104,
    "start_time": "2022-05-01T20:28:41.488Z"
   },
   {
    "duration": 1706,
    "start_time": "2022-05-01T20:40:00.343Z"
   },
   {
    "duration": 5,
    "start_time": "2022-05-01T20:40:02.051Z"
   },
   {
    "duration": 739,
    "start_time": "2022-05-01T20:40:02.057Z"
   },
   {
    "duration": 1037,
    "start_time": "2022-05-01T20:40:02.798Z"
   },
   {
    "duration": 11,
    "start_time": "2022-05-01T20:40:03.838Z"
   },
   {
    "duration": 15,
    "start_time": "2022-05-01T20:40:03.851Z"
   },
   {
    "duration": 33,
    "start_time": "2022-05-01T20:40:03.868Z"
   },
   {
    "duration": 18,
    "start_time": "2022-05-01T20:40:03.923Z"
   },
   {
    "duration": 93,
    "start_time": "2022-05-01T20:40:03.942Z"
   },
   {
    "duration": 9,
    "start_time": "2022-05-01T20:40:04.037Z"
   },
   {
    "duration": 16,
    "start_time": "2022-05-01T20:40:04.048Z"
   },
   {
    "duration": 90,
    "start_time": "2022-05-01T20:40:04.067Z"
   },
   {
    "duration": 7,
    "start_time": "2022-05-01T20:40:04.160Z"
   },
   {
    "duration": 15,
    "start_time": "2022-05-01T20:40:04.172Z"
   },
   {
    "duration": 40,
    "start_time": "2022-05-01T20:40:04.189Z"
   },
   {
    "duration": 11,
    "start_time": "2022-05-01T20:40:04.231Z"
   },
   {
    "duration": 6,
    "start_time": "2022-05-01T20:40:04.244Z"
   },
   {
    "duration": 8,
    "start_time": "2022-05-01T20:40:04.252Z"
   },
   {
    "duration": 1476,
    "start_time": "2022-05-01T20:40:04.263Z"
   },
   {
    "duration": 20,
    "start_time": "2022-05-01T20:40:05.741Z"
   },
   {
    "duration": 2077,
    "start_time": "2022-05-01T20:40:05.763Z"
   },
   {
    "duration": 19,
    "start_time": "2022-05-01T20:40:07.842Z"
   },
   {
    "duration": 2173,
    "start_time": "2022-05-01T20:40:07.862Z"
   },
   {
    "duration": 92,
    "start_time": "2022-05-01T20:40:10.037Z"
   },
   {
    "duration": 4855,
    "start_time": "2022-05-01T20:40:10.131Z"
   },
   {
    "duration": 15,
    "start_time": "2022-05-01T20:40:14.988Z"
   },
   {
    "duration": 35,
    "start_time": "2022-05-01T20:40:15.005Z"
   },
   {
    "duration": 2734,
    "start_time": "2022-05-01T20:40:15.042Z"
   },
   {
    "duration": 8,
    "start_time": "2022-05-01T20:40:17.778Z"
   },
   {
    "duration": 9,
    "start_time": "2022-05-01T20:40:17.787Z"
   },
   {
    "duration": 3026,
    "start_time": "2022-05-01T20:40:17.798Z"
   },
   {
    "duration": 10830,
    "start_time": "2022-05-01T20:40:20.827Z"
   },
   {
    "duration": 28380,
    "start_time": "2022-05-01T20:40:31.659Z"
   },
   {
    "duration": 7332,
    "start_time": "2022-05-01T20:41:00.041Z"
   },
   {
    "duration": 1647,
    "start_time": "2022-05-01T20:41:50.501Z"
   },
   {
    "duration": 5,
    "start_time": "2022-05-01T20:41:52.150Z"
   },
   {
    "duration": 719,
    "start_time": "2022-05-01T20:41:52.156Z"
   },
   {
    "duration": 900,
    "start_time": "2022-05-01T20:41:52.878Z"
   },
   {
    "duration": 9,
    "start_time": "2022-05-01T20:41:53.779Z"
   },
   {
    "duration": 11,
    "start_time": "2022-05-01T20:41:53.790Z"
   },
   {
    "duration": 48,
    "start_time": "2022-05-01T20:41:53.802Z"
   },
   {
    "duration": 13,
    "start_time": "2022-05-01T20:41:53.852Z"
   },
   {
    "duration": 74,
    "start_time": "2022-05-01T20:41:53.867Z"
   },
   {
    "duration": 8,
    "start_time": "2022-05-01T20:41:53.943Z"
   },
   {
    "duration": 14,
    "start_time": "2022-05-01T20:41:53.953Z"
   },
   {
    "duration": 64,
    "start_time": "2022-05-01T20:41:53.969Z"
   },
   {
    "duration": 7,
    "start_time": "2022-05-01T20:41:54.034Z"
   },
   {
    "duration": 13,
    "start_time": "2022-05-01T20:41:54.042Z"
   },
   {
    "duration": 12,
    "start_time": "2022-05-01T20:41:54.057Z"
   },
   {
    "duration": 8,
    "start_time": "2022-05-01T20:41:54.070Z"
   },
   {
    "duration": 8,
    "start_time": "2022-05-01T20:41:54.079Z"
   },
   {
    "duration": 37,
    "start_time": "2022-05-01T20:41:54.089Z"
   },
   {
    "duration": 1315,
    "start_time": "2022-05-01T20:41:54.128Z"
   },
   {
    "duration": 20,
    "start_time": "2022-05-01T20:41:55.444Z"
   },
   {
    "duration": 2102,
    "start_time": "2022-05-01T20:41:55.465Z"
   },
   {
    "duration": 18,
    "start_time": "2022-05-01T20:41:57.569Z"
   },
   {
    "duration": 1790,
    "start_time": "2022-05-01T20:41:57.589Z"
   },
   {
    "duration": 91,
    "start_time": "2022-05-01T20:41:59.381Z"
   },
   {
    "duration": 4663,
    "start_time": "2022-05-01T20:41:59.474Z"
   },
   {
    "duration": 13,
    "start_time": "2022-05-01T20:42:04.140Z"
   },
   {
    "duration": 21,
    "start_time": "2022-05-01T20:42:04.155Z"
   },
   {
    "duration": 2742,
    "start_time": "2022-05-01T20:42:04.180Z"
   },
   {
    "duration": 8,
    "start_time": "2022-05-01T20:42:06.924Z"
   },
   {
    "duration": 9,
    "start_time": "2022-05-01T20:42:06.933Z"
   },
   {
    "duration": 2983,
    "start_time": "2022-05-01T20:42:06.943Z"
   },
   {
    "duration": 10450,
    "start_time": "2022-05-01T20:42:09.927Z"
   },
   {
    "duration": 28199,
    "start_time": "2022-05-01T20:42:20.379Z"
   },
   {
    "duration": 7180,
    "start_time": "2022-05-01T20:42:48.579Z"
   },
   {
    "duration": 1914,
    "start_time": "2022-05-02T05:50:51.844Z"
   },
   {
    "duration": 4,
    "start_time": "2022-05-02T05:50:53.760Z"
   },
   {
    "duration": 5067,
    "start_time": "2022-05-02T05:50:53.766Z"
   },
   {
    "duration": 979,
    "start_time": "2022-05-02T05:50:58.834Z"
   },
   {
    "duration": 10,
    "start_time": "2022-05-02T05:50:59.816Z"
   },
   {
    "duration": 4,
    "start_time": "2022-05-02T06:05:38.299Z"
   },
   {
    "duration": 13,
    "start_time": "2022-05-02T06:05:38.304Z"
   },
   {
    "duration": 668,
    "start_time": "2022-05-02T06:05:38.319Z"
   },
   {
    "duration": 887,
    "start_time": "2022-05-02T06:05:38.988Z"
   },
   {
    "duration": 6,
    "start_time": "2022-05-02T06:05:39.877Z"
   },
   {
    "duration": 9,
    "start_time": "2022-05-02T06:05:39.885Z"
   },
   {
    "duration": 27,
    "start_time": "2022-05-02T06:05:39.895Z"
   },
   {
    "duration": 15,
    "start_time": "2022-05-02T06:05:39.923Z"
   },
   {
    "duration": 89,
    "start_time": "2022-05-02T06:05:39.940Z"
   },
   {
    "duration": 8,
    "start_time": "2022-05-02T06:05:40.030Z"
   },
   {
    "duration": 34,
    "start_time": "2022-05-02T06:05:40.041Z"
   },
   {
    "duration": 38,
    "start_time": "2022-05-02T06:05:40.077Z"
   },
   {
    "duration": 6,
    "start_time": "2022-05-02T06:05:40.117Z"
   },
   {
    "duration": 19,
    "start_time": "2022-05-02T06:05:40.125Z"
   },
   {
    "duration": 29,
    "start_time": "2022-05-02T06:05:40.146Z"
   },
   {
    "duration": 7,
    "start_time": "2022-05-02T06:05:40.177Z"
   },
   {
    "duration": 7,
    "start_time": "2022-05-02T06:05:40.186Z"
   },
   {
    "duration": 8,
    "start_time": "2022-05-02T06:05:40.195Z"
   },
   {
    "duration": 1353,
    "start_time": "2022-05-02T06:05:40.204Z"
   },
   {
    "duration": 21,
    "start_time": "2022-05-02T06:05:41.559Z"
   },
   {
    "duration": 2119,
    "start_time": "2022-05-02T06:05:41.582Z"
   },
   {
    "duration": 21,
    "start_time": "2022-05-02T06:05:43.702Z"
   },
   {
    "duration": 1824,
    "start_time": "2022-05-02T06:05:43.725Z"
   },
   {
    "duration": 94,
    "start_time": "2022-05-02T06:05:45.551Z"
   },
   {
    "duration": 4885,
    "start_time": "2022-05-02T06:05:45.647Z"
   },
   {
    "duration": 12,
    "start_time": "2022-05-02T06:05:50.534Z"
   },
   {
    "duration": 28,
    "start_time": "2022-05-02T06:05:50.548Z"
   },
   {
    "duration": 2858,
    "start_time": "2022-05-02T06:05:50.578Z"
   },
   {
    "duration": 9,
    "start_time": "2022-05-02T06:05:53.439Z"
   },
   {
    "duration": 15,
    "start_time": "2022-05-02T06:05:53.449Z"
   },
   {
    "duration": 2410,
    "start_time": "2022-05-02T06:05:53.465Z"
   },
   {
    "duration": 9150,
    "start_time": "2022-05-02T06:05:55.877Z"
   },
   {
    "duration": 26302,
    "start_time": "2022-05-02T06:06:05.029Z"
   },
   {
    "duration": 1684,
    "start_time": "2022-05-02T06:09:12.119Z"
   },
   {
    "duration": 5,
    "start_time": "2022-05-02T06:09:13.805Z"
   },
   {
    "duration": 651,
    "start_time": "2022-05-02T06:09:13.811Z"
   },
   {
    "duration": 917,
    "start_time": "2022-05-02T06:09:14.464Z"
   },
   {
    "duration": 8,
    "start_time": "2022-05-02T06:09:15.384Z"
   },
   {
    "duration": 13,
    "start_time": "2022-05-02T06:09:15.394Z"
   },
   {
    "duration": 35,
    "start_time": "2022-05-02T06:09:15.409Z"
   },
   {
    "duration": 34,
    "start_time": "2022-05-02T06:09:15.446Z"
   },
   {
    "duration": 56,
    "start_time": "2022-05-02T06:09:15.482Z"
   },
   {
    "duration": 8,
    "start_time": "2022-05-02T06:09:15.540Z"
   },
   {
    "duration": 36,
    "start_time": "2022-05-02T06:09:15.550Z"
   },
   {
    "duration": 45,
    "start_time": "2022-05-02T06:09:15.588Z"
   },
   {
    "duration": 7,
    "start_time": "2022-05-02T06:09:15.635Z"
   },
   {
    "duration": 9,
    "start_time": "2022-05-02T06:09:15.673Z"
   },
   {
    "duration": 12,
    "start_time": "2022-05-02T06:09:15.684Z"
   },
   {
    "duration": 9,
    "start_time": "2022-05-02T06:09:15.697Z"
   },
   {
    "duration": 6,
    "start_time": "2022-05-02T06:09:15.708Z"
   },
   {
    "duration": 6,
    "start_time": "2022-05-02T06:09:15.716Z"
   },
   {
    "duration": 1301,
    "start_time": "2022-05-02T06:09:15.724Z"
   },
   {
    "duration": 20,
    "start_time": "2022-05-02T06:09:17.027Z"
   },
   {
    "duration": 2114,
    "start_time": "2022-05-02T06:09:17.049Z"
   },
   {
    "duration": 20,
    "start_time": "2022-05-02T06:09:19.164Z"
   },
   {
    "duration": 1749,
    "start_time": "2022-05-02T06:09:19.186Z"
   },
   {
    "duration": 96,
    "start_time": "2022-05-02T06:09:20.937Z"
   },
   {
    "duration": 4845,
    "start_time": "2022-05-02T06:09:21.034Z"
   },
   {
    "duration": 12,
    "start_time": "2022-05-02T06:09:25.880Z"
   },
   {
    "duration": 21,
    "start_time": "2022-05-02T06:09:25.894Z"
   },
   {
    "duration": 2658,
    "start_time": "2022-05-02T06:09:25.917Z"
   },
   {
    "duration": 8,
    "start_time": "2022-05-02T06:09:28.576Z"
   },
   {
    "duration": 12,
    "start_time": "2022-05-02T06:09:28.585Z"
   },
   {
    "duration": 2976,
    "start_time": "2022-05-02T06:09:28.599Z"
   },
   {
    "duration": 9150,
    "start_time": "2022-05-02T06:09:31.577Z"
   },
   {
    "duration": 26381,
    "start_time": "2022-05-02T06:09:40.729Z"
   },
   {
    "duration": 58732,
    "start_time": "2022-05-02T06:13:58.920Z"
   },
   {
    "duration": 96404,
    "start_time": "2022-05-02T06:16:20.540Z"
   },
   {
    "duration": 7873,
    "start_time": "2022-05-02T06:19:01.086Z"
   },
   {
    "duration": 26893,
    "start_time": "2022-05-02T06:22:05.962Z"
   },
   {
    "duration": 79,
    "start_time": "2022-05-04T10:16:30.150Z"
   },
   {
    "duration": 1899,
    "start_time": "2022-05-04T10:16:40.021Z"
   },
   {
    "duration": 5,
    "start_time": "2022-05-04T10:16:41.923Z"
   },
   {
    "duration": 831,
    "start_time": "2022-05-04T10:16:41.930Z"
   },
   {
    "duration": 1012,
    "start_time": "2022-05-04T10:16:42.763Z"
   },
   {
    "duration": 19,
    "start_time": "2022-05-04T10:16:43.777Z"
   },
   {
    "duration": 14,
    "start_time": "2022-05-04T10:16:43.799Z"
   },
   {
    "duration": 38,
    "start_time": "2022-05-04T10:16:43.815Z"
   },
   {
    "duration": 15,
    "start_time": "2022-05-04T10:16:43.854Z"
   },
   {
    "duration": 81,
    "start_time": "2022-05-04T10:16:43.870Z"
   },
   {
    "duration": 8,
    "start_time": "2022-05-04T10:16:43.953Z"
   },
   {
    "duration": 17,
    "start_time": "2022-05-04T10:16:43.962Z"
   },
   {
    "duration": 57,
    "start_time": "2022-05-04T10:16:43.981Z"
   },
   {
    "duration": 6,
    "start_time": "2022-05-04T10:16:44.039Z"
   },
   {
    "duration": 12,
    "start_time": "2022-05-04T10:16:44.047Z"
   },
   {
    "duration": 43,
    "start_time": "2022-05-04T10:16:44.060Z"
   },
   {
    "duration": 15,
    "start_time": "2022-05-04T10:16:44.105Z"
   },
   {
    "duration": 10,
    "start_time": "2022-05-04T10:16:44.123Z"
   },
   {
    "duration": 6,
    "start_time": "2022-05-04T10:16:44.135Z"
   },
   {
    "duration": 1546,
    "start_time": "2022-05-04T10:16:44.143Z"
   },
   {
    "duration": 29,
    "start_time": "2022-05-04T10:16:45.691Z"
   },
   {
    "duration": 3538,
    "start_time": "2022-05-04T10:16:45.722Z"
   },
   {
    "duration": 36,
    "start_time": "2022-05-04T10:16:49.262Z"
   },
   {
    "duration": 2416,
    "start_time": "2022-05-04T10:16:49.300Z"
   },
   {
    "duration": 95,
    "start_time": "2022-05-04T10:16:51.718Z"
   },
   {
    "duration": 5404,
    "start_time": "2022-05-04T10:16:51.819Z"
   },
   {
    "duration": 14,
    "start_time": "2022-05-04T10:16:57.225Z"
   },
   {
    "duration": 19,
    "start_time": "2022-05-04T10:16:57.241Z"
   },
   {
    "duration": 3414,
    "start_time": "2022-05-04T10:16:57.263Z"
   },
   {
    "duration": 19,
    "start_time": "2022-05-04T10:17:00.679Z"
   },
   {
    "duration": 43,
    "start_time": "2022-05-04T10:17:00.701Z"
   },
   {
    "duration": 7589,
    "start_time": "2022-05-04T10:17:00.746Z"
   },
   {
    "duration": 14872,
    "start_time": "2022-05-04T10:17:08.393Z"
   },
   {
    "duration": 33035,
    "start_time": "2022-05-04T10:17:23.267Z"
   },
   {
    "duration": 8829,
    "start_time": "2022-05-04T10:17:56.304Z"
   },
   {
    "duration": 9,
    "start_time": "2022-05-04T10:18:05.136Z"
   },
   {
    "duration": 9,
    "start_time": "2022-05-04T10:18:30.294Z"
   },
   {
    "duration": 9,
    "start_time": "2022-05-04T10:18:38.006Z"
   },
   {
    "duration": 8,
    "start_time": "2022-05-04T10:18:42.707Z"
   },
   {
    "duration": 9,
    "start_time": "2022-05-04T10:18:46.858Z"
   },
   {
    "duration": 9,
    "start_time": "2022-05-04T10:19:52.282Z"
   },
   {
    "duration": 2017,
    "start_time": "2022-05-04T10:28:15.761Z"
   },
   {
    "duration": 5,
    "start_time": "2022-05-04T10:28:17.781Z"
   },
   {
    "duration": 830,
    "start_time": "2022-05-04T10:28:17.788Z"
   },
   {
    "duration": 1193,
    "start_time": "2022-05-04T10:28:18.620Z"
   },
   {
    "duration": 11,
    "start_time": "2022-05-04T10:28:19.816Z"
   },
   {
    "duration": 14,
    "start_time": "2022-05-04T10:28:19.829Z"
   },
   {
    "duration": 35,
    "start_time": "2022-05-04T10:28:19.845Z"
   },
   {
    "duration": 23,
    "start_time": "2022-05-04T10:28:19.882Z"
   },
   {
    "duration": 102,
    "start_time": "2022-05-04T10:28:19.907Z"
   },
   {
    "duration": 9,
    "start_time": "2022-05-04T10:28:20.014Z"
   },
   {
    "duration": 23,
    "start_time": "2022-05-04T10:28:20.026Z"
   },
   {
    "duration": 77,
    "start_time": "2022-05-04T10:28:20.051Z"
   },
   {
    "duration": 7,
    "start_time": "2022-05-04T10:28:20.130Z"
   },
   {
    "duration": 18,
    "start_time": "2022-05-04T10:28:20.138Z"
   },
   {
    "duration": 12,
    "start_time": "2022-05-04T10:28:20.158Z"
   },
   {
    "duration": 8,
    "start_time": "2022-05-04T10:28:20.172Z"
   },
   {
    "duration": 10,
    "start_time": "2022-05-04T10:28:20.181Z"
   },
   {
    "duration": 151,
    "start_time": "2022-05-04T10:28:20.197Z"
   },
   {
    "duration": 0,
    "start_time": "2022-05-04T10:28:20.350Z"
   },
   {
    "duration": 0,
    "start_time": "2022-05-04T10:28:20.351Z"
   },
   {
    "duration": 0,
    "start_time": "2022-05-04T10:28:20.353Z"
   },
   {
    "duration": 0,
    "start_time": "2022-05-04T10:28:20.354Z"
   },
   {
    "duration": 0,
    "start_time": "2022-05-04T10:28:20.356Z"
   },
   {
    "duration": 0,
    "start_time": "2022-05-04T10:28:20.358Z"
   },
   {
    "duration": 0,
    "start_time": "2022-05-04T10:28:20.360Z"
   },
   {
    "duration": 0,
    "start_time": "2022-05-04T10:28:20.361Z"
   },
   {
    "duration": 0,
    "start_time": "2022-05-04T10:28:20.362Z"
   },
   {
    "duration": 0,
    "start_time": "2022-05-04T10:28:20.364Z"
   },
   {
    "duration": 0,
    "start_time": "2022-05-04T10:28:20.367Z"
   },
   {
    "duration": 0,
    "start_time": "2022-05-04T10:28:20.368Z"
   },
   {
    "duration": 0,
    "start_time": "2022-05-04T10:28:20.369Z"
   },
   {
    "duration": 0,
    "start_time": "2022-05-04T10:28:20.370Z"
   },
   {
    "duration": 0,
    "start_time": "2022-05-04T10:28:20.372Z"
   },
   {
    "duration": 0,
    "start_time": "2022-05-04T10:28:20.373Z"
   },
   {
    "duration": 2085,
    "start_time": "2022-05-04T10:29:24.928Z"
   },
   {
    "duration": 5,
    "start_time": "2022-05-04T10:29:27.016Z"
   },
   {
    "duration": 787,
    "start_time": "2022-05-04T10:29:27.023Z"
   },
   {
    "duration": 1005,
    "start_time": "2022-05-04T10:29:27.813Z"
   },
   {
    "duration": 9,
    "start_time": "2022-05-04T10:29:28.820Z"
   },
   {
    "duration": 14,
    "start_time": "2022-05-04T10:29:28.832Z"
   },
   {
    "duration": 65,
    "start_time": "2022-05-04T10:29:28.847Z"
   },
   {
    "duration": 17,
    "start_time": "2022-05-04T10:29:28.918Z"
   },
   {
    "duration": 76,
    "start_time": "2022-05-04T10:29:28.937Z"
   },
   {
    "duration": 8,
    "start_time": "2022-05-04T10:29:29.016Z"
   },
   {
    "duration": 15,
    "start_time": "2022-05-04T10:29:29.026Z"
   },
   {
    "duration": 71,
    "start_time": "2022-05-04T10:29:29.042Z"
   },
   {
    "duration": 7,
    "start_time": "2022-05-04T10:29:29.115Z"
   },
   {
    "duration": 41,
    "start_time": "2022-05-04T10:29:29.125Z"
   },
   {
    "duration": 15,
    "start_time": "2022-05-04T10:29:29.168Z"
   },
   {
    "duration": 15,
    "start_time": "2022-05-04T10:29:29.185Z"
   },
   {
    "duration": 7,
    "start_time": "2022-05-04T10:29:29.225Z"
   },
   {
    "duration": 7,
    "start_time": "2022-05-04T10:29:29.234Z"
   },
   {
    "duration": 2679,
    "start_time": "2022-05-04T10:29:29.243Z"
   },
   {
    "duration": 25,
    "start_time": "2022-05-04T10:29:31.924Z"
   },
   {
    "duration": 4276,
    "start_time": "2022-05-04T10:29:31.951Z"
   },
   {
    "duration": 28,
    "start_time": "2022-05-04T10:29:36.229Z"
   },
   {
    "duration": 1942,
    "start_time": "2022-05-04T10:29:36.259Z"
   },
   {
    "duration": 92,
    "start_time": "2022-05-04T10:29:38.203Z"
   },
   {
    "duration": 5563,
    "start_time": "2022-05-04T10:29:38.304Z"
   },
   {
    "duration": 25,
    "start_time": "2022-05-04T10:29:43.868Z"
   },
   {
    "duration": 26,
    "start_time": "2022-05-04T10:29:43.896Z"
   },
   {
    "duration": 2903,
    "start_time": "2022-05-04T10:29:43.926Z"
   },
   {
    "duration": 9,
    "start_time": "2022-05-04T10:29:46.831Z"
   },
   {
    "duration": 14,
    "start_time": "2022-05-04T10:29:46.842Z"
   },
   {
    "duration": 5455,
    "start_time": "2022-05-04T10:29:46.858Z"
   },
   {
    "duration": 11131,
    "start_time": "2022-05-04T10:29:52.322Z"
   },
   {
    "duration": 41160,
    "start_time": "2022-05-04T10:30:03.456Z"
   },
   {
    "duration": 10347,
    "start_time": "2022-05-04T10:30:44.619Z"
   },
   {
    "duration": 1808,
    "start_time": "2022-05-04T10:32:53.030Z"
   },
   {
    "duration": 5,
    "start_time": "2022-05-04T10:32:54.840Z"
   },
   {
    "duration": 731,
    "start_time": "2022-05-04T10:32:54.847Z"
   },
   {
    "duration": 990,
    "start_time": "2022-05-04T10:32:55.581Z"
   },
   {
    "duration": 23,
    "start_time": "2022-05-04T10:32:56.573Z"
   },
   {
    "duration": 18,
    "start_time": "2022-05-04T10:32:56.599Z"
   },
   {
    "duration": 34,
    "start_time": "2022-05-04T10:32:56.618Z"
   },
   {
    "duration": 22,
    "start_time": "2022-05-04T10:32:56.653Z"
   },
   {
    "duration": 83,
    "start_time": "2022-05-04T10:32:56.677Z"
   },
   {
    "duration": 8,
    "start_time": "2022-05-04T10:32:56.764Z"
   },
   {
    "duration": 25,
    "start_time": "2022-05-04T10:32:56.774Z"
   },
   {
    "duration": 61,
    "start_time": "2022-05-04T10:32:56.801Z"
   },
   {
    "duration": 7,
    "start_time": "2022-05-04T10:32:56.864Z"
   },
   {
    "duration": 49,
    "start_time": "2022-05-04T10:32:56.873Z"
   },
   {
    "duration": 21,
    "start_time": "2022-05-04T10:32:56.924Z"
   },
   {
    "duration": 8,
    "start_time": "2022-05-04T10:32:56.947Z"
   },
   {
    "duration": 5,
    "start_time": "2022-05-04T10:32:56.957Z"
   },
   {
    "duration": 17,
    "start_time": "2022-05-04T10:32:56.963Z"
   },
   {
    "duration": 2048,
    "start_time": "2022-05-04T10:32:56.982Z"
   },
   {
    "duration": 20,
    "start_time": "2022-05-04T10:32:59.032Z"
   },
   {
    "duration": 2223,
    "start_time": "2022-05-04T10:32:59.054Z"
   },
   {
    "duration": 34,
    "start_time": "2022-05-04T10:33:01.279Z"
   },
   {
    "duration": 3439,
    "start_time": "2022-05-04T10:33:01.315Z"
   },
   {
    "duration": 94,
    "start_time": "2022-05-04T10:33:04.756Z"
   },
   {
    "duration": 5163,
    "start_time": "2022-05-04T10:33:04.851Z"
   },
   {
    "duration": 13,
    "start_time": "2022-05-04T10:33:10.016Z"
   },
   {
    "duration": 21,
    "start_time": "2022-05-04T10:33:10.032Z"
   },
   {
    "duration": 3330,
    "start_time": "2022-05-04T10:33:10.057Z"
   },
   {
    "duration": 10,
    "start_time": "2022-05-04T10:33:13.398Z"
   },
   {
    "duration": 16,
    "start_time": "2022-05-04T10:33:13.411Z"
   },
   {
    "duration": 6181,
    "start_time": "2022-05-04T10:33:13.430Z"
   },
   {
    "duration": 11352,
    "start_time": "2022-05-04T10:33:19.614Z"
   },
   {
    "duration": 31060,
    "start_time": "2022-05-04T10:33:30.969Z"
   },
   {
    "duration": 7791,
    "start_time": "2022-05-04T10:34:02.030Z"
   },
   {
    "duration": 1682,
    "start_time": "2022-05-04T12:13:14.208Z"
   },
   {
    "duration": 5,
    "start_time": "2022-05-04T12:13:15.893Z"
   },
   {
    "duration": 704,
    "start_time": "2022-05-04T12:13:15.900Z"
   },
   {
    "duration": 897,
    "start_time": "2022-05-04T12:13:16.606Z"
   },
   {
    "duration": 10,
    "start_time": "2022-05-04T12:13:17.505Z"
   },
   {
    "duration": 9,
    "start_time": "2022-05-04T12:13:17.517Z"
   },
   {
    "duration": 25,
    "start_time": "2022-05-04T12:13:17.528Z"
   },
   {
    "duration": 43,
    "start_time": "2022-05-04T12:13:17.554Z"
   },
   {
    "duration": 51,
    "start_time": "2022-05-04T12:13:17.598Z"
   },
   {
    "duration": 7,
    "start_time": "2022-05-04T12:13:17.652Z"
   },
   {
    "duration": 32,
    "start_time": "2022-05-04T12:13:17.660Z"
   },
   {
    "duration": 42,
    "start_time": "2022-05-04T12:13:17.694Z"
   },
   {
    "duration": 7,
    "start_time": "2022-05-04T12:13:17.737Z"
   },
   {
    "duration": 16,
    "start_time": "2022-05-04T12:13:17.745Z"
   },
   {
    "duration": 35,
    "start_time": "2022-05-04T12:13:17.763Z"
   },
   {
    "duration": 8,
    "start_time": "2022-05-04T12:13:17.800Z"
   },
   {
    "duration": 11,
    "start_time": "2022-05-04T12:13:17.809Z"
   },
   {
    "duration": 6,
    "start_time": "2022-05-04T12:13:17.822Z"
   },
   {
    "duration": 1683,
    "start_time": "2022-05-04T12:13:17.830Z"
   },
   {
    "duration": 21,
    "start_time": "2022-05-04T12:13:19.516Z"
   },
   {
    "duration": 1998,
    "start_time": "2022-05-04T12:13:19.539Z"
   },
   {
    "duration": 20,
    "start_time": "2022-05-04T12:13:21.538Z"
   },
   {
    "duration": 1762,
    "start_time": "2022-05-04T12:13:21.560Z"
   },
   {
    "duration": 87,
    "start_time": "2022-05-04T12:13:23.324Z"
   },
   {
    "duration": 4728,
    "start_time": "2022-05-04T12:13:23.414Z"
   },
   {
    "duration": 12,
    "start_time": "2022-05-04T12:13:28.144Z"
   },
   {
    "duration": 18,
    "start_time": "2022-05-04T12:13:28.157Z"
   },
   {
    "duration": 2616,
    "start_time": "2022-05-04T12:13:28.193Z"
   },
   {
    "duration": 7,
    "start_time": "2022-05-04T12:13:30.811Z"
   },
   {
    "duration": 32,
    "start_time": "2022-05-04T12:13:30.819Z"
   },
   {
    "duration": 2642,
    "start_time": "2022-05-04T12:13:30.852Z"
   },
   {
    "duration": 11188,
    "start_time": "2022-05-04T12:13:33.497Z"
   },
   {
    "duration": 29057,
    "start_time": "2022-05-04T12:13:44.687Z"
   },
   {
    "duration": 7483,
    "start_time": "2022-05-04T12:14:13.746Z"
   },
   {
    "duration": 2419,
    "start_time": "2022-05-04T13:13:26.339Z"
   },
   {
    "duration": 5,
    "start_time": "2022-05-04T13:13:28.761Z"
   },
   {
    "duration": 2426,
    "start_time": "2022-05-04T13:13:28.768Z"
   },
   {
    "duration": 983,
    "start_time": "2022-05-04T13:13:31.197Z"
   },
   {
    "duration": 11,
    "start_time": "2022-05-04T13:13:32.182Z"
   },
   {
    "duration": 14,
    "start_time": "2022-05-04T13:13:32.195Z"
   },
   {
    "duration": 27,
    "start_time": "2022-05-04T13:13:32.211Z"
   },
   {
    "duration": 19,
    "start_time": "2022-05-04T13:13:32.240Z"
   },
   {
    "duration": 90,
    "start_time": "2022-05-04T13:13:32.261Z"
   },
   {
    "duration": 7,
    "start_time": "2022-05-04T13:13:32.354Z"
   },
   {
    "duration": 36,
    "start_time": "2022-05-04T13:13:32.364Z"
   },
   {
    "duration": 45,
    "start_time": "2022-05-04T13:13:32.402Z"
   },
   {
    "duration": 7,
    "start_time": "2022-05-04T13:13:32.449Z"
   },
   {
    "duration": 37,
    "start_time": "2022-05-04T13:13:32.458Z"
   },
   {
    "duration": 17,
    "start_time": "2022-05-04T13:13:32.497Z"
   },
   {
    "duration": 10,
    "start_time": "2022-05-04T13:13:32.517Z"
   },
   {
    "duration": 6,
    "start_time": "2022-05-04T13:13:32.529Z"
   },
   {
    "duration": 10,
    "start_time": "2022-05-04T13:13:32.537Z"
   },
   {
    "duration": 1912,
    "start_time": "2022-05-04T13:13:32.549Z"
   },
   {
    "duration": 22,
    "start_time": "2022-05-04T13:13:34.464Z"
   },
   {
    "duration": 2840,
    "start_time": "2022-05-04T13:13:34.487Z"
   },
   {
    "duration": 19,
    "start_time": "2022-05-04T13:13:37.328Z"
   },
   {
    "duration": 1999,
    "start_time": "2022-05-04T13:13:37.349Z"
   },
   {
    "duration": 88,
    "start_time": "2022-05-04T13:13:39.351Z"
   },
   {
    "duration": 5436,
    "start_time": "2022-05-04T13:13:39.441Z"
   },
   {
    "duration": 29,
    "start_time": "2022-05-04T13:13:44.879Z"
   },
   {
    "duration": 35,
    "start_time": "2022-05-04T13:13:44.911Z"
   },
   {
    "duration": 4280,
    "start_time": "2022-05-04T13:13:44.951Z"
   },
   {
    "duration": 8,
    "start_time": "2022-05-04T13:13:49.234Z"
   },
   {
    "duration": 13,
    "start_time": "2022-05-04T13:13:49.244Z"
   },
   {
    "duration": 3136,
    "start_time": "2022-05-04T13:13:49.259Z"
   },
   {
    "duration": 13944,
    "start_time": "2022-05-04T13:13:52.398Z"
   },
   {
    "duration": 29259,
    "start_time": "2022-05-04T13:14:06.344Z"
   },
   {
    "duration": 7604,
    "start_time": "2022-05-04T13:14:35.604Z"
   },
   {
    "duration": 1757,
    "start_time": "2022-05-04T13:42:16.024Z"
   },
   {
    "duration": 4,
    "start_time": "2022-05-04T13:42:17.783Z"
   },
   {
    "duration": 744,
    "start_time": "2022-05-04T13:42:17.792Z"
   },
   {
    "duration": 1000,
    "start_time": "2022-05-04T13:42:18.538Z"
   },
   {
    "duration": 9,
    "start_time": "2022-05-04T13:42:19.540Z"
   },
   {
    "duration": 9,
    "start_time": "2022-05-04T13:42:19.551Z"
   },
   {
    "duration": 51,
    "start_time": "2022-05-04T13:42:19.561Z"
   },
   {
    "duration": 13,
    "start_time": "2022-05-04T13:42:19.613Z"
   },
   {
    "duration": 68,
    "start_time": "2022-05-04T13:42:19.628Z"
   },
   {
    "duration": 9,
    "start_time": "2022-05-04T13:42:19.698Z"
   },
   {
    "duration": 20,
    "start_time": "2022-05-04T13:42:19.710Z"
   },
   {
    "duration": 61,
    "start_time": "2022-05-04T13:42:19.732Z"
   },
   {
    "duration": 10,
    "start_time": "2022-05-04T13:42:19.796Z"
   },
   {
    "duration": 12,
    "start_time": "2022-05-04T13:42:19.809Z"
   },
   {
    "duration": 12,
    "start_time": "2022-05-04T13:42:19.824Z"
   },
   {
    "duration": 8,
    "start_time": "2022-05-04T13:42:19.837Z"
   },
   {
    "duration": 5,
    "start_time": "2022-05-04T13:42:19.846Z"
   },
   {
    "duration": 40,
    "start_time": "2022-05-04T13:42:19.853Z"
   },
   {
    "duration": 1923,
    "start_time": "2022-05-04T13:42:19.894Z"
   },
   {
    "duration": 19,
    "start_time": "2022-05-04T13:42:21.819Z"
   },
   {
    "duration": 2088,
    "start_time": "2022-05-04T13:42:21.840Z"
   },
   {
    "duration": 19,
    "start_time": "2022-05-04T13:42:23.930Z"
   },
   {
    "duration": 1741,
    "start_time": "2022-05-04T13:42:23.951Z"
   },
   {
    "duration": 82,
    "start_time": "2022-05-04T13:42:25.694Z"
   },
   {
    "duration": 4868,
    "start_time": "2022-05-04T13:42:25.777Z"
   },
   {
    "duration": 13,
    "start_time": "2022-05-04T13:42:30.647Z"
   },
   {
    "duration": 28,
    "start_time": "2022-05-04T13:42:30.661Z"
   },
   {
    "duration": 2751,
    "start_time": "2022-05-04T13:42:30.693Z"
   },
   {
    "duration": 8,
    "start_time": "2022-05-04T13:42:33.445Z"
   },
   {
    "duration": 11,
    "start_time": "2022-05-04T13:42:33.455Z"
   },
   {
    "duration": 3724,
    "start_time": "2022-05-04T13:42:33.468Z"
   },
   {
    "duration": 10756,
    "start_time": "2022-05-04T13:42:37.194Z"
   },
   {
    "duration": 30792,
    "start_time": "2022-05-04T13:42:47.951Z"
   },
   {
    "duration": 7714,
    "start_time": "2022-05-04T13:43:18.745Z"
   }
  ],
  "kernelspec": {
   "display_name": "Python 3 (ipykernel)",
   "language": "python",
   "name": "python3"
  },
  "language_info": {
   "codemirror_mode": {
    "name": "ipython",
    "version": 3
   },
   "file_extension": ".py",
   "mimetype": "text/x-python",
   "name": "python",
   "nbconvert_exporter": "python",
   "pygments_lexer": "ipython3",
   "version": "3.9.5"
  },
  "toc": {
   "base_numbering": 1,
   "nav_menu": {},
   "number_sections": true,
   "sideBar": true,
   "skip_h1_title": true,
   "title_cell": "Содержание",
   "title_sidebar": "Contents",
   "toc_cell": false,
   "toc_position": {
    "height": "calc(100% - 180px)",
    "left": "10px",
    "top": "150px",
    "width": "325.8px"
   },
   "toc_section_display": true,
   "toc_window_display": true
  }
 },
 "nbformat": 4,
 "nbformat_minor": 2
}